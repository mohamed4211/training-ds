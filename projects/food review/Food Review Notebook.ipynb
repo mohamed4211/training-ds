{
 "cells": [
  {
   "cell_type": "markdown",
   "source": [
    "### Problem Description"
   ],
   "metadata": {}
  },
  {
   "cell_type": "markdown",
   "source": [
    "## 1) we should define the target column\r\n",
    "## 2) we cleand the text form any punctation or number or stopwords\r\n",
    "## 3) we make vectorize the data\r\n",
    "## 4) we bulid a model that predict posive or negative form the text description\r\n",
    "## 5) save the model in files to reuse it "
   ],
   "metadata": {}
  },
  {
   "cell_type": "markdown",
   "source": [
    "Write some details of the problem ... also mention the link of the dataset"
   ],
   "metadata": {}
  },
  {
   "cell_type": "markdown",
   "source": [
    "### Import Packages"
   ],
   "metadata": {}
  },
  {
   "cell_type": "code",
   "execution_count": 1,
   "source": [
    "# Add environment Packages paths to conda\r\n",
    "import os, sys\r\n",
    "# env_name = \"food_review\"\r\n",
    "# sys.path.append(f\"C:\\\\Environments\\\\{env_name}\\\\lib\\\\site-packages\\\\\")\r\n",
    "\r\n",
    "import pandas as pd\r\n",
    "import numpy as np\r\n",
    "\r\n",
    "# Text preprocessing packages\r\n",
    "import nltk # Text libarary\r\n",
    "# nltk.download('stopwords')\r\n",
    "import string # Removing special characters {#, @, ...}\r\n",
    "import re # Regex Package\r\n",
    "from nltk.corpus import stopwords # Stopwords\r\n",
    "from nltk.stem import SnowballStemmer, WordNetLemmatizer # Stemmer & Lemmatizer\r\n",
    "from gensim.utils import simple_preprocess  # Text ==> List of Tokens\r\n",
    "\r\n",
    "# Text Embedding\r\n",
    "from sklearn.feature_extraction.text import TfidfVectorizer\r\n",
    "\r\n",
    "# Modelling\r\n",
    "from sklearn.model_selection import train_test_split\r\n",
    "from sklearn.ensemble import RandomForestClassifier\r\n",
    "from sklearn.metrics import accuracy_score\r\n",
    "\r\n",
    "# Saving Model\r\n",
    "import pickle\r\n",
    "\r\n",
    "# Visualization Packages\r\n",
    "import seaborn as sns\r\n",
    "import matplotlib.pyplot as plt\r\n",
    "sns.set(font_scale=1.3)\r\n",
    "%matplotlib inline"
   ],
   "outputs": [
    {
     "output_type": "stream",
     "name": "stderr",
     "text": [
      "C:\\Users\\Lenovo\\AppData\\Roaming\\Python\\Python37\\site-packages\\gensim\\similarities\\__init__.py:15: UserWarning: The gensim.similarities.levenshtein submodule is disabled, because the optional Levenshtein package <https://pypi.org/project/python-Levenshtein/> is unavailable. Install Levenhstein (e.g. `pip install python-Levenshtein`) to suppress this warning.\n",
      "  warnings.warn(msg)\n"
     ]
    }
   ],
   "metadata": {}
  },
  {
   "cell_type": "markdown",
   "source": [
    "### Read Dataset"
   ],
   "metadata": {}
  },
  {
   "cell_type": "code",
   "execution_count": 2,
   "source": [
    "%%time\r\n",
    "df = pd.read_csv('Reviews.csv')"
   ],
   "outputs": [
    {
     "output_type": "stream",
     "name": "stdout",
     "text": [
      "Wall time: 3.33 s\n"
     ]
    }
   ],
   "metadata": {}
  },
  {
   "cell_type": "code",
   "execution_count": 3,
   "source": [
    "f\"{df.shape[0]:,} Review\""
   ],
   "outputs": [
    {
     "output_type": "execute_result",
     "data": {
      "text/plain": [
       "'568,454 Review'"
      ]
     },
     "metadata": {},
     "execution_count": 3
    }
   ],
   "metadata": {}
  },
  {
   "cell_type": "code",
   "execution_count": 4,
   "source": [
    "cols = ['Text', 'Score']\r\n",
    "df_text = df[cols].copy()\r\n",
    "df_text.head()"
   ],
   "outputs": [
    {
     "output_type": "execute_result",
     "data": {
      "text/plain": [
       "                                                Text  Score\n",
       "0  I have bought several of the Vitality canned d...      5\n",
       "1  Product arrived labeled as Jumbo Salted Peanut...      1\n",
       "2  This is a confection that has been around a fe...      4\n",
       "3  If you are looking for the secret ingredient i...      2\n",
       "4  Great taffy at a great price.  There was a wid...      5"
      ],
      "text/html": [
       "<div>\n",
       "<style scoped>\n",
       "    .dataframe tbody tr th:only-of-type {\n",
       "        vertical-align: middle;\n",
       "    }\n",
       "\n",
       "    .dataframe tbody tr th {\n",
       "        vertical-align: top;\n",
       "    }\n",
       "\n",
       "    .dataframe thead th {\n",
       "        text-align: right;\n",
       "    }\n",
       "</style>\n",
       "<table border=\"1\" class=\"dataframe\">\n",
       "  <thead>\n",
       "    <tr style=\"text-align: right;\">\n",
       "      <th></th>\n",
       "      <th>Text</th>\n",
       "      <th>Score</th>\n",
       "    </tr>\n",
       "  </thead>\n",
       "  <tbody>\n",
       "    <tr>\n",
       "      <th>0</th>\n",
       "      <td>I have bought several of the Vitality canned d...</td>\n",
       "      <td>5</td>\n",
       "    </tr>\n",
       "    <tr>\n",
       "      <th>1</th>\n",
       "      <td>Product arrived labeled as Jumbo Salted Peanut...</td>\n",
       "      <td>1</td>\n",
       "    </tr>\n",
       "    <tr>\n",
       "      <th>2</th>\n",
       "      <td>This is a confection that has been around a fe...</td>\n",
       "      <td>4</td>\n",
       "    </tr>\n",
       "    <tr>\n",
       "      <th>3</th>\n",
       "      <td>If you are looking for the secret ingredient i...</td>\n",
       "      <td>2</td>\n",
       "    </tr>\n",
       "    <tr>\n",
       "      <th>4</th>\n",
       "      <td>Great taffy at a great price.  There was a wid...</td>\n",
       "      <td>5</td>\n",
       "    </tr>\n",
       "  </tbody>\n",
       "</table>\n",
       "</div>"
      ]
     },
     "metadata": {},
     "execution_count": 4
    }
   ],
   "metadata": {}
  },
  {
   "cell_type": "markdown",
   "source": [
    "### Drop Duplicates\n",
    "Save the Cleaned data-frame also with the variable `df_text`"
   ],
   "metadata": {}
  },
  {
   "cell_type": "code",
   "execution_count": 5,
   "source": [
    "df_text=df_text.drop_duplicates().reset_index(drop=True)\r\n"
   ],
   "outputs": [],
   "metadata": {}
  },
  {
   "cell_type": "code",
   "execution_count": 6,
   "source": [
    "df_text.info()"
   ],
   "outputs": [
    {
     "output_type": "stream",
     "name": "stdout",
     "text": [
      "<class 'pandas.core.frame.DataFrame'>\n",
      "RangeIndex: 393675 entries, 0 to 393674\n",
      "Data columns (total 2 columns):\n",
      " #   Column  Non-Null Count   Dtype \n",
      "---  ------  --------------   ----- \n",
      " 0   Text    393675 non-null  object\n",
      " 1   Score   393675 non-null  int64 \n",
      "dtypes: int64(1), object(1)\n",
      "memory usage: 6.0+ MB\n"
     ]
    }
   ],
   "metadata": {}
  },
  {
   "cell_type": "markdown",
   "source": [
    "### Target Variable Pre-Processing\n",
    "`target` will be \n",
    " - 0 if score < 3 \n",
    " - 1 otherwise"
   ],
   "metadata": {}
  },
  {
   "cell_type": "code",
   "execution_count": 7,
   "source": [
    "def classifer(x):\r\n",
    "    if x>=3:\r\n",
    "        return 1\r\n",
    "    else:\r\n",
    "        return 0\r\n",
    "df_text['target'] =df_text[\"Score\"].apply(classifer)"
   ],
   "outputs": [],
   "metadata": {}
  },
  {
   "cell_type": "markdown",
   "source": [
    "#### Plot Countplot for target Variable"
   ],
   "metadata": {}
  },
  {
   "cell_type": "code",
   "execution_count": 8,
   "source": [
    "x=df_text['target'].head(10000)\r\n",
    "sns.countplot(x)"
   ],
   "outputs": [
    {
     "output_type": "stream",
     "name": "stderr",
     "text": [
      "D:\\python\\anaconda\\envs\\NewEnv\\lib\\site-packages\\seaborn\\_decorators.py:43: FutureWarning: Pass the following variable as a keyword arg: x. From version 0.12, the only valid positional argument will be `data`, and passing other arguments without an explicit keyword will result in an error or misinterpretation.\n",
      "  FutureWarning\n"
     ]
    },
    {
     "output_type": "execute_result",
     "data": {
      "text/plain": [
       "<AxesSubplot:xlabel='target', ylabel='count'>"
      ]
     },
     "metadata": {},
     "execution_count": 8
    },
    {
     "output_type": "display_data",
     "data": {
      "text/plain": [
       "<Figure size 432x288 with 1 Axes>"
      ],
      "image/png": "[encoded data removed]"
     },
     "metadata": {
      "needs_background": "light"
     }
    }
   ],
   "metadata": {}
  },
  {
   "cell_type": "markdown",
   "source": [
    "Notice how such variance is huge ...   \n",
    "Then we need to down-sample such data ... by which both the positive and negative classes are balanced.\n",
    "\n",
    "### Balance Data Target"
   ],
   "metadata": {}
  },
  {
   "cell_type": "code",
   "execution_count": 9,
   "source": [
    "# Sample from positive reviews Same number of negative reviews\r\n",
    "NEG_N = df_text.target.value_counts()[0]\r\n",
    "df_pos = df_text[df_text['target'] == 1]['Text'].sample(NEG_N, replace=False)\r\n",
    "df_text_balanced = pd.concat([df_text.iloc[df_pos.index], df_text[df_text.target == 0]])"
   ],
   "outputs": [],
   "metadata": {}
  },
  {
   "cell_type": "code",
   "execution_count": 10,
   "source": [
    "## PLot the target again after balancing\r\n",
    "## Write your code here\r\n",
    "y=df_text_balanced['target']\r\n",
    "sns.countplot(y)\r\n",
    "plt.ylim(0,1500)"
   ],
   "outputs": [
    {
     "output_type": "stream",
     "name": "stderr",
     "text": [
      "D:\\python\\anaconda\\envs\\NewEnv\\lib\\site-packages\\seaborn\\_decorators.py:43: FutureWarning: Pass the following variable as a keyword arg: x. From version 0.12, the only valid positional argument will be `data`, and passing other arguments without an explicit keyword will result in an error or misinterpretation.\n",
      "  FutureWarning\n"
     ]
    },
    {
     "output_type": "execute_result",
     "data": {
      "text/plain": [
       "(0.0, 1500.0)"
      ]
     },
     "metadata": {},
     "execution_count": 10
    },
    {
     "output_type": "display_data",
     "data": {
      "text/plain": [
       "<Figure size 432x288 with 1 Axes>"
      ],
      "image/png": "[encoded data removed]"
     },
     "metadata": {
      "needs_background": "light"
     }
    }
   ],
   "metadata": {}
  },
  {
   "cell_type": "markdown",
   "source": [
    "### Text Pre-Processing"
   ],
   "metadata": {}
  },
  {
   "cell_type": "code",
   "execution_count": 11,
   "source": [
    "from nltk.corpus import stopwords\r\n",
    "import nltk\r\n",
    "nltk.download('stopwords')\r\n",
    "nltk.download('wordnet')\r\n",
    "nltk.download('punkt')"
   ],
   "outputs": [
    {
     "output_type": "stream",
     "name": "stderr",
     "text": [
      "[nltk_data] Downloading package stopwords to\n",
      "[nltk_data]     C:\\Users\\Lenovo\\AppData\\Roaming\\nltk_data...\n",
      "[nltk_data]   Package stopwords is already up-to-date!\n",
      "[nltk_data] Downloading package wordnet to\n",
      "[nltk_data]     C:\\Users\\Lenovo\\AppData\\Roaming\\nltk_data...\n",
      "[nltk_data]   Package wordnet is already up-to-date!\n",
      "[nltk_data] Downloading package punkt to\n",
      "[nltk_data]     C:\\Users\\Lenovo\\AppData\\Roaming\\nltk_data...\n",
      "[nltk_data]   Package punkt is already up-to-date!\n"
     ]
    },
    {
     "output_type": "execute_result",
     "data": {
      "text/plain": [
       "True"
      ]
     },
     "metadata": {},
     "execution_count": 11
    }
   ],
   "metadata": {}
  },
  {
   "cell_type": "code",
   "execution_count": 12,
   "source": [
    "x=stopwords.words('english')\r\n",
    "stemmer = SnowballStemmer(\"english\")\r\n",
    "lemmatizer= WordNetLemmatizer()"
   ],
   "outputs": [],
   "metadata": {}
  },
  {
   "cell_type": "code",
   "execution_count": 13,
   "source": [
    "not_words={'no','not','nor',\"don't\", \"aren't\", \"couldn't\", \"didn't\", \"doesn't\",\"hadn't\", \"hasn't\", \"haven't\",\r\n",
    " \"isn't\", \"mightn't\", \"mustn't\", \"needn't\", \"shouldn't\", \"wasn't\", \"weren't\" ,\"won't\", \"wouldn't\"}"
   ],
   "outputs": [],
   "metadata": {}
  },
  {
   "cell_type": "code",
   "execution_count": 14,
   "source": [
    "stop_words=set(x).difference(not_words)\r\n",
    "stop_words=list(stop_words)\r\n",
    "punctuation=list(string.punctuation)"
   ],
   "outputs": [],
   "metadata": {}
  },
  {
   "cell_type": "code",
   "execution_count": 15,
   "source": [
    "def cleaning(sentence):\r\n",
    "    word_list = nltk.word_tokenize(sentence.lower())\r\n",
    "    word_list=set(word_list).difference(set(stop_words))\r\n",
    "    word_list=set(word_list).difference(set(punctuation))\r\n",
    "    lemmatized_output = ' '.join([lemmatizer.lemmatize(w.lower(),\"v\") for w in list(word_list) if not w.isdigit()])\r\n",
    "    return lemmatized_output.lower()"
   ],
   "outputs": [],
   "metadata": {}
  },
  {
   "cell_type": "code",
   "execution_count": 16,
   "source": [
    "df_text_balanced['clean_text']=df_text_balanced['Text'].apply(cleaning)\r\n",
    "df_text_balanced"
   ],
   "outputs": [
    {
     "output_type": "execute_result",
     "data": {
      "text/plain": [
       "                                                     Text  Score  target  \\\n",
       "325732  I really like this instant miso.  It is delici...      4       1   \n",
       "164127  If you own this, you have to get one of these ...      5       1   \n",
       "171381  Campbells is the best of the canned Manhattan ...      4       1   \n",
       "392954  Great espresso, taste great consistantly. Plus...      5       1   \n",
       "217044  Each box of Tazo Chai includes 32 ounces of co...      5       1   \n",
       "...                                                   ...    ...     ...   \n",
       "393654  I just bought this soup today at my local groc...      1       0   \n",
       "393655  This soup is mostly broth. Although it has a k...      2       0   \n",
       "393656  It is mostly broth, with the advertised 3/4 cu...      2       0   \n",
       "393667  I had ordered some of these a few months back ...      2       0   \n",
       "393671  I'm disappointed with the flavor. The chocolat...      2       0   \n",
       "\n",
       "                                               clean_text  \n",
       "325732  satisfy love try delicious people really much ...  \n",
       "164127  handy love drawers keep machine quieter space ...  \n",
       "171381  campbells chicago leaf kid see boil 've best o...  \n",
       "392954  economy tax plus great ship save taste no char...  \n",
       "217044  ounces box include roughly amazon milk able no...  \n",
       "...                                                   ...  \n",
       "393654  evaporate try `` dissatisfy three first spit b...  \n",
       "393655  try kick third choice red 've broth find taste...  \n",
       "393656  veggies 1.5 bowl meal advertise really tortell...  \n",
       "393667  eventually order batch months latest br great ...  \n",
       "393671  use milk disappoint time leave note buy thicke...  \n",
       "\n",
       "[114168 rows x 4 columns]"
      ],
      "text/html": [
       "<div>\n",
       "<style scoped>\n",
       "    .dataframe tbody tr th:only-of-type {\n",
       "        vertical-align: middle;\n",
       "    }\n",
       "\n",
       "    .dataframe tbody tr th {\n",
       "        vertical-align: top;\n",
       "    }\n",
       "\n",
       "    .dataframe thead th {\n",
       "        text-align: right;\n",
       "    }\n",
       "</style>\n",
       "<table border=\"1\" class=\"dataframe\">\n",
       "  <thead>\n",
       "    <tr style=\"text-align: right;\">\n",
       "      <th></th>\n",
       "      <th>Text</th>\n",
       "      <th>Score</th>\n",
       "      <th>target</th>\n",
       "      <th>clean_text</th>\n",
       "    </tr>\n",
       "  </thead>\n",
       "  <tbody>\n",
       "    <tr>\n",
       "      <th>325732</th>\n",
       "      <td>I really like this instant miso.  It is delici...</td>\n",
       "      <td>4</td>\n",
       "      <td>1</td>\n",
       "      <td>satisfy love try delicious people really much ...</td>\n",
       "    </tr>\n",
       "    <tr>\n",
       "      <th>164127</th>\n",
       "      <td>If you own this, you have to get one of these ...</td>\n",
       "      <td>5</td>\n",
       "      <td>1</td>\n",
       "      <td>handy love drawers keep machine quieter space ...</td>\n",
       "    </tr>\n",
       "    <tr>\n",
       "      <th>171381</th>\n",
       "      <td>Campbells is the best of the canned Manhattan ...</td>\n",
       "      <td>4</td>\n",
       "      <td>1</td>\n",
       "      <td>campbells chicago leaf kid see boil 've best o...</td>\n",
       "    </tr>\n",
       "    <tr>\n",
       "      <th>392954</th>\n",
       "      <td>Great espresso, taste great consistantly. Plus...</td>\n",
       "      <td>5</td>\n",
       "      <td>1</td>\n",
       "      <td>economy tax plus great ship save taste no char...</td>\n",
       "    </tr>\n",
       "    <tr>\n",
       "      <th>217044</th>\n",
       "      <td>Each box of Tazo Chai includes 32 ounces of co...</td>\n",
       "      <td>5</td>\n",
       "      <td>1</td>\n",
       "      <td>ounces box include roughly amazon milk able no...</td>\n",
       "    </tr>\n",
       "    <tr>\n",
       "      <th>...</th>\n",
       "      <td>...</td>\n",
       "      <td>...</td>\n",
       "      <td>...</td>\n",
       "      <td>...</td>\n",
       "    </tr>\n",
       "    <tr>\n",
       "      <th>393654</th>\n",
       "      <td>I just bought this soup today at my local groc...</td>\n",
       "      <td>1</td>\n",
       "      <td>0</td>\n",
       "      <td>evaporate try `` dissatisfy three first spit b...</td>\n",
       "    </tr>\n",
       "    <tr>\n",
       "      <th>393655</th>\n",
       "      <td>This soup is mostly broth. Although it has a k...</td>\n",
       "      <td>2</td>\n",
       "      <td>0</td>\n",
       "      <td>try kick third choice red 've broth find taste...</td>\n",
       "    </tr>\n",
       "    <tr>\n",
       "      <th>393656</th>\n",
       "      <td>It is mostly broth, with the advertised 3/4 cu...</td>\n",
       "      <td>2</td>\n",
       "      <td>0</td>\n",
       "      <td>veggies 1.5 bowl meal advertise really tortell...</td>\n",
       "    </tr>\n",
       "    <tr>\n",
       "      <th>393667</th>\n",
       "      <td>I had ordered some of these a few months back ...</td>\n",
       "      <td>2</td>\n",
       "      <td>0</td>\n",
       "      <td>eventually order batch months latest br great ...</td>\n",
       "    </tr>\n",
       "    <tr>\n",
       "      <th>393671</th>\n",
       "      <td>I'm disappointed with the flavor. The chocolat...</td>\n",
       "      <td>2</td>\n",
       "      <td>0</td>\n",
       "      <td>use milk disappoint time leave note buy thicke...</td>\n",
       "    </tr>\n",
       "  </tbody>\n",
       "</table>\n",
       "<p>114168 rows × 4 columns</p>\n",
       "</div>"
      ]
     },
     "metadata": {},
     "execution_count": 16
    }
   ],
   "metadata": {}
  },
  {
   "cell_type": "markdown",
   "source": [
    "### Split Test & Training Data"
   ],
   "metadata": {}
  },
  {
   "cell_type": "code",
   "execution_count": 17,
   "source": [
    "X = df_text_balanced.clean_text\r\n",
    "y = df_text_balanced.target\r\n",
    "X_train, X_test, y_train, y_test = train_test_split(X, y, test_size=0.3, random_state=42)\r\n",
    "print(df.shape); print(X_train.shape); print(X_test.shape)"
   ],
   "outputs": [
    {
     "output_type": "stream",
     "name": "stdout",
     "text": [
      "(568454, 10)\n",
      "(79917,)\n",
      "(34251,)\n"
     ]
    }
   ],
   "metadata": {}
  },
  {
   "cell_type": "markdown",
   "source": [
    "### Text Embedding\n",
    " - Use `TfidfVectorizer`\n",
    " - `fit` on the training data only\n",
    " - `transform` on training and test "
   ],
   "metadata": {}
  },
  {
   "cell_type": "code",
   "execution_count": 18,
   "source": [
    "vectorizer=TfidfVectorizer(stop_words=stop_words)\r\n",
    "vectorizer_tfidf=vectorizer.fit(X)\r\n",
    "X_train=vectorizer_tfidf.fit_transform(X_train.values)\r\n",
    "X_test=vectorizer_tfidf.transform(X_test.values)"
   ],
   "outputs": [],
   "metadata": {}
  },
  {
   "cell_type": "code",
   "execution_count": 19,
   "source": [
    "# See the dimensions of your data embeddings before entering to the model\r\n",
    "X_train.shape, X_test.shape"
   ],
   "outputs": [
    {
     "output_type": "execute_result",
     "data": {
      "text/plain": [
       "((79917, 50044), (34251, 50044))"
      ]
     },
     "metadata": {},
     "execution_count": 19
    }
   ],
   "metadata": {}
  },
  {
   "cell_type": "markdown",
   "source": [
    "### Modelling"
   ],
   "metadata": {}
  },
  {
   "cell_type": "code",
   "execution_count": 20,
   "source": [
    "from sklearn.ensemble import RandomForestClassifier\r\n",
    "from sklearn.metrics import accuracy_score"
   ],
   "outputs": [],
   "metadata": {}
  },
  {
   "cell_type": "markdown",
   "source": [
    "##### Sklearn framework steps\n",
    " - init\n",
    " - fit\n",
    " - predict"
   ],
   "metadata": {}
  },
  {
   "cell_type": "code",
   "execution_count": 21,
   "source": [
    "clf = RandomForestClassifier()\r\n",
    "clf.fit(X_train,y_train)\r\n",
    "preds=clf.predict(X_test)\r\n",
    "acc = accuracy_score(preds, y_test)\r\n",
    "print(f\"Model Accuracy = {round(acc*100,2)}%\")"
   ],
   "outputs": [
    {
     "output_type": "stream",
     "name": "stdout",
     "text": [
      "Model Accuracy = 84.5%\n"
     ]
    }
   ],
   "metadata": {}
  },
  {
   "cell_type": "markdown",
   "source": [
    "### Raw Instance Prediction"
   ],
   "metadata": {}
  },
  {
   "cell_type": "code",
   "execution_count": 22,
   "source": [
    "from sklearn import metrics\r\n",
    "Conf_metrics_tfidf=metrics.confusion_matrix(y_test, preds)\r\n",
    "Conf_metrics_tfidf"
   ],
   "outputs": [
    {
     "output_type": "execute_result",
     "data": {
      "text/plain": [
       "array([[14879,  2194],\n",
       "       [ 3115, 14063]], dtype=int64)"
      ]
     },
     "metadata": {},
     "execution_count": 22
    }
   ],
   "metadata": {}
  },
  {
   "cell_type": "code",
   "execution_count": 23,
   "source": [
    "def raw_test(review, model, vectorizer):\r\n",
    "    review=cleaning(review)\r\n",
    "    embedding =vectorizer.transform([review])\r\n",
    "    prediction=model.predict(embedding)\r\n",
    "    if prediction==1:\r\n",
    "        return \"Positive\"\r\n",
    "    else:\r\n",
    "        return 'Negative'\r\n"
   ],
   "outputs": [],
   "metadata": {}
  },
  {
   "cell_type": "code",
   "execution_count": 24,
   "source": [
    "review_1 = \"That's a good Dish, Good Job\"\r\n",
    "review_2 = \"That's the worst Dish ever tasted\""
   ],
   "outputs": [],
   "metadata": {}
  },
  {
   "cell_type": "code",
   "execution_count": 25,
   "source": [
    "raw_test(review_1, clf, vectorizer_tfidf)"
   ],
   "outputs": [
    {
     "output_type": "execute_result",
     "data": {
      "text/plain": [
       "'Positive'"
      ]
     },
     "metadata": {},
     "execution_count": 25
    }
   ],
   "metadata": {}
  },
  {
   "cell_type": "code",
   "execution_count": 26,
   "source": [
    "raw_test(review_2, clf, vectorizer_tfidf)"
   ],
   "outputs": [
    {
     "output_type": "execute_result",
     "data": {
      "text/plain": [
       "'Negative'"
      ]
     },
     "metadata": {},
     "execution_count": 26
    }
   ],
   "metadata": {}
  },
  {
   "cell_type": "markdown",
   "source": [
    "### Saving Models for Deployment"
   ],
   "metadata": {}
  },
  {
   "cell_type": "code",
   "execution_count": 27,
   "source": [
    "import pickle"
   ],
   "outputs": [],
   "metadata": {}
  },
  {
   "cell_type": "code",
   "execution_count": 28,
   "source": [
    "model_name = 'rf_model.pk'\r\n",
    "vectorizer_name = 'tfidf_vectorizer.pk'"
   ],
   "outputs": [],
   "metadata": {}
  },
  {
   "cell_type": "code",
   "execution_count": 29,
   "source": [
    "\r\n",
    "model_path = os.path.join('/', model_name)\r\n",
    "vect_path = os.path.join('/', vectorizer_name)\r\n",
    "pickle.dump(clf,open(model_name,\"wb\"))\r\n",
    "pickle.dump(vectorizer,open(vectorizer_name,\"wb\"))\r\n",
    "\r\n"
   ],
   "outputs": [],
   "metadata": {}
  },
  {
   "cell_type": "markdown",
   "source": [
    "### Load model Again and test them"
   ],
   "metadata": {}
  },
  {
   "cell_type": "code",
   "execution_count": 30,
   "source": [
    "loaded_model =pickle.load(open(model_name,'rb'))\r\n",
    "loaded_vect = pickle.load(open(vectorizer_name,'rb'))"
   ],
   "outputs": [],
   "metadata": {}
  },
  {
   "cell_type": "code",
   "execution_count": 31,
   "source": [
    "raw_test(review_1, loaded_model, loaded_vect)"
   ],
   "outputs": [
    {
     "output_type": "execute_result",
     "data": {
      "text/plain": [
       "'Positive'"
      ]
     },
     "metadata": {},
     "execution_count": 31
    }
   ],
   "metadata": {}
  },
  {
   "cell_type": "code",
   "execution_count": 32,
   "source": [
    "raw_test(review_2, loaded_model, loaded_vect)"
   ],
   "outputs": [
    {
     "output_type": "execute_result",
     "data": {
      "text/plain": [
       "'Negative'"
      ]
     },
     "metadata": {},
     "execution_count": 32
    }
   ],
   "metadata": {}
  },
  {
   "cell_type": "markdown",
   "source": [
    "# Great Job !\n",
    "### Now Deploy your ML model using Streamlit Framework"
   ],
   "metadata": {}
  }
 ],
 "metadata": {
  "interpreter": {
   "hash": "3f8f5e4626f6ab8d0c196c87ac1f7e85762bc25247b3a3f413265d610a607eb2"
  },
  "kernelspec": {
   "display_name": "Python 3",
   "language": "python",
   "name": "python3"
  },
  "language_info": {
   "codemirror_mode": {
    "name": "ipython",
    "version": 3
   },
   "file_extension": ".py",
   "mimetype": "text/x-python",
   "name": "python",
   "nbconvert_exporter": "python",
   "pygments_lexer": "ipython3",
   "version": "3.7.10"
  }
 },
 "nbformat": 4,
 "nbformat_minor": 2
}