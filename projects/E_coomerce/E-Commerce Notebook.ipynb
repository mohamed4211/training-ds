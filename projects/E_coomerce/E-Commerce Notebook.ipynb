{
 "cells": [
  {
   "cell_type": "markdown",
   "source": [
    "### Problem Description"
   ],
   "metadata": {}
  },
  {
   "cell_type": "markdown",
   "source": [
    "## is to analysis the data and clean it and calculate the revenue of the top 10 customer and them countrys and the revenue par the time "
   ],
   "metadata": {}
  },
  {
   "cell_type": "markdown",
   "source": [
    "Write some details about the problem"
   ],
   "metadata": {}
  },
  {
   "cell_type": "markdown",
   "source": [
    "## Packages"
   ],
   "metadata": {
    "_uuid": "09ddc4eab14c3abc5d8a484a7b9125c5278cb1ce"
   }
  },
  {
   "cell_type": "code",
   "execution_count": 2,
   "source": [
    "import numpy as np \r\n",
    "import pandas as pd \r\n",
    "import matplotlib.pyplot as plt\r\n",
    "%matplotlib inline\r\n",
    "import seaborn as sns\r\n",
    "sns.set(font_scale=1.3)\r\n",
    "\r\n",
    "from sklearn.preprocessing import LabelBinarizer\r\n",
    "from sklearn.feature_extraction.text import TfidfVectorizer, CountVectorizer\r\n",
    "import scipy\r\n",
    "from sklearn.linear_model import Ridge\r\n"
   ],
   "outputs": [],
   "metadata": {
    "_cell_guid": "b1076dfc-b9ad-4769-8c92-a6c4dae69d19",
    "_kg_hide-input": true,
    "_uuid": "8f2839f25d086af736a60e9eeb907d3b93b6e0e5",
    "execution": {
     "iopub.execute_input": "2021-08-04T17:56:25.952501Z",
     "iopub.status.busy": "2021-08-04T17:56:25.952218Z",
     "iopub.status.idle": "2021-08-04T17:56:26.490344Z",
     "shell.execute_reply": "2021-08-04T17:56:26.489402Z",
     "shell.execute_reply.started": "2021-08-04T17:56:25.952456Z"
    }
   }
  },
  {
   "cell_type": "markdown",
   "source": [
    "### Read Dataset"
   ],
   "metadata": {}
  },
  {
   "cell_type": "code",
   "execution_count": 3,
   "source": [
    "df = pd.read_csv(\"C:/Users/20106/Desktop/Online Retail.CSV\", encoding=\"ISO-8859-1\", dtype={'CustomerID': str}, parse_dates=['InvoiceDate'])\r\n",
    "df.shape\r\n"
   ],
   "outputs": [
    {
     "output_type": "execute_result",
     "data": {
      "text/plain": [
       "(541909, 8)"
      ]
     },
     "metadata": {},
     "execution_count": 3
    }
   ],
   "metadata": {
    "_cell_guid": "79c7e3d0-c299-4dcb-8224-4455121ee9b0",
    "_uuid": "d629ff2d2480ee46fbb7e2d37f6b5fab8052498a",
    "execution": {
     "iopub.execute_input": "2021-08-04T17:56:38.045866Z",
     "iopub.status.busy": "2021-08-04T17:56:38.045288Z",
     "iopub.status.idle": "2021-08-04T17:58:20.856557Z",
     "shell.execute_reply": "2021-08-04T17:58:20.855649Z",
     "shell.execute_reply.started": "2021-08-04T17:56:38.045818Z"
    }
   }
  },
  {
   "cell_type": "code",
   "execution_count": 4,
   "source": [
    "df.head()"
   ],
   "outputs": [
    {
     "output_type": "execute_result",
     "data": {
      "text/plain": [
       "  InvoiceNo StockCode                          Description  Quantity  \\\n",
       "0    536365    85123A   WHITE HANGING HEART T-LIGHT HOLDER         6   \n",
       "1    536365     71053                  WHITE METAL LANTERN         6   \n",
       "2    536365    84406B       CREAM CUPID HEARTS COAT HANGER         8   \n",
       "3    536365    84029G  KNITTED UNION FLAG HOT WATER BOTTLE         6   \n",
       "4    536365    84029E       RED WOOLLY HOTTIE WHITE HEART.         6   \n",
       "\n",
       "          InvoiceDate  UnitPrice CustomerID         Country  \n",
       "0 2010-12-01 08:26:00       2.55      17850  United Kingdom  \n",
       "1 2010-12-01 08:26:00       3.39      17850  United Kingdom  \n",
       "2 2010-12-01 08:26:00       2.75      17850  United Kingdom  \n",
       "3 2010-12-01 08:26:00       3.39      17850  United Kingdom  \n",
       "4 2010-12-01 08:26:00       3.39      17850  United Kingdom  "
      ],
      "text/html": [
       "<div>\n",
       "<style scoped>\n",
       "    .dataframe tbody tr th:only-of-type {\n",
       "        vertical-align: middle;\n",
       "    }\n",
       "\n",
       "    .dataframe tbody tr th {\n",
       "        vertical-align: top;\n",
       "    }\n",
       "\n",
       "    .dataframe thead th {\n",
       "        text-align: right;\n",
       "    }\n",
       "</style>\n",
       "<table border=\"1\" class=\"dataframe\">\n",
       "  <thead>\n",
       "    <tr style=\"text-align: right;\">\n",
       "      <th></th>\n",
       "      <th>InvoiceNo</th>\n",
       "      <th>StockCode</th>\n",
       "      <th>Description</th>\n",
       "      <th>Quantity</th>\n",
       "      <th>InvoiceDate</th>\n",
       "      <th>UnitPrice</th>\n",
       "      <th>CustomerID</th>\n",
       "      <th>Country</th>\n",
       "    </tr>\n",
       "  </thead>\n",
       "  <tbody>\n",
       "    <tr>\n",
       "      <th>0</th>\n",
       "      <td>536365</td>\n",
       "      <td>85123A</td>\n",
       "      <td>WHITE HANGING HEART T-LIGHT HOLDER</td>\n",
       "      <td>6</td>\n",
       "      <td>2010-12-01 08:26:00</td>\n",
       "      <td>2.55</td>\n",
       "      <td>17850</td>\n",
       "      <td>United Kingdom</td>\n",
       "    </tr>\n",
       "    <tr>\n",
       "      <th>1</th>\n",
       "      <td>536365</td>\n",
       "      <td>71053</td>\n",
       "      <td>WHITE METAL LANTERN</td>\n",
       "      <td>6</td>\n",
       "      <td>2010-12-01 08:26:00</td>\n",
       "      <td>3.39</td>\n",
       "      <td>17850</td>\n",
       "      <td>United Kingdom</td>\n",
       "    </tr>\n",
       "    <tr>\n",
       "      <th>2</th>\n",
       "      <td>536365</td>\n",
       "      <td>84406B</td>\n",
       "      <td>CREAM CUPID HEARTS COAT HANGER</td>\n",
       "      <td>8</td>\n",
       "      <td>2010-12-01 08:26:00</td>\n",
       "      <td>2.75</td>\n",
       "      <td>17850</td>\n",
       "      <td>United Kingdom</td>\n",
       "    </tr>\n",
       "    <tr>\n",
       "      <th>3</th>\n",
       "      <td>536365</td>\n",
       "      <td>84029G</td>\n",
       "      <td>KNITTED UNION FLAG HOT WATER BOTTLE</td>\n",
       "      <td>6</td>\n",
       "      <td>2010-12-01 08:26:00</td>\n",
       "      <td>3.39</td>\n",
       "      <td>17850</td>\n",
       "      <td>United Kingdom</td>\n",
       "    </tr>\n",
       "    <tr>\n",
       "      <th>4</th>\n",
       "      <td>536365</td>\n",
       "      <td>84029E</td>\n",
       "      <td>RED WOOLLY HOTTIE WHITE HEART.</td>\n",
       "      <td>6</td>\n",
       "      <td>2010-12-01 08:26:00</td>\n",
       "      <td>3.39</td>\n",
       "      <td>17850</td>\n",
       "      <td>United Kingdom</td>\n",
       "    </tr>\n",
       "  </tbody>\n",
       "</table>\n",
       "</div>"
      ]
     },
     "metadata": {},
     "execution_count": 4
    }
   ],
   "metadata": {
    "execution": {
     "iopub.execute_input": "2021-08-04T17:58:20.858348Z",
     "iopub.status.busy": "2021-08-04T17:58:20.857940Z",
     "iopub.status.idle": "2021-08-04T17:58:20.891127Z",
     "shell.execute_reply": "2021-08-04T17:58:20.890310Z",
     "shell.execute_reply.started": "2021-08-04T17:58:20.858259Z"
    }
   }
  },
  {
   "cell_type": "markdown",
   "source": [
    "## EDA"
   ],
   "metadata": {}
  },
  {
   "cell_type": "code",
   "execution_count": 5,
   "source": [
    "missing_percentage =df.isna().sum()/df.shape[0]\r\n",
    "missing_percentage"
   ],
   "outputs": [
    {
     "output_type": "execute_result",
     "data": {
      "text/plain": [
       "InvoiceNo      0.000000\n",
       "StockCode      0.000000\n",
       "Description    0.002683\n",
       "Quantity       0.000000\n",
       "InvoiceDate    0.000000\n",
       "UnitPrice      0.000000\n",
       "CustomerID     0.249267\n",
       "Country        0.000000\n",
       "dtype: float64"
      ]
     },
     "metadata": {},
     "execution_count": 5
    }
   ],
   "metadata": {
    "execution": {
     "iopub.execute_input": "2021-08-04T17:58:20.892675Z",
     "iopub.status.busy": "2021-08-04T17:58:20.892389Z",
     "iopub.status.idle": "2021-08-04T17:58:21.240415Z",
     "shell.execute_reply": "2021-08-04T17:58:21.239666Z",
     "shell.execute_reply.started": "2021-08-04T17:58:20.892622Z"
    }
   }
  },
  {
   "cell_type": "code",
   "execution_count": 6,
   "source": [
    "# Removing None Customer IDs ... save clean dataframe with same variable `df`\r\n",
    "... ## Write your code here\r\n",
    "df=df.dropna()\r\n",
    "df.info()"
   ],
   "outputs": [
    {
     "output_type": "stream",
     "name": "stdout",
     "text": [
      "<class 'pandas.core.frame.DataFrame'>\n",
      "Int64Index: 406829 entries, 0 to 541908\n",
      "Data columns (total 8 columns):\n",
      " #   Column       Non-Null Count   Dtype         \n",
      "---  ------       --------------   -----         \n",
      " 0   InvoiceNo    406829 non-null  object        \n",
      " 1   StockCode    406829 non-null  object        \n",
      " 2   Description  406829 non-null  object        \n",
      " 3   Quantity     406829 non-null  int64         \n",
      " 4   InvoiceDate  406829 non-null  datetime64[ns]\n",
      " 5   UnitPrice    406829 non-null  float64       \n",
      " 6   CustomerID   406829 non-null  object        \n",
      " 7   Country      406829 non-null  object        \n",
      "dtypes: datetime64[ns](1), float64(1), int64(1), object(5)\n",
      "memory usage: 20.2+ MB\n"
     ]
    }
   ],
   "metadata": {
    "execution": {
     "iopub.execute_input": "2021-08-04T17:58:21.297130Z",
     "iopub.status.busy": "2021-08-04T17:58:21.296905Z",
     "iopub.status.idle": "2021-08-04T17:58:21.406636Z",
     "shell.execute_reply": "2021-08-04T17:58:21.405754Z",
     "shell.execute_reply.started": "2021-08-04T17:58:21.297087Z"
    }
   }
  },
  {
   "cell_type": "code",
   "execution_count": 7,
   "source": [
    "# Just for Checking \r\n",
    "df.isna().sum()"
   ],
   "outputs": [
    {
     "output_type": "execute_result",
     "data": {
      "text/plain": [
       "InvoiceNo      0\n",
       "StockCode      0\n",
       "Description    0\n",
       "Quantity       0\n",
       "InvoiceDate    0\n",
       "UnitPrice      0\n",
       "CustomerID     0\n",
       "Country        0\n",
       "dtype: int64"
      ]
     },
     "metadata": {},
     "execution_count": 7
    }
   ],
   "metadata": {
    "execution": {
     "iopub.execute_input": "2021-08-04T17:58:21.413526Z",
     "iopub.status.busy": "2021-08-04T17:58:21.413302Z",
     "iopub.status.idle": "2021-08-04T17:58:21.668471Z",
     "shell.execute_reply": "2021-08-04T17:58:21.667797Z",
     "shell.execute_reply.started": "2021-08-04T17:58:21.413487Z"
    },
    "scrolled": true
   }
  },
  {
   "cell_type": "markdown",
   "source": [
    "### Q1: Which Country makes the most transactions?"
   ],
   "metadata": {}
  },
  {
   "cell_type": "code",
   "execution_count": 8,
   "source": [
    "x=df.Country.value_counts()[:20]\r\n",
    "x_label=x.index\r\n",
    "plt.figure(figsize=(30,8))\r\n",
    "plt.bar(x_label,x,0.8,color=sns.color_palette('BuGn_r',len(x)))\r\n",
    "plt.yscale('log')\r\n",
    "plt.show()"
   ],
   "outputs": [
    {
     "output_type": "display_data",
     "data": {
      "text/plain": [
       "<Figure size 2160x576 with 1 Axes>"
      ],
      "image/svg+xml": "<?xml version=\"1.0\" encoding=\"utf-8\" standalone=\"no\"?>\r\n<!DOCTYPE svg PUBLIC \"-//W3C//DTD SVG 1.1//EN\"\r\n  \"http://www.w3.org/Graphics/SVG/1.1/DTD/svg11.dtd\">\r\n<svg height=\"472.199656pt\" version=\"1.1\" viewBox=\"0 0 1720.351 472.199656\" width=\"1720.351pt\" xmlns=\"http://www.w3.org/2000/svg\" xmlns:xlink=\"http://www.w3.org/1999/xlink\">\r\n <metadata>\r\n  <rdf:RDF xmlns:cc=\"http://creativecommons.org/ns#\" xmlns:dc=\"http://purl.org/dc/elements/1.1/\" xmlns:rdf=\"http://www.w3.org/1999/02/22-rdf-syntax-ns#\">\r\n   <cc:Work>\r\n    <dc:type rdf:resource=\"http://purl.org/dc/dcmitype/StillImage\"/>\r\n    <dc:date>2021-08-21T17:41:17.351206</dc:date>\r\n    <dc:format>image/svg+xml</dc:format>\r\n    <dc:creator>\r\n     <cc:Agent>\r\n      <dc:title>Matplotlib v3.4.2, https://matplotlib.org/</dc:title>\r\n     </cc:Agent>\r\n    </dc:creator>\r\n   </cc:Work>\r\n  </rdf:RDF>\r\n </metadata>\r\n <defs>\r\n  <style type=\"text/css\">*{stroke-linecap:butt;stroke-linejoin:round;}</style>\r\n </defs>\r\n <g id=\"figure_1\">\r\n  <g id=\"patch_1\">\r\n   <path d=\"M 0 472.199656 \r\nL 1720.351 472.199656 \r\nL 1720.351 0 \r\nL 0 0 \r\nz\r\n\" style=\"fill:#ffffff;\"/>\r\n  </g>\r\n  <g id=\"axes_1\">\r\n   <g id=\"patch_2\">\r\n    <path d=\"M 39.151 442.08 \r\nL 1713.151 442.08 \r\nL 1713.151 7.2 \r\nL 39.151 7.2 \r\nz\r\n\" style=\"fill:#eaeaf2;\"/>\r\n   </g>\r\n   <g id=\"matplotlib.axis_1\">\r\n    <g id=\"xtick_1\">\r\n     <g id=\"line2d_1\">\r\n      <path clip-path=\"url(#pe43bd9ba7e)\" d=\"M 145.985711 442.08 \r\nL 145.985711 7.2 \r\n\" style=\"fill:none;stroke:#ffffff;stroke-linecap:round;\"/>\r\n     </g>\r\n     <g id=\"text_1\">\r\n      <!-- United Kingdom -->\r\n      <g style=\"fill:#262626;\" transform=\"translate(95.114578 461.815672)scale(0.143 -0.143)\">\r\n       <defs>\r\n        <path d=\"M 3500 4581 \r\nL 4106 4581 \r\nL 4106 1934 \r\nQ 4106 1244 3950 837 \r\nQ 3794 431 3386 176 \r\nQ 2978 -78 2316 -78 \r\nQ 1672 -78 1262 144 \r\nQ 853 366 678 786 \r\nQ 503 1206 503 1934 \r\nL 503 4581 \r\nL 1109 4581 \r\nL 1109 1938 \r\nQ 1109 1341 1220 1058 \r\nQ 1331 775 1601 622 \r\nQ 1872 469 2263 469 \r\nQ 2931 469 3215 772 \r\nQ 3500 1075 3500 1938 \r\nL 3500 4581 \r\nz\r\n\" id=\"ArialMT-55\" transform=\"scale(0.015625)\"/>\r\n        <path d=\"M 422 0 \r\nL 422 3319 \r\nL 928 3319 \r\nL 928 2847 \r\nQ 1294 3394 1984 3394 \r\nQ 2284 3394 2536 3286 \r\nQ 2788 3178 2913 3003 \r\nQ 3038 2828 3088 2588 \r\nQ 3119 2431 3119 2041 \r\nL 3119 0 \r\nL 2556 0 \r\nL 2556 2019 \r\nQ 2556 2363 2490 2533 \r\nQ 2425 2703 2258 2804 \r\nQ 2091 2906 1866 2906 \r\nQ 1506 2906 1245 2678 \r\nQ 984 2450 984 1813 \r\nL 984 0 \r\nL 422 0 \r\nz\r\n\" id=\"ArialMT-6e\" transform=\"scale(0.015625)\"/>\r\n        <path d=\"M 425 3934 \r\nL 425 4581 \r\nL 988 4581 \r\nL 988 3934 \r\nL 425 3934 \r\nz\r\nM 425 0 \r\nL 425 3319 \r\nL 988 3319 \r\nL 988 0 \r\nL 425 0 \r\nz\r\n\" id=\"ArialMT-69\" transform=\"scale(0.015625)\"/>\r\n        <path d=\"M 1650 503 \r\nL 1731 6 \r\nQ 1494 -44 1306 -44 \r\nQ 1000 -44 831 53 \r\nQ 663 150 594 308 \r\nQ 525 466 525 972 \r\nL 525 2881 \r\nL 113 2881 \r\nL 113 3319 \r\nL 525 3319 \r\nL 525 4141 \r\nL 1084 4478 \r\nL 1084 3319 \r\nL 1650 3319 \r\nL 1650 2881 \r\nL 1084 2881 \r\nL 1084 941 \r\nQ 1084 700 1114 631 \r\nQ 1144 563 1211 522 \r\nQ 1278 481 1403 481 \r\nQ 1497 481 1650 503 \r\nz\r\n\" id=\"ArialMT-74\" transform=\"scale(0.015625)\"/>\r\n        <path d=\"M 2694 1069 \r\nL 3275 997 \r\nQ 3138 488 2766 206 \r\nQ 2394 -75 1816 -75 \r\nQ 1088 -75 661 373 \r\nQ 234 822 234 1631 \r\nQ 234 2469 665 2931 \r\nQ 1097 3394 1784 3394 \r\nQ 2450 3394 2872 2941 \r\nQ 3294 2488 3294 1666 \r\nQ 3294 1616 3291 1516 \r\nL 816 1516 \r\nQ 847 969 1125 678 \r\nQ 1403 388 1819 388 \r\nQ 2128 388 2347 550 \r\nQ 2566 713 2694 1069 \r\nz\r\nM 847 1978 \r\nL 2700 1978 \r\nQ 2663 2397 2488 2606 \r\nQ 2219 2931 1791 2931 \r\nQ 1403 2931 1139 2672 \r\nQ 875 2413 847 1978 \r\nz\r\n\" id=\"ArialMT-65\" transform=\"scale(0.015625)\"/>\r\n        <path d=\"M 2575 0 \r\nL 2575 419 \r\nQ 2259 -75 1647 -75 \r\nQ 1250 -75 917 144 \r\nQ 584 363 401 755 \r\nQ 219 1147 219 1656 \r\nQ 219 2153 384 2558 \r\nQ 550 2963 881 3178 \r\nQ 1213 3394 1622 3394 \r\nQ 1922 3394 2156 3267 \r\nQ 2391 3141 2538 2938 \r\nL 2538 4581 \r\nL 3097 4581 \r\nL 3097 0 \r\nL 2575 0 \r\nz\r\nM 797 1656 \r\nQ 797 1019 1065 703 \r\nQ 1334 388 1700 388 \r\nQ 2069 388 2326 689 \r\nQ 2584 991 2584 1609 \r\nQ 2584 2291 2321 2609 \r\nQ 2059 2928 1675 2928 \r\nQ 1300 2928 1048 2622 \r\nQ 797 2316 797 1656 \r\nz\r\n\" id=\"ArialMT-64\" transform=\"scale(0.015625)\"/>\r\n        <path id=\"ArialMT-20\" transform=\"scale(0.015625)\"/>\r\n        <path d=\"M 469 0 \r\nL 469 4581 \r\nL 1075 4581 \r\nL 1075 2309 \r\nL 3350 4581 \r\nL 4172 4581 \r\nL 2250 2725 \r\nL 4256 0 \r\nL 3456 0 \r\nL 1825 2319 \r\nL 1075 1588 \r\nL 1075 0 \r\nL 469 0 \r\nz\r\n\" id=\"ArialMT-4b\" transform=\"scale(0.015625)\"/>\r\n        <path d=\"M 319 -275 \r\nL 866 -356 \r\nQ 900 -609 1056 -725 \r\nQ 1266 -881 1628 -881 \r\nQ 2019 -881 2231 -725 \r\nQ 2444 -569 2519 -288 \r\nQ 2563 -116 2559 434 \r\nQ 2191 0 1641 0 \r\nQ 956 0 581 494 \r\nQ 206 988 206 1678 \r\nQ 206 2153 378 2554 \r\nQ 550 2956 876 3175 \r\nQ 1203 3394 1644 3394 \r\nQ 2231 3394 2613 2919 \r\nL 2613 3319 \r\nL 3131 3319 \r\nL 3131 450 \r\nQ 3131 -325 2973 -648 \r\nQ 2816 -972 2473 -1159 \r\nQ 2131 -1347 1631 -1347 \r\nQ 1038 -1347 672 -1080 \r\nQ 306 -813 319 -275 \r\nz\r\nM 784 1719 \r\nQ 784 1066 1043 766 \r\nQ 1303 466 1694 466 \r\nQ 2081 466 2343 764 \r\nQ 2606 1063 2606 1700 \r\nQ 2606 2309 2336 2618 \r\nQ 2066 2928 1684 2928 \r\nQ 1309 2928 1046 2623 \r\nQ 784 2319 784 1719 \r\nz\r\n\" id=\"ArialMT-67\" transform=\"scale(0.015625)\"/>\r\n        <path d=\"M 213 1659 \r\nQ 213 2581 725 3025 \r\nQ 1153 3394 1769 3394 \r\nQ 2453 3394 2887 2945 \r\nQ 3322 2497 3322 1706 \r\nQ 3322 1066 3130 698 \r\nQ 2938 331 2570 128 \r\nQ 2203 -75 1769 -75 \r\nQ 1072 -75 642 372 \r\nQ 213 819 213 1659 \r\nz\r\nM 791 1659 \r\nQ 791 1022 1069 705 \r\nQ 1347 388 1769 388 \r\nQ 2188 388 2466 706 \r\nQ 2744 1025 2744 1678 \r\nQ 2744 2294 2464 2611 \r\nQ 2184 2928 1769 2928 \r\nQ 1347 2928 1069 2612 \r\nQ 791 2297 791 1659 \r\nz\r\n\" id=\"ArialMT-6f\" transform=\"scale(0.015625)\"/>\r\n        <path d=\"M 422 0 \r\nL 422 3319 \r\nL 925 3319 \r\nL 925 2853 \r\nQ 1081 3097 1340 3245 \r\nQ 1600 3394 1931 3394 \r\nQ 2300 3394 2536 3241 \r\nQ 2772 3088 2869 2813 \r\nQ 3263 3394 3894 3394 \r\nQ 4388 3394 4653 3120 \r\nQ 4919 2847 4919 2278 \r\nL 4919 0 \r\nL 4359 0 \r\nL 4359 2091 \r\nQ 4359 2428 4304 2576 \r\nQ 4250 2725 4106 2815 \r\nQ 3963 2906 3769 2906 \r\nQ 3419 2906 3187 2673 \r\nQ 2956 2441 2956 1928 \r\nL 2956 0 \r\nL 2394 0 \r\nL 2394 2156 \r\nQ 2394 2531 2256 2718 \r\nQ 2119 2906 1806 2906 \r\nQ 1569 2906 1367 2781 \r\nQ 1166 2656 1075 2415 \r\nQ 984 2175 984 1722 \r\nL 984 0 \r\nL 422 0 \r\nz\r\n\" id=\"ArialMT-6d\" transform=\"scale(0.015625)\"/>\r\n       </defs>\r\n       <use xlink:href=\"#ArialMT-55\"/>\r\n       <use x=\"72.216797\" xlink:href=\"#ArialMT-6e\"/>\r\n       <use x=\"127.832031\" xlink:href=\"#ArialMT-69\"/>\r\n       <use x=\"150.048828\" xlink:href=\"#ArialMT-74\"/>\r\n       <use x=\"177.832031\" xlink:href=\"#ArialMT-65\"/>\r\n       <use x=\"233.447266\" xlink:href=\"#ArialMT-64\"/>\r\n       <use x=\"289.0625\" xlink:href=\"#ArialMT-20\"/>\r\n       <use x=\"316.845703\" xlink:href=\"#ArialMT-4b\"/>\r\n       <use x=\"383.544922\" xlink:href=\"#ArialMT-69\"/>\r\n       <use x=\"405.761719\" xlink:href=\"#ArialMT-6e\"/>\r\n       <use x=\"461.376953\" xlink:href=\"#ArialMT-67\"/>\r\n       <use x=\"516.992188\" xlink:href=\"#ArialMT-64\"/>\r\n       <use x=\"572.607422\" xlink:href=\"#ArialMT-6f\"/>\r\n       <use x=\"628.222656\" xlink:href=\"#ArialMT-6d\"/>\r\n      </g>\r\n     </g>\r\n    </g>\r\n    <g id=\"xtick_2\">\r\n     <g id=\"line2d_2\">\r\n      <path clip-path=\"url(#pe43bd9ba7e)\" d=\"M 222.845215 442.08 \r\nL 222.845215 7.2 \r\n\" style=\"fill:none;stroke:#ffffff;stroke-linecap:round;\"/>\r\n     </g>\r\n     <g id=\"text_2\">\r\n      <!-- Germany -->\r\n      <g style=\"fill:#262626;\" transform=\"translate(193.444191 461.989953)scale(0.143 -0.143)\">\r\n       <defs>\r\n        <path d=\"M 2638 1797 \r\nL 2638 2334 \r\nL 4578 2338 \r\nL 4578 638 \r\nQ 4131 281 3656 101 \r\nQ 3181 -78 2681 -78 \r\nQ 2006 -78 1454 211 \r\nQ 903 500 622 1047 \r\nQ 341 1594 341 2269 \r\nQ 341 2938 620 3517 \r\nQ 900 4097 1425 4378 \r\nQ 1950 4659 2634 4659 \r\nQ 3131 4659 3532 4498 \r\nQ 3934 4338 4162 4050 \r\nQ 4391 3763 4509 3300 \r\nL 3963 3150 \r\nQ 3859 3500 3706 3700 \r\nQ 3553 3900 3268 4020 \r\nQ 2984 4141 2638 4141 \r\nQ 2222 4141 1919 4014 \r\nQ 1616 3888 1430 3681 \r\nQ 1244 3475 1141 3228 \r\nQ 966 2803 966 2306 \r\nQ 966 1694 1177 1281 \r\nQ 1388 869 1791 669 \r\nQ 2194 469 2647 469 \r\nQ 3041 469 3416 620 \r\nQ 3791 772 3984 944 \r\nL 3984 1797 \r\nL 2638 1797 \r\nz\r\n\" id=\"ArialMT-47\" transform=\"scale(0.015625)\"/>\r\n        <path d=\"M 416 0 \r\nL 416 3319 \r\nL 922 3319 \r\nL 922 2816 \r\nQ 1116 3169 1280 3281 \r\nQ 1444 3394 1641 3394 \r\nQ 1925 3394 2219 3213 \r\nL 2025 2691 \r\nQ 1819 2813 1613 2813 \r\nQ 1428 2813 1281 2702 \r\nQ 1134 2591 1072 2394 \r\nQ 978 2094 978 1738 \r\nL 978 0 \r\nL 416 0 \r\nz\r\n\" id=\"ArialMT-72\" transform=\"scale(0.015625)\"/>\r\n        <path d=\"M 2588 409 \r\nQ 2275 144 1986 34 \r\nQ 1697 -75 1366 -75 \r\nQ 819 -75 525 192 \r\nQ 231 459 231 875 \r\nQ 231 1119 342 1320 \r\nQ 453 1522 633 1644 \r\nQ 813 1766 1038 1828 \r\nQ 1203 1872 1538 1913 \r\nQ 2219 1994 2541 2106 \r\nQ 2544 2222 2544 2253 \r\nQ 2544 2597 2384 2738 \r\nQ 2169 2928 1744 2928 \r\nQ 1347 2928 1158 2789 \r\nQ 969 2650 878 2297 \r\nL 328 2372 \r\nQ 403 2725 575 2942 \r\nQ 747 3159 1072 3276 \r\nQ 1397 3394 1825 3394 \r\nQ 2250 3394 2515 3294 \r\nQ 2781 3194 2906 3042 \r\nQ 3031 2891 3081 2659 \r\nQ 3109 2516 3109 2141 \r\nL 3109 1391 \r\nQ 3109 606 3145 398 \r\nQ 3181 191 3288 0 \r\nL 2700 0 \r\nQ 2613 175 2588 409 \r\nz\r\nM 2541 1666 \r\nQ 2234 1541 1622 1453 \r\nQ 1275 1403 1131 1340 \r\nQ 988 1278 909 1158 \r\nQ 831 1038 831 891 \r\nQ 831 666 1001 516 \r\nQ 1172 366 1500 366 \r\nQ 1825 366 2078 508 \r\nQ 2331 650 2450 897 \r\nQ 2541 1088 2541 1459 \r\nL 2541 1666 \r\nz\r\n\" id=\"ArialMT-61\" transform=\"scale(0.015625)\"/>\r\n        <path d=\"M 397 -1278 \r\nL 334 -750 \r\nQ 519 -800 656 -800 \r\nQ 844 -800 956 -737 \r\nQ 1069 -675 1141 -563 \r\nQ 1194 -478 1313 -144 \r\nQ 1328 -97 1363 -6 \r\nL 103 3319 \r\nL 709 3319 \r\nL 1400 1397 \r\nQ 1534 1031 1641 628 \r\nQ 1738 1016 1872 1384 \r\nL 2581 3319 \r\nL 3144 3319 \r\nL 1881 -56 \r\nQ 1678 -603 1566 -809 \r\nQ 1416 -1088 1222 -1217 \r\nQ 1028 -1347 759 -1347 \r\nQ 597 -1347 397 -1278 \r\nz\r\n\" id=\"ArialMT-79\" transform=\"scale(0.015625)\"/>\r\n       </defs>\r\n       <use xlink:href=\"#ArialMT-47\"/>\r\n       <use x=\"77.783203\" xlink:href=\"#ArialMT-65\"/>\r\n       <use x=\"133.398438\" xlink:href=\"#ArialMT-72\"/>\r\n       <use x=\"166.699219\" xlink:href=\"#ArialMT-6d\"/>\r\n       <use x=\"250\" xlink:href=\"#ArialMT-61\"/>\r\n       <use x=\"305.615234\" xlink:href=\"#ArialMT-6e\"/>\r\n       <use x=\"361.230469\" xlink:href=\"#ArialMT-79\"/>\r\n      </g>\r\n     </g>\r\n    </g>\r\n    <g id=\"xtick_3\">\r\n     <g id=\"line2d_3\">\r\n      <path clip-path=\"url(#pe43bd9ba7e)\" d=\"M 299.704719 442.08 \r\nL 299.704719 7.2 \r\n\" style=\"fill:none;stroke:#ffffff;stroke-linecap:round;\"/>\r\n     </g>\r\n     <g id=\"text_3\">\r\n      <!-- France -->\r\n      <g style=\"fill:#262626;\" transform=\"translate(277.453696 461.815672)scale(0.143 -0.143)\">\r\n       <defs>\r\n        <path d=\"M 525 0 \r\nL 525 4581 \r\nL 3616 4581 \r\nL 3616 4041 \r\nL 1131 4041 \r\nL 1131 2622 \r\nL 3281 2622 \r\nL 3281 2081 \r\nL 1131 2081 \r\nL 1131 0 \r\nL 525 0 \r\nz\r\n\" id=\"ArialMT-46\" transform=\"scale(0.015625)\"/>\r\n        <path d=\"M 2588 1216 \r\nL 3141 1144 \r\nQ 3050 572 2676 248 \r\nQ 2303 -75 1759 -75 \r\nQ 1078 -75 664 370 \r\nQ 250 816 250 1647 \r\nQ 250 2184 428 2587 \r\nQ 606 2991 970 3192 \r\nQ 1334 3394 1763 3394 \r\nQ 2303 3394 2647 3120 \r\nQ 2991 2847 3088 2344 \r\nL 2541 2259 \r\nQ 2463 2594 2264 2762 \r\nQ 2066 2931 1784 2931 \r\nQ 1359 2931 1093 2626 \r\nQ 828 2322 828 1663 \r\nQ 828 994 1084 691 \r\nQ 1341 388 1753 388 \r\nQ 2084 388 2306 591 \r\nQ 2528 794 2588 1216 \r\nz\r\n\" id=\"ArialMT-63\" transform=\"scale(0.015625)\"/>\r\n       </defs>\r\n       <use xlink:href=\"#ArialMT-46\"/>\r\n       <use x=\"61.083984\" xlink:href=\"#ArialMT-72\"/>\r\n       <use x=\"94.384766\" xlink:href=\"#ArialMT-61\"/>\r\n       <use x=\"150\" xlink:href=\"#ArialMT-6e\"/>\r\n       <use x=\"205.615234\" xlink:href=\"#ArialMT-63\"/>\r\n       <use x=\"255.615234\" xlink:href=\"#ArialMT-65\"/>\r\n      </g>\r\n     </g>\r\n    </g>\r\n    <g id=\"xtick_4\">\r\n     <g id=\"line2d_4\">\r\n      <path clip-path=\"url(#pe43bd9ba7e)\" d=\"M 376.564223 442.08 \r\nL 376.564223 7.2 \r\n\" style=\"fill:none;stroke:#ffffff;stroke-linecap:round;\"/>\r\n     </g>\r\n     <g id=\"text_4\">\r\n      <!-- EIRE -->\r\n      <g style=\"fill:#262626;\" transform=\"translate(359.875676 461.815672)scale(0.143 -0.143)\">\r\n       <defs>\r\n        <path d=\"M 506 0 \r\nL 506 4581 \r\nL 3819 4581 \r\nL 3819 4041 \r\nL 1113 4041 \r\nL 1113 2638 \r\nL 3647 2638 \r\nL 3647 2100 \r\nL 1113 2100 \r\nL 1113 541 \r\nL 3925 541 \r\nL 3925 0 \r\nL 506 0 \r\nz\r\n\" id=\"ArialMT-45\" transform=\"scale(0.015625)\"/>\r\n        <path d=\"M 597 0 \r\nL 597 4581 \r\nL 1203 4581 \r\nL 1203 0 \r\nL 597 0 \r\nz\r\n\" id=\"ArialMT-49\" transform=\"scale(0.015625)\"/>\r\n        <path d=\"M 503 0 \r\nL 503 4581 \r\nL 2534 4581 \r\nQ 3147 4581 3465 4457 \r\nQ 3784 4334 3975 4021 \r\nQ 4166 3709 4166 3331 \r\nQ 4166 2844 3850 2509 \r\nQ 3534 2175 2875 2084 \r\nQ 3116 1969 3241 1856 \r\nQ 3506 1613 3744 1247 \r\nL 4541 0 \r\nL 3778 0 \r\nL 3172 953 \r\nQ 2906 1366 2734 1584 \r\nQ 2563 1803 2427 1890 \r\nQ 2291 1978 2150 2013 \r\nQ 2047 2034 1813 2034 \r\nL 1109 2034 \r\nL 1109 0 \r\nL 503 0 \r\nz\r\nM 1109 2559 \r\nL 2413 2559 \r\nQ 2828 2559 3062 2645 \r\nQ 3297 2731 3419 2920 \r\nQ 3541 3109 3541 3331 \r\nQ 3541 3656 3305 3865 \r\nQ 3069 4075 2559 4075 \r\nL 1109 4075 \r\nL 1109 2559 \r\nz\r\n\" id=\"ArialMT-52\" transform=\"scale(0.015625)\"/>\r\n       </defs>\r\n       <use xlink:href=\"#ArialMT-45\"/>\r\n       <use x=\"66.699219\" xlink:href=\"#ArialMT-49\"/>\r\n       <use x=\"94.482422\" xlink:href=\"#ArialMT-52\"/>\r\n       <use x=\"166.699219\" xlink:href=\"#ArialMT-45\"/>\r\n      </g>\r\n     </g>\r\n    </g>\r\n    <g id=\"xtick_5\">\r\n     <g id=\"line2d_5\">\r\n      <path clip-path=\"url(#pe43bd9ba7e)\" d=\"M 453.423727 442.08 \r\nL 453.423727 7.2 \r\n\" style=\"fill:none;stroke:#ffffff;stroke-linecap:round;\"/>\r\n     </g>\r\n     <g id=\"text_5\">\r\n      <!-- Spain -->\r\n      <g style=\"fill:#262626;\" transform=\"translate(435.137602 461.989953)scale(0.143 -0.143)\">\r\n       <defs>\r\n        <path d=\"M 288 1472 \r\nL 859 1522 \r\nQ 900 1178 1048 958 \r\nQ 1197 738 1509 602 \r\nQ 1822 466 2213 466 \r\nQ 2559 466 2825 569 \r\nQ 3091 672 3220 851 \r\nQ 3350 1031 3350 1244 \r\nQ 3350 1459 3225 1620 \r\nQ 3100 1781 2813 1891 \r\nQ 2628 1963 1997 2114 \r\nQ 1366 2266 1113 2400 \r\nQ 784 2572 623 2826 \r\nQ 463 3081 463 3397 \r\nQ 463 3744 659 4045 \r\nQ 856 4347 1234 4503 \r\nQ 1613 4659 2075 4659 \r\nQ 2584 4659 2973 4495 \r\nQ 3363 4331 3572 4012 \r\nQ 3781 3694 3797 3291 \r\nL 3216 3247 \r\nQ 3169 3681 2898 3903 \r\nQ 2628 4125 2100 4125 \r\nQ 1550 4125 1298 3923 \r\nQ 1047 3722 1047 3438 \r\nQ 1047 3191 1225 3031 \r\nQ 1400 2872 2139 2705 \r\nQ 2878 2538 3153 2413 \r\nQ 3553 2228 3743 1945 \r\nQ 3934 1663 3934 1294 \r\nQ 3934 928 3725 604 \r\nQ 3516 281 3123 101 \r\nQ 2731 -78 2241 -78 \r\nQ 1619 -78 1198 103 \r\nQ 778 284 539 648 \r\nQ 300 1013 288 1472 \r\nz\r\n\" id=\"ArialMT-53\" transform=\"scale(0.015625)\"/>\r\n        <path d=\"M 422 -1272 \r\nL 422 3319 \r\nL 934 3319 \r\nL 934 2888 \r\nQ 1116 3141 1344 3267 \r\nQ 1572 3394 1897 3394 \r\nQ 2322 3394 2647 3175 \r\nQ 2972 2956 3137 2557 \r\nQ 3303 2159 3303 1684 \r\nQ 3303 1175 3120 767 \r\nQ 2938 359 2589 142 \r\nQ 2241 -75 1856 -75 \r\nQ 1575 -75 1351 44 \r\nQ 1128 163 984 344 \r\nL 984 -1272 \r\nL 422 -1272 \r\nz\r\nM 931 1641 \r\nQ 931 1000 1190 694 \r\nQ 1450 388 1819 388 \r\nQ 2194 388 2461 705 \r\nQ 2728 1022 2728 1688 \r\nQ 2728 2322 2467 2637 \r\nQ 2206 2953 1844 2953 \r\nQ 1484 2953 1207 2617 \r\nQ 931 2281 931 1641 \r\nz\r\n\" id=\"ArialMT-70\" transform=\"scale(0.015625)\"/>\r\n       </defs>\r\n       <use xlink:href=\"#ArialMT-53\"/>\r\n       <use x=\"66.699219\" xlink:href=\"#ArialMT-70\"/>\r\n       <use x=\"122.314453\" xlink:href=\"#ArialMT-61\"/>\r\n       <use x=\"177.929688\" xlink:href=\"#ArialMT-69\"/>\r\n       <use x=\"200.146484\" xlink:href=\"#ArialMT-6e\"/>\r\n      </g>\r\n     </g>\r\n    </g>\r\n    <g id=\"xtick_6\">\r\n     <g id=\"line2d_6\">\r\n      <path clip-path=\"url(#pe43bd9ba7e)\" d=\"M 530.283231 442.08 \r\nL 530.283231 7.2 \r\n\" style=\"fill:none;stroke:#ffffff;stroke-linecap:round;\"/>\r\n     </g>\r\n     <g id=\"text_6\">\r\n      <!-- Netherlands -->\r\n      <g style=\"fill:#262626;\" transform=\"translate(491.732442 461.815672)scale(0.143 -0.143)\">\r\n       <defs>\r\n        <path d=\"M 488 0 \r\nL 488 4581 \r\nL 1109 4581 \r\nL 3516 984 \r\nL 3516 4581 \r\nL 4097 4581 \r\nL 4097 0 \r\nL 3475 0 \r\nL 1069 3600 \r\nL 1069 0 \r\nL 488 0 \r\nz\r\n\" id=\"ArialMT-4e\" transform=\"scale(0.015625)\"/>\r\n        <path d=\"M 422 0 \r\nL 422 4581 \r\nL 984 4581 \r\nL 984 2938 \r\nQ 1378 3394 1978 3394 \r\nQ 2347 3394 2619 3248 \r\nQ 2891 3103 3008 2847 \r\nQ 3125 2591 3125 2103 \r\nL 3125 0 \r\nL 2563 0 \r\nL 2563 2103 \r\nQ 2563 2525 2380 2717 \r\nQ 2197 2909 1863 2909 \r\nQ 1613 2909 1392 2779 \r\nQ 1172 2650 1078 2428 \r\nQ 984 2206 984 1816 \r\nL 984 0 \r\nL 422 0 \r\nz\r\n\" id=\"ArialMT-68\" transform=\"scale(0.015625)\"/>\r\n        <path d=\"M 409 0 \r\nL 409 4581 \r\nL 972 4581 \r\nL 972 0 \r\nL 409 0 \r\nz\r\n\" id=\"ArialMT-6c\" transform=\"scale(0.015625)\"/>\r\n        <path d=\"M 197 991 \r\nL 753 1078 \r\nQ 800 744 1014 566 \r\nQ 1228 388 1613 388 \r\nQ 2000 388 2187 545 \r\nQ 2375 703 2375 916 \r\nQ 2375 1106 2209 1216 \r\nQ 2094 1291 1634 1406 \r\nQ 1016 1563 777 1677 \r\nQ 538 1791 414 1992 \r\nQ 291 2194 291 2438 \r\nQ 291 2659 392 2848 \r\nQ 494 3038 669 3163 \r\nQ 800 3259 1026 3326 \r\nQ 1253 3394 1513 3394 \r\nQ 1903 3394 2198 3281 \r\nQ 2494 3169 2634 2976 \r\nQ 2775 2784 2828 2463 \r\nL 2278 2388 \r\nQ 2241 2644 2061 2787 \r\nQ 1881 2931 1553 2931 \r\nQ 1166 2931 1000 2803 \r\nQ 834 2675 834 2503 \r\nQ 834 2394 903 2306 \r\nQ 972 2216 1119 2156 \r\nQ 1203 2125 1616 2013 \r\nQ 2213 1853 2448 1751 \r\nQ 2684 1650 2818 1456 \r\nQ 2953 1263 2953 975 \r\nQ 2953 694 2789 445 \r\nQ 2625 197 2315 61 \r\nQ 2006 -75 1616 -75 \r\nQ 969 -75 630 194 \r\nQ 291 463 197 991 \r\nz\r\n\" id=\"ArialMT-73\" transform=\"scale(0.015625)\"/>\r\n       </defs>\r\n       <use xlink:href=\"#ArialMT-4e\"/>\r\n       <use x=\"72.216797\" xlink:href=\"#ArialMT-65\"/>\r\n       <use x=\"127.832031\" xlink:href=\"#ArialMT-74\"/>\r\n       <use x=\"155.615234\" xlink:href=\"#ArialMT-68\"/>\r\n       <use x=\"211.230469\" xlink:href=\"#ArialMT-65\"/>\r\n       <use x=\"266.845703\" xlink:href=\"#ArialMT-72\"/>\r\n       <use x=\"300.146484\" xlink:href=\"#ArialMT-6c\"/>\r\n       <use x=\"322.363281\" xlink:href=\"#ArialMT-61\"/>\r\n       <use x=\"377.978516\" xlink:href=\"#ArialMT-6e\"/>\r\n       <use x=\"433.59375\" xlink:href=\"#ArialMT-64\"/>\r\n       <use x=\"489.208984\" xlink:href=\"#ArialMT-73\"/>\r\n      </g>\r\n     </g>\r\n    </g>\r\n    <g id=\"xtick_7\">\r\n     <g id=\"line2d_7\">\r\n      <path clip-path=\"url(#pe43bd9ba7e)\" d=\"M 607.142736 442.08 \r\nL 607.142736 7.2 \r\n\" style=\"fill:none;stroke:#ffffff;stroke-linecap:round;\"/>\r\n     </g>\r\n     <g id=\"text_7\">\r\n      <!-- Belgium -->\r\n      <g style=\"fill:#262626;\" transform=\"translate(581.312243 461.815672)scale(0.143 -0.143)\">\r\n       <defs>\r\n        <path d=\"M 469 0 \r\nL 469 4581 \r\nL 2188 4581 \r\nQ 2713 4581 3030 4442 \r\nQ 3347 4303 3526 4014 \r\nQ 3706 3725 3706 3409 \r\nQ 3706 3116 3547 2856 \r\nQ 3388 2597 3066 2438 \r\nQ 3481 2316 3704 2022 \r\nQ 3928 1728 3928 1328 \r\nQ 3928 1006 3792 729 \r\nQ 3656 453 3456 303 \r\nQ 3256 153 2954 76 \r\nQ 2653 0 2216 0 \r\nL 469 0 \r\nz\r\nM 1075 2656 \r\nL 2066 2656 \r\nQ 2469 2656 2644 2709 \r\nQ 2875 2778 2992 2937 \r\nQ 3109 3097 3109 3338 \r\nQ 3109 3566 3000 3739 \r\nQ 2891 3913 2687 3977 \r\nQ 2484 4041 1991 4041 \r\nL 1075 4041 \r\nL 1075 2656 \r\nz\r\nM 1075 541 \r\nL 2216 541 \r\nQ 2509 541 2628 563 \r\nQ 2838 600 2978 687 \r\nQ 3119 775 3209 942 \r\nQ 3300 1109 3300 1328 \r\nQ 3300 1584 3169 1773 \r\nQ 3038 1963 2805 2039 \r\nQ 2572 2116 2134 2116 \r\nL 1075 2116 \r\nL 1075 541 \r\nz\r\n\" id=\"ArialMT-42\" transform=\"scale(0.015625)\"/>\r\n        <path d=\"M 2597 0 \r\nL 2597 488 \r\nQ 2209 -75 1544 -75 \r\nQ 1250 -75 995 37 \r\nQ 741 150 617 320 \r\nQ 494 491 444 738 \r\nQ 409 903 409 1263 \r\nL 409 3319 \r\nL 972 3319 \r\nL 972 1478 \r\nQ 972 1038 1006 884 \r\nQ 1059 663 1231 536 \r\nQ 1403 409 1656 409 \r\nQ 1909 409 2131 539 \r\nQ 2353 669 2445 892 \r\nQ 2538 1116 2538 1541 \r\nL 2538 3319 \r\nL 3100 3319 \r\nL 3100 0 \r\nL 2597 0 \r\nz\r\n\" id=\"ArialMT-75\" transform=\"scale(0.015625)\"/>\r\n       </defs>\r\n       <use xlink:href=\"#ArialMT-42\"/>\r\n       <use x=\"66.699219\" xlink:href=\"#ArialMT-65\"/>\r\n       <use x=\"122.314453\" xlink:href=\"#ArialMT-6c\"/>\r\n       <use x=\"144.53125\" xlink:href=\"#ArialMT-67\"/>\r\n       <use x=\"200.146484\" xlink:href=\"#ArialMT-69\"/>\r\n       <use x=\"222.363281\" xlink:href=\"#ArialMT-75\"/>\r\n       <use x=\"277.978516\" xlink:href=\"#ArialMT-6d\"/>\r\n      </g>\r\n     </g>\r\n    </g>\r\n    <g id=\"xtick_8\">\r\n     <g id=\"line2d_8\">\r\n      <path clip-path=\"url(#pe43bd9ba7e)\" d=\"M 684.00224 442.08 \r\nL 684.00224 7.2 \r\n\" style=\"fill:none;stroke:#ffffff;stroke-linecap:round;\"/>\r\n     </g>\r\n     <g id=\"text_8\">\r\n      <!-- Switzerland -->\r\n      <g style=\"fill:#262626;\" transform=\"translate(647.045677 461.815672)scale(0.143 -0.143)\">\r\n       <defs>\r\n        <path d=\"M 1034 0 \r\nL 19 3319 \r\nL 600 3319 \r\nL 1128 1403 \r\nL 1325 691 \r\nQ 1338 744 1497 1375 \r\nL 2025 3319 \r\nL 2603 3319 \r\nL 3100 1394 \r\nL 3266 759 \r\nL 3456 1400 \r\nL 4025 3319 \r\nL 4572 3319 \r\nL 3534 0 \r\nL 2950 0 \r\nL 2422 1988 \r\nL 2294 2553 \r\nL 1622 0 \r\nL 1034 0 \r\nz\r\n\" id=\"ArialMT-77\" transform=\"scale(0.015625)\"/>\r\n        <path d=\"M 125 0 \r\nL 125 456 \r\nL 2238 2881 \r\nQ 1878 2863 1603 2863 \r\nL 250 2863 \r\nL 250 3319 \r\nL 2963 3319 \r\nL 2963 2947 \r\nL 1166 841 \r\nL 819 456 \r\nQ 1197 484 1528 484 \r\nL 3063 484 \r\nL 3063 0 \r\nL 125 0 \r\nz\r\n\" id=\"ArialMT-7a\" transform=\"scale(0.015625)\"/>\r\n       </defs>\r\n       <use xlink:href=\"#ArialMT-53\"/>\r\n       <use x=\"66.699219\" xlink:href=\"#ArialMT-77\"/>\r\n       <use x=\"138.916016\" xlink:href=\"#ArialMT-69\"/>\r\n       <use x=\"161.132812\" xlink:href=\"#ArialMT-74\"/>\r\n       <use x=\"188.916016\" xlink:href=\"#ArialMT-7a\"/>\r\n       <use x=\"238.916016\" xlink:href=\"#ArialMT-65\"/>\r\n       <use x=\"294.53125\" xlink:href=\"#ArialMT-72\"/>\r\n       <use x=\"327.832031\" xlink:href=\"#ArialMT-6c\"/>\r\n       <use x=\"350.048828\" xlink:href=\"#ArialMT-61\"/>\r\n       <use x=\"405.664062\" xlink:href=\"#ArialMT-6e\"/>\r\n       <use x=\"461.279297\" xlink:href=\"#ArialMT-64\"/>\r\n      </g>\r\n     </g>\r\n    </g>\r\n    <g id=\"xtick_9\">\r\n     <g id=\"line2d_9\">\r\n      <path clip-path=\"url(#pe43bd9ba7e)\" d=\"M 760.861744 442.08 \r\nL 760.861744 7.2 \r\n\" style=\"fill:none;stroke:#ffffff;stroke-linecap:round;\"/>\r\n     </g>\r\n     <g id=\"text_9\">\r\n      <!-- Portugal -->\r\n      <g style=\"fill:#262626;\" transform=\"translate(734.232463 461.815672)scale(0.143 -0.143)\">\r\n       <defs>\r\n        <path d=\"M 494 0 \r\nL 494 4581 \r\nL 2222 4581 \r\nQ 2678 4581 2919 4538 \r\nQ 3256 4481 3484 4323 \r\nQ 3713 4166 3852 3881 \r\nQ 3991 3597 3991 3256 \r\nQ 3991 2672 3619 2267 \r\nQ 3247 1863 2275 1863 \r\nL 1100 1863 \r\nL 1100 0 \r\nL 494 0 \r\nz\r\nM 1100 2403 \r\nL 2284 2403 \r\nQ 2872 2403 3119 2622 \r\nQ 3366 2841 3366 3238 \r\nQ 3366 3525 3220 3729 \r\nQ 3075 3934 2838 4000 \r\nQ 2684 4041 2272 4041 \r\nL 1100 4041 \r\nL 1100 2403 \r\nz\r\n\" id=\"ArialMT-50\" transform=\"scale(0.015625)\"/>\r\n       </defs>\r\n       <use xlink:href=\"#ArialMT-50\"/>\r\n       <use x=\"66.699219\" xlink:href=\"#ArialMT-6f\"/>\r\n       <use x=\"122.314453\" xlink:href=\"#ArialMT-72\"/>\r\n       <use x=\"155.615234\" xlink:href=\"#ArialMT-74\"/>\r\n       <use x=\"183.398438\" xlink:href=\"#ArialMT-75\"/>\r\n       <use x=\"239.013672\" xlink:href=\"#ArialMT-67\"/>\r\n       <use x=\"294.628906\" xlink:href=\"#ArialMT-61\"/>\r\n       <use x=\"350.244141\" xlink:href=\"#ArialMT-6c\"/>\r\n      </g>\r\n     </g>\r\n    </g>\r\n    <g id=\"xtick_10\">\r\n     <g id=\"line2d_10\">\r\n      <path clip-path=\"url(#pe43bd9ba7e)\" d=\"M 837.721248 442.08 \r\nL 837.721248 7.2 \r\n\" style=\"fill:none;stroke:#ffffff;stroke-linecap:round;\"/>\r\n     </g>\r\n     <g id=\"text_10\">\r\n      <!-- Australia -->\r\n      <g style=\"fill:#262626;\" transform=\"translate(809.904396 461.815672)scale(0.143 -0.143)\">\r\n       <defs>\r\n        <path d=\"M -9 0 \r\nL 1750 4581 \r\nL 2403 4581 \r\nL 4278 0 \r\nL 3588 0 \r\nL 3053 1388 \r\nL 1138 1388 \r\nL 634 0 \r\nL -9 0 \r\nz\r\nM 1313 1881 \r\nL 2866 1881 \r\nL 2388 3150 \r\nQ 2169 3728 2063 4100 \r\nQ 1975 3659 1816 3225 \r\nL 1313 1881 \r\nz\r\n\" id=\"ArialMT-41\" transform=\"scale(0.015625)\"/>\r\n       </defs>\r\n       <use xlink:href=\"#ArialMT-41\"/>\r\n       <use x=\"66.699219\" xlink:href=\"#ArialMT-75\"/>\r\n       <use x=\"122.314453\" xlink:href=\"#ArialMT-73\"/>\r\n       <use x=\"172.314453\" xlink:href=\"#ArialMT-74\"/>\r\n       <use x=\"200.097656\" xlink:href=\"#ArialMT-72\"/>\r\n       <use x=\"233.398438\" xlink:href=\"#ArialMT-61\"/>\r\n       <use x=\"289.013672\" xlink:href=\"#ArialMT-6c\"/>\r\n       <use x=\"311.230469\" xlink:href=\"#ArialMT-69\"/>\r\n       <use x=\"333.447266\" xlink:href=\"#ArialMT-61\"/>\r\n      </g>\r\n     </g>\r\n    </g>\r\n    <g id=\"xtick_11\">\r\n     <g id=\"line2d_11\">\r\n      <path clip-path=\"url(#pe43bd9ba7e)\" d=\"M 914.580752 442.08 \r\nL 914.580752 7.2 \r\n\" style=\"fill:none;stroke:#ffffff;stroke-linecap:round;\"/>\r\n     </g>\r\n     <g id=\"text_11\">\r\n      <!-- Norway -->\r\n      <g style=\"fill:#262626;\" transform=\"translate(890.345604 461.815672)scale(0.143 -0.143)\">\r\n       <use xlink:href=\"#ArialMT-4e\"/>\r\n       <use x=\"72.216797\" xlink:href=\"#ArialMT-6f\"/>\r\n       <use x=\"127.832031\" xlink:href=\"#ArialMT-72\"/>\r\n       <use x=\"161.132812\" xlink:href=\"#ArialMT-77\"/>\r\n       <use x=\"233.349609\" xlink:href=\"#ArialMT-61\"/>\r\n       <use x=\"288.964844\" xlink:href=\"#ArialMT-79\"/>\r\n      </g>\r\n     </g>\r\n    </g>\r\n    <g id=\"xtick_12\">\r\n     <g id=\"line2d_12\">\r\n      <path clip-path=\"url(#pe43bd9ba7e)\" d=\"M 991.440256 442.08 \r\nL 991.440256 7.2 \r\n\" style=\"fill:none;stroke:#ffffff;stroke-linecap:round;\"/>\r\n     </g>\r\n     <g id=\"text_12\">\r\n      <!-- Italy -->\r\n      <g style=\"fill:#262626;\" transform=\"translate(978.327827 461.815672)scale(0.143 -0.143)\">\r\n       <use xlink:href=\"#ArialMT-49\"/>\r\n       <use x=\"27.783203\" xlink:href=\"#ArialMT-74\"/>\r\n       <use x=\"55.566406\" xlink:href=\"#ArialMT-61\"/>\r\n       <use x=\"111.181641\" xlink:href=\"#ArialMT-6c\"/>\r\n       <use x=\"133.398438\" xlink:href=\"#ArialMT-79\"/>\r\n      </g>\r\n     </g>\r\n    </g>\r\n    <g id=\"xtick_13\">\r\n     <g id=\"line2d_13\">\r\n      <path clip-path=\"url(#pe43bd9ba7e)\" d=\"M 1068.29976 442.08 \r\nL 1068.29976 7.2 \r\n\" style=\"fill:none;stroke:#ffffff;stroke-linecap:round;\"/>\r\n     </g>\r\n     <g id=\"text_13\">\r\n      <!-- Channel Islands -->\r\n      <g style=\"fill:#262626;\" transform=\"translate(1017.027557 461.815672)scale(0.143 -0.143)\">\r\n       <defs>\r\n        <path d=\"M 3763 1606 \r\nL 4369 1453 \r\nQ 4178 706 3683 314 \r\nQ 3188 -78 2472 -78 \r\nQ 1731 -78 1267 223 \r\nQ 803 525 561 1097 \r\nQ 319 1669 319 2325 \r\nQ 319 3041 592 3573 \r\nQ 866 4106 1370 4382 \r\nQ 1875 4659 2481 4659 \r\nQ 3169 4659 3637 4309 \r\nQ 4106 3959 4291 3325 \r\nL 3694 3184 \r\nQ 3534 3684 3231 3912 \r\nQ 2928 4141 2469 4141 \r\nQ 1941 4141 1586 3887 \r\nQ 1231 3634 1087 3207 \r\nQ 944 2781 944 2328 \r\nQ 944 1744 1114 1308 \r\nQ 1284 872 1643 656 \r\nQ 2003 441 2422 441 \r\nQ 2931 441 3284 734 \r\nQ 3638 1028 3763 1606 \r\nz\r\n\" id=\"ArialMT-43\" transform=\"scale(0.015625)\"/>\r\n       </defs>\r\n       <use xlink:href=\"#ArialMT-43\"/>\r\n       <use x=\"72.216797\" xlink:href=\"#ArialMT-68\"/>\r\n       <use x=\"127.832031\" xlink:href=\"#ArialMT-61\"/>\r\n       <use x=\"183.447266\" xlink:href=\"#ArialMT-6e\"/>\r\n       <use x=\"239.0625\" xlink:href=\"#ArialMT-6e\"/>\r\n       <use x=\"294.677734\" xlink:href=\"#ArialMT-65\"/>\r\n       <use x=\"350.292969\" xlink:href=\"#ArialMT-6c\"/>\r\n       <use x=\"372.509766\" xlink:href=\"#ArialMT-20\"/>\r\n       <use x=\"400.292969\" xlink:href=\"#ArialMT-49\"/>\r\n       <use x=\"428.076172\" xlink:href=\"#ArialMT-73\"/>\r\n       <use x=\"478.076172\" xlink:href=\"#ArialMT-6c\"/>\r\n       <use x=\"500.292969\" xlink:href=\"#ArialMT-61\"/>\r\n       <use x=\"555.908203\" xlink:href=\"#ArialMT-6e\"/>\r\n       <use x=\"611.523438\" xlink:href=\"#ArialMT-64\"/>\r\n       <use x=\"667.138672\" xlink:href=\"#ArialMT-73\"/>\r\n      </g>\r\n     </g>\r\n    </g>\r\n    <g id=\"xtick_14\">\r\n     <g id=\"line2d_14\">\r\n      <path clip-path=\"url(#pe43bd9ba7e)\" d=\"M 1145.159264 442.08 \r\nL 1145.159264 7.2 \r\n\" style=\"fill:none;stroke:#ffffff;stroke-linecap:round;\"/>\r\n     </g>\r\n     <g id=\"text_14\">\r\n      <!-- Finland -->\r\n      <g style=\"fill:#262626;\" transform=\"translate(1121.710616 461.815672)scale(0.143 -0.143)\">\r\n       <use xlink:href=\"#ArialMT-46\"/>\r\n       <use x=\"61.083984\" xlink:href=\"#ArialMT-69\"/>\r\n       <use x=\"83.300781\" xlink:href=\"#ArialMT-6e\"/>\r\n       <use x=\"138.916016\" xlink:href=\"#ArialMT-6c\"/>\r\n       <use x=\"161.132812\" xlink:href=\"#ArialMT-61\"/>\r\n       <use x=\"216.748047\" xlink:href=\"#ArialMT-6e\"/>\r\n       <use x=\"272.363281\" xlink:href=\"#ArialMT-64\"/>\r\n      </g>\r\n     </g>\r\n    </g>\r\n    <g id=\"xtick_15\">\r\n     <g id=\"line2d_15\">\r\n      <path clip-path=\"url(#pe43bd9ba7e)\" d=\"M 1222.018769 442.08 \r\nL 1222.018769 7.2 \r\n\" style=\"fill:none;stroke:#ffffff;stroke-linecap:round;\"/>\r\n     </g>\r\n     <g id=\"text_15\">\r\n      <!-- Cyprus -->\r\n      <g style=\"fill:#262626;\" transform=\"translate(1199.372261 461.989953)scale(0.143 -0.143)\">\r\n       <use xlink:href=\"#ArialMT-43\"/>\r\n       <use x=\"72.216797\" xlink:href=\"#ArialMT-79\"/>\r\n       <use x=\"122.216797\" xlink:href=\"#ArialMT-70\"/>\r\n       <use x=\"177.832031\" xlink:href=\"#ArialMT-72\"/>\r\n       <use x=\"211.132812\" xlink:href=\"#ArialMT-75\"/>\r\n       <use x=\"266.748047\" xlink:href=\"#ArialMT-73\"/>\r\n      </g>\r\n     </g>\r\n    </g>\r\n    <g id=\"xtick_16\">\r\n     <g id=\"line2d_16\">\r\n      <path clip-path=\"url(#pe43bd9ba7e)\" d=\"M 1298.878273 442.08 \r\nL 1298.878273 7.2 \r\n\" style=\"fill:none;stroke:#ffffff;stroke-linecap:round;\"/>\r\n     </g>\r\n     <g id=\"text_16\">\r\n      <!-- Sweden -->\r\n      <g style=\"fill:#262626;\" transform=\"translate(1273.041077 461.815672)scale(0.143 -0.143)\">\r\n       <use xlink:href=\"#ArialMT-53\"/>\r\n       <use x=\"66.699219\" xlink:href=\"#ArialMT-77\"/>\r\n       <use x=\"138.916016\" xlink:href=\"#ArialMT-65\"/>\r\n       <use x=\"194.53125\" xlink:href=\"#ArialMT-64\"/>\r\n       <use x=\"250.146484\" xlink:href=\"#ArialMT-65\"/>\r\n       <use x=\"305.761719\" xlink:href=\"#ArialMT-6e\"/>\r\n      </g>\r\n     </g>\r\n    </g>\r\n    <g id=\"xtick_17\">\r\n     <g id=\"line2d_17\">\r\n      <path clip-path=\"url(#pe43bd9ba7e)\" d=\"M 1375.737777 442.08 \r\nL 1375.737777 7.2 \r\n\" style=\"fill:none;stroke:#ffffff;stroke-linecap:round;\"/>\r\n     </g>\r\n     <g id=\"text_17\">\r\n      <!-- Austria -->\r\n      <g style=\"fill:#262626;\" transform=\"translate(1353.485636 461.815672)scale(0.143 -0.143)\">\r\n       <use xlink:href=\"#ArialMT-41\"/>\r\n       <use x=\"66.699219\" xlink:href=\"#ArialMT-75\"/>\r\n       <use x=\"122.314453\" xlink:href=\"#ArialMT-73\"/>\r\n       <use x=\"172.314453\" xlink:href=\"#ArialMT-74\"/>\r\n       <use x=\"200.097656\" xlink:href=\"#ArialMT-72\"/>\r\n       <use x=\"233.398438\" xlink:href=\"#ArialMT-69\"/>\r\n       <use x=\"255.615234\" xlink:href=\"#ArialMT-61\"/>\r\n      </g>\r\n     </g>\r\n    </g>\r\n    <g id=\"xtick_18\">\r\n     <g id=\"line2d_18\">\r\n      <path clip-path=\"url(#pe43bd9ba7e)\" d=\"M 1452.597281 442.08 \r\nL 1452.597281 7.2 \r\n\" style=\"fill:none;stroke:#ffffff;stroke-linecap:round;\"/>\r\n     </g>\r\n     <g id=\"text_18\">\r\n      <!-- Denmark -->\r\n      <g style=\"fill:#262626;\" transform=\"translate(1423.593976 461.815672)scale(0.143 -0.143)\">\r\n       <defs>\r\n        <path d=\"M 494 0 \r\nL 494 4581 \r\nL 2072 4581 \r\nQ 2606 4581 2888 4516 \r\nQ 3281 4425 3559 4188 \r\nQ 3922 3881 4101 3404 \r\nQ 4281 2928 4281 2316 \r\nQ 4281 1794 4159 1391 \r\nQ 4038 988 3847 723 \r\nQ 3656 459 3429 307 \r\nQ 3203 156 2883 78 \r\nQ 2563 0 2147 0 \r\nL 494 0 \r\nz\r\nM 1100 541 \r\nL 2078 541 \r\nQ 2531 541 2789 625 \r\nQ 3047 709 3200 863 \r\nQ 3416 1078 3536 1442 \r\nQ 3656 1806 3656 2325 \r\nQ 3656 3044 3420 3430 \r\nQ 3184 3816 2847 3947 \r\nQ 2603 4041 2063 4041 \r\nL 1100 4041 \r\nL 1100 541 \r\nz\r\n\" id=\"ArialMT-44\" transform=\"scale(0.015625)\"/>\r\n        <path d=\"M 425 0 \r\nL 425 4581 \r\nL 988 4581 \r\nL 988 1969 \r\nL 2319 3319 \r\nL 3047 3319 \r\nL 1778 2088 \r\nL 3175 0 \r\nL 2481 0 \r\nL 1384 1697 \r\nL 988 1316 \r\nL 988 0 \r\nL 425 0 \r\nz\r\n\" id=\"ArialMT-6b\" transform=\"scale(0.015625)\"/>\r\n       </defs>\r\n       <use xlink:href=\"#ArialMT-44\"/>\r\n       <use x=\"72.216797\" xlink:href=\"#ArialMT-65\"/>\r\n       <use x=\"127.832031\" xlink:href=\"#ArialMT-6e\"/>\r\n       <use x=\"183.447266\" xlink:href=\"#ArialMT-6d\"/>\r\n       <use x=\"266.748047\" xlink:href=\"#ArialMT-61\"/>\r\n       <use x=\"322.363281\" xlink:href=\"#ArialMT-72\"/>\r\n       <use x=\"355.664062\" xlink:href=\"#ArialMT-6b\"/>\r\n      </g>\r\n     </g>\r\n    </g>\r\n    <g id=\"xtick_19\">\r\n     <g id=\"line2d_19\">\r\n      <path clip-path=\"url(#pe43bd9ba7e)\" d=\"M 1529.456785 442.08 \r\nL 1529.456785 7.2 \r\n\" style=\"fill:none;stroke:#ffffff;stroke-linecap:round;\"/>\r\n     </g>\r\n     <g id=\"text_19\">\r\n      <!-- Japan -->\r\n      <g style=\"fill:#262626;\" transform=\"translate(1509.977504 461.815672)scale(0.143 -0.143)\">\r\n       <defs>\r\n        <path d=\"M 184 1300 \r\nL 731 1375 \r\nQ 753 850 928 656 \r\nQ 1103 463 1413 463 \r\nQ 1641 463 1806 567 \r\nQ 1972 672 2034 851 \r\nQ 2097 1031 2097 1425 \r\nL 2097 4581 \r\nL 2703 4581 \r\nL 2703 1459 \r\nQ 2703 884 2564 568 \r\nQ 2425 253 2123 87 \r\nQ 1822 -78 1416 -78 \r\nQ 813 -78 492 269 \r\nQ 172 616 184 1300 \r\nz\r\n\" id=\"ArialMT-4a\" transform=\"scale(0.015625)\"/>\r\n       </defs>\r\n       <use xlink:href=\"#ArialMT-4a\"/>\r\n       <use x=\"50\" xlink:href=\"#ArialMT-61\"/>\r\n       <use x=\"105.615234\" xlink:href=\"#ArialMT-70\"/>\r\n       <use x=\"161.230469\" xlink:href=\"#ArialMT-61\"/>\r\n       <use x=\"216.845703\" xlink:href=\"#ArialMT-6e\"/>\r\n      </g>\r\n     </g>\r\n    </g>\r\n    <g id=\"xtick_20\">\r\n     <g id=\"line2d_20\">\r\n      <path clip-path=\"url(#pe43bd9ba7e)\" d=\"M 1606.316289 442.08 \r\nL 1606.316289 7.2 \r\n\" style=\"fill:none;stroke:#ffffff;stroke-linecap:round;\"/>\r\n     </g>\r\n     <g id=\"text_20\">\r\n      <!-- Poland -->\r\n      <g style=\"fill:#262626;\" transform=\"translate(1584.054094 461.815672)scale(0.143 -0.143)\">\r\n       <use xlink:href=\"#ArialMT-50\"/>\r\n       <use x=\"66.699219\" xlink:href=\"#ArialMT-6f\"/>\r\n       <use x=\"122.314453\" xlink:href=\"#ArialMT-6c\"/>\r\n       <use x=\"144.53125\" xlink:href=\"#ArialMT-61\"/>\r\n       <use x=\"200.146484\" xlink:href=\"#ArialMT-6e\"/>\r\n       <use x=\"255.761719\" xlink:href=\"#ArialMT-64\"/>\r\n      </g>\r\n     </g>\r\n    </g>\r\n   </g>\r\n   <g id=\"matplotlib.axis_2\">\r\n    <g id=\"ytick_1\">\r\n     <g id=\"line2d_21\">\r\n      <path clip-path=\"url(#pe43bd9ba7e)\" d=\"M 39.151 361.263433 \r\nL 1713.151 361.263433 \r\n\" style=\"fill:none;stroke:#ffffff;stroke-linecap:round;\"/>\r\n     </g>\r\n     <g id=\"text_21\">\r\n      <!-- $\\mathdefault{10^{3}}$ -->\r\n      <g style=\"fill:#262626;\" transform=\"translate(7.2 368.63687)scale(0.143 -0.143)\">\r\n       <defs>\r\n        <path d=\"M 2384 0 \r\nL 1822 0 \r\nL 1822 3584 \r\nQ 1619 3391 1289 3197 \r\nQ 959 3003 697 2906 \r\nL 697 3450 \r\nQ 1169 3672 1522 3987 \r\nQ 1875 4303 2022 4600 \r\nL 2384 4600 \r\nL 2384 0 \r\nz\r\n\" id=\"ArialMT-31\" transform=\"scale(0.015625)\"/>\r\n        <path d=\"M 266 2259 \r\nQ 266 3072 433 3567 \r\nQ 600 4063 929 4331 \r\nQ 1259 4600 1759 4600 \r\nQ 2128 4600 2406 4451 \r\nQ 2684 4303 2865 4023 \r\nQ 3047 3744 3150 3342 \r\nQ 3253 2941 3253 2259 \r\nQ 3253 1453 3087 958 \r\nQ 2922 463 2592 192 \r\nQ 2263 -78 1759 -78 \r\nQ 1097 -78 719 397 \r\nQ 266 969 266 2259 \r\nz\r\nM 844 2259 \r\nQ 844 1131 1108 757 \r\nQ 1372 384 1759 384 \r\nQ 2147 384 2411 759 \r\nQ 2675 1134 2675 2259 \r\nQ 2675 3391 2411 3762 \r\nQ 2147 4134 1753 4134 \r\nQ 1366 4134 1134 3806 \r\nQ 844 3388 844 2259 \r\nz\r\n\" id=\"ArialMT-30\" transform=\"scale(0.015625)\"/>\r\n        <path d=\"M 269 1209 \r\nL 831 1284 \r\nQ 928 806 1161 595 \r\nQ 1394 384 1728 384 \r\nQ 2125 384 2398 659 \r\nQ 2672 934 2672 1341 \r\nQ 2672 1728 2419 1979 \r\nQ 2166 2231 1775 2231 \r\nQ 1616 2231 1378 2169 \r\nL 1441 2663 \r\nQ 1497 2656 1531 2656 \r\nQ 1891 2656 2178 2843 \r\nQ 2466 3031 2466 3422 \r\nQ 2466 3731 2256 3934 \r\nQ 2047 4138 1716 4138 \r\nQ 1388 4138 1169 3931 \r\nQ 950 3725 888 3313 \r\nL 325 3413 \r\nQ 428 3978 793 4289 \r\nQ 1159 4600 1703 4600 \r\nQ 2078 4600 2393 4439 \r\nQ 2709 4278 2876 4000 \r\nQ 3044 3722 3044 3409 \r\nQ 3044 3113 2884 2869 \r\nQ 2725 2625 2413 2481 \r\nQ 2819 2388 3044 2092 \r\nQ 3269 1797 3269 1353 \r\nQ 3269 753 2831 336 \r\nQ 2394 -81 1725 -81 \r\nQ 1122 -81 723 278 \r\nQ 325 638 269 1209 \r\nz\r\n\" id=\"ArialMT-33\" transform=\"scale(0.015625)\"/>\r\n       </defs>\r\n       <use transform=\"translate(0 0.99375)\" xlink:href=\"#ArialMT-31\"/>\r\n       <use transform=\"translate(55.615234 0.99375)\" xlink:href=\"#ArialMT-30\"/>\r\n       <use transform=\"translate(112.972813 70.6875)scale(0.7)\" xlink:href=\"#ArialMT-33\"/>\r\n      </g>\r\n     </g>\r\n    </g>\r\n    <g id=\"ytick_2\">\r\n     <g id=\"line2d_22\">\r\n      <path clip-path=\"url(#pe43bd9ba7e)\" d=\"M 39.151 230.605611 \r\nL 1713.151 230.605611 \r\n\" style=\"fill:none;stroke:#ffffff;stroke-linecap:round;\"/>\r\n     </g>\r\n     <g id=\"text_22\">\r\n      <!-- $\\mathdefault{10^{4}}$ -->\r\n      <g style=\"fill:#262626;\" transform=\"translate(7.2 237.907549)scale(0.143 -0.143)\">\r\n       <defs>\r\n        <path d=\"M 2069 0 \r\nL 2069 1097 \r\nL 81 1097 \r\nL 81 1613 \r\nL 2172 4581 \r\nL 2631 4581 \r\nL 2631 1613 \r\nL 3250 1613 \r\nL 3250 1097 \r\nL 2631 1097 \r\nL 2631 0 \r\nL 2069 0 \r\nz\r\nM 2069 1613 \r\nL 2069 3678 \r\nL 634 1613 \r\nL 2069 1613 \r\nz\r\n\" id=\"ArialMT-34\" transform=\"scale(0.015625)\"/>\r\n       </defs>\r\n       <use transform=\"translate(0 0.201563)\" xlink:href=\"#ArialMT-31\"/>\r\n       <use transform=\"translate(55.615234 0.201563)\" xlink:href=\"#ArialMT-30\"/>\r\n       <use transform=\"translate(112.972813 69.895313)scale(0.7)\" xlink:href=\"#ArialMT-34\"/>\r\n      </g>\r\n     </g>\r\n    </g>\r\n    <g id=\"ytick_3\">\r\n     <g id=\"line2d_23\">\r\n      <path clip-path=\"url(#pe43bd9ba7e)\" d=\"M 39.151 99.94779 \r\nL 1713.151 99.94779 \r\n\" style=\"fill:none;stroke:#ffffff;stroke-linecap:round;\"/>\r\n     </g>\r\n     <g id=\"text_23\">\r\n      <!-- $\\mathdefault{10^{5}}$ -->\r\n      <g style=\"fill:#262626;\" transform=\"translate(7.2 107.249728)scale(0.143 -0.143)\">\r\n       <defs>\r\n        <path d=\"M 266 1200 \r\nL 856 1250 \r\nQ 922 819 1161 601 \r\nQ 1400 384 1738 384 \r\nQ 2144 384 2425 690 \r\nQ 2706 997 2706 1503 \r\nQ 2706 1984 2436 2262 \r\nQ 2166 2541 1728 2541 \r\nQ 1456 2541 1237 2417 \r\nQ 1019 2294 894 2097 \r\nL 366 2166 \r\nL 809 4519 \r\nL 3088 4519 \r\nL 3088 3981 \r\nL 1259 3981 \r\nL 1013 2750 \r\nQ 1425 3038 1878 3038 \r\nQ 2478 3038 2890 2622 \r\nQ 3303 2206 3303 1553 \r\nQ 3303 931 2941 478 \r\nQ 2500 -78 1738 -78 \r\nQ 1113 -78 717 272 \r\nQ 322 622 266 1200 \r\nz\r\n\" id=\"ArialMT-35\" transform=\"scale(0.015625)\"/>\r\n       </defs>\r\n       <use transform=\"translate(0 0.879688)\" xlink:href=\"#ArialMT-31\"/>\r\n       <use transform=\"translate(55.615234 0.879688)\" xlink:href=\"#ArialMT-30\"/>\r\n       <use transform=\"translate(112.972813 70.573438)scale(0.7)\" xlink:href=\"#ArialMT-35\"/>\r\n      </g>\r\n     </g>\r\n    </g>\r\n    <g id=\"ytick_4\"/>\r\n    <g id=\"ytick_5\"/>\r\n    <g id=\"ytick_6\"/>\r\n    <g id=\"ytick_7\"/>\r\n    <g id=\"ytick_8\"/>\r\n    <g id=\"ytick_9\"/>\r\n    <g id=\"ytick_10\"/>\r\n    <g id=\"ytick_11\"/>\r\n    <g id=\"ytick_12\"/>\r\n    <g id=\"ytick_13\"/>\r\n    <g id=\"ytick_14\"/>\r\n    <g id=\"ytick_15\"/>\r\n    <g id=\"ytick_16\"/>\r\n    <g id=\"ytick_17\"/>\r\n    <g id=\"ytick_18\"/>\r\n    <g id=\"ytick_19\"/>\r\n    <g id=\"ytick_20\"/>\r\n    <g id=\"ytick_21\"/>\r\n    <g id=\"ytick_22\"/>\r\n    <g id=\"ytick_23\"/>\r\n    <g id=\"ytick_24\"/>\r\n    <g id=\"ytick_25\"/>\r\n    <g id=\"ytick_26\"/>\r\n    <g id=\"ytick_27\"/>\r\n    <g id=\"ytick_28\"/>\r\n    <g id=\"ytick_29\"/>\r\n    <g id=\"ytick_30\"/>\r\n   </g>\r\n   <g id=\"patch_3\">\r\n    <path clip-path=\"url(#pe43bd9ba7e)\" d=\"M 115.241909 131411.058 \r\nL 176.729512 131411.058 \r\nL 176.729512 26.967273 \r\nL 115.241909 26.967273 \r\nz\r\n\" style=\"fill:#005321;stroke:#ffffff;stroke-linejoin:miter;\"/>\r\n   </g>\r\n   <g id=\"patch_4\">\r\n    <path clip-path=\"url(#pe43bd9ba7e)\" d=\"M 192.101413 131411.058 \r\nL 253.589017 131411.058 \r\nL 253.589017 233.54607 \r\nL 192.101413 233.54607 \r\nz\r\n\" style=\"fill:#006328;stroke:#ffffff;stroke-linejoin:miter;\"/>\r\n   </g>\r\n   <g id=\"patch_5\">\r\n    <path clip-path=\"url(#pe43bd9ba7e)\" d=\"M 268.960917 131411.058 \r\nL 330.448521 131411.058 \r\nL 330.448521 239.887694 \r\nL 268.960917 239.887694 \r\nz\r\n\" style=\"fill:#05712f;stroke:#ffffff;stroke-linejoin:miter;\"/>\r\n   </g>\r\n   <g id=\"patch_6\">\r\n    <path clip-path=\"url(#pe43bd9ba7e)\" d=\"M 345.820421 131411.058 \r\nL 407.308025 131411.058 \r\nL 407.308025 247.043436 \r\nL 345.820421 247.043436 \r\nz\r\n\" style=\"fill:#127c39;stroke:#ffffff;stroke-linejoin:miter;\"/>\r\n   </g>\r\n   <g id=\"patch_7\">\r\n    <path clip-path=\"url(#pe43bd9ba7e)\" d=\"M 422.679926 131411.058 \r\nL 484.167529 131411.058 \r\nL 484.167529 308.525338 \r\nL 422.679926 308.525338 \r\nz\r\n\" style=\"fill:#1f8742;stroke:#ffffff;stroke-linejoin:miter;\"/>\r\n   </g>\r\n   <g id=\"patch_8\">\r\n    <path clip-path=\"url(#pe43bd9ba7e)\" d=\"M 499.53943 131411.058 \r\nL 561.027033 131411.058 \r\nL 561.027033 312.275693 \r\nL 499.53943 312.275693 \r\nz\r\n\" style=\"fill:#2c9553;stroke:#ffffff;stroke-linejoin:miter;\"/>\r\n   </g>\r\n   <g id=\"patch_9\">\r\n    <path clip-path=\"url(#pe43bd9ba7e)\" d=\"M 576.398934 131411.058 \r\nL 637.886537 131411.058 \r\nL 637.886537 320.006855 \r\nL 576.398934 320.006855 \r\nz\r\n\" style=\"fill:#37a266;stroke:#ffffff;stroke-linejoin:miter;\"/>\r\n   </g>\r\n   <g id=\"patch_10\">\r\n    <path clip-path=\"url(#pe43bd9ba7e)\" d=\"M 653.258438 131411.058 \r\nL 714.746041 131411.058 \r\nL 714.746041 325.533187 \r\nL 653.258438 325.533187 \r\nz\r\n\" style=\"fill:#43af78;stroke:#ffffff;stroke-linejoin:miter;\"/>\r\n   </g>\r\n   <g id=\"patch_11\">\r\n    <path clip-path=\"url(#pe43bd9ba7e)\" d=\"M 730.117942 131411.058 \r\nL 791.605545 131411.058 \r\nL 791.605545 339.017408 \r\nL 730.117942 339.017408 \r\nz\r\n\" style=\"fill:#51b689;stroke:#ffffff;stroke-linejoin:miter;\"/>\r\n   </g>\r\n   <g id=\"patch_12\">\r\n    <path clip-path=\"url(#pe43bd9ba7e)\" d=\"M 806.977446 131411.058 \r\nL 868.46505 131411.058 \r\nL 868.46505 348.194289 \r\nL 806.977446 348.194289 \r\nz\r\n\" style=\"fill:#5ebe9b;stroke:#ffffff;stroke-linejoin:miter;\"/>\r\n   </g>\r\n   <g id=\"patch_13\">\r\n    <path clip-path=\"url(#pe43bd9ba7e)\" d=\"M 883.83695 131411.058 \r\nL 945.324554 131411.058 \r\nL 945.324554 356.581986 \r\nL 883.83695 356.581986 \r\nz\r\n\" style=\"fill:#70c6ac;stroke:#ffffff;stroke-linejoin:miter;\"/>\r\n   </g>\r\n   <g id=\"patch_14\">\r\n    <path clip-path=\"url(#pe43bd9ba7e)\" d=\"M 960.696455 131411.058 \r\nL 1022.184058 131411.058 \r\nL 1022.184058 373.713092 \r\nL 960.696455 373.713092 \r\nz\r\n\" style=\"fill:#84cfb9;stroke:#ffffff;stroke-linejoin:miter;\"/>\r\n   </g>\r\n   <g id=\"patch_15\">\r\n    <path clip-path=\"url(#pe43bd9ba7e)\" d=\"M 1037.555959 131411.058 \r\nL 1099.043562 131411.058 \r\nL 1099.043562 376.985592 \r\nL 1037.555959 376.985592 \r\nz\r\n\" style=\"fill:#97d7c7;stroke:#ffffff;stroke-linejoin:miter;\"/>\r\n   </g>\r\n   <g id=\"patch_16\">\r\n    <path clip-path=\"url(#pe43bd9ba7e)\" d=\"M 1114.415463 131411.058 \r\nL 1175.903066 131411.058 \r\nL 1175.903066 381.909354 \r\nL 1114.415463 381.909354 \r\nz\r\n\" style=\"fill:#aadfd3;stroke:#ffffff;stroke-linejoin:miter;\"/>\r\n   </g>\r\n   <g id=\"patch_17\">\r\n    <path clip-path=\"url(#pe43bd9ba7e)\" d=\"M 1191.274967 131411.058 \r\nL 1252.76257 131411.058 \r\nL 1252.76257 388.206332 \r\nL 1191.274967 388.206332 \r\nz\r\n\" style=\"fill:#bde6de;stroke:#ffffff;stroke-linejoin:miter;\"/>\r\n   </g>\r\n   <g id=\"patch_18\">\r\n    <path clip-path=\"url(#pe43bd9ba7e)\" d=\"M 1268.134471 131411.058 \r\nL 1329.622074 131411.058 \r\nL 1329.622074 405.080581 \r\nL 1268.134471 405.080581 \r\nz\r\n\" style=\"fill:#cfede8;stroke:#ffffff;stroke-linejoin:miter;\"/>\r\n   </g>\r\n   <g id=\"patch_19\">\r\n    <path clip-path=\"url(#pe43bd9ba7e)\" d=\"M 1344.993975 131411.058 \r\nL 1406.481579 131411.058 \r\nL 1406.481579 413.115724 \r\nL 1344.993975 413.115724 \r\nz\r\n\" style=\"fill:#d8f0ef;stroke:#ffffff;stroke-linejoin:miter;\"/>\r\n   </g>\r\n   <g id=\"patch_20\">\r\n    <path clip-path=\"url(#pe43bd9ba7e)\" d=\"M 1421.853479 131411.058 \r\nL 1483.341083 131411.058 \r\nL 1483.341083 414.839724 \r\nL 1421.853479 414.839724 \r\nz\r\n\" style=\"fill:#e2f4f7;stroke:#ffffff;stroke-linejoin:miter;\"/>\r\n   </g>\r\n   <g id=\"patch_21\">\r\n    <path clip-path=\"url(#pe43bd9ba7e)\" d=\"M 1498.712983 131411.058 \r\nL 1560.200587 131411.058 \r\nL 1560.200587 419.552104 \r\nL 1498.712983 419.552104 \r\nz\r\n\" style=\"fill:#e9f7fa;stroke:#ffffff;stroke-linejoin:miter;\"/>\r\n   </g>\r\n   <g id=\"patch_22\">\r\n    <path clip-path=\"url(#pe43bd9ba7e)\" d=\"M 1575.572488 131411.058 \r\nL 1637.060091 131411.058 \r\nL 1637.060091 422.312727 \r\nL 1575.572488 422.312727 \r\nz\r\n\" style=\"fill:#f0f9fb;stroke:#ffffff;stroke-linejoin:miter;\"/>\r\n   </g>\r\n   <g id=\"patch_23\">\r\n    <path d=\"M 39.151 442.08 \r\nL 39.151 7.2 \r\n\" style=\"fill:none;stroke:#ffffff;stroke-linecap:square;stroke-linejoin:miter;stroke-width:1.25;\"/>\r\n   </g>\r\n   <g id=\"patch_24\">\r\n    <path d=\"M 1713.151 442.08 \r\nL 1713.151 7.2 \r\n\" style=\"fill:none;stroke:#ffffff;stroke-linecap:square;stroke-linejoin:miter;stroke-width:1.25;\"/>\r\n   </g>\r\n   <g id=\"patch_25\">\r\n    <path d=\"M 39.151 442.08 \r\nL 1713.151 442.08 \r\n\" style=\"fill:none;stroke:#ffffff;stroke-linecap:square;stroke-linejoin:miter;stroke-width:1.25;\"/>\r\n   </g>\r\n   <g id=\"patch_26\">\r\n    <path d=\"M 39.151 7.2 \r\nL 1713.151 7.2 \r\n\" style=\"fill:none;stroke:#ffffff;stroke-linecap:square;stroke-linejoin:miter;stroke-width:1.25;\"/>\r\n   </g>\r\n  </g>\r\n </g>\r\n <defs>\r\n  <clipPath id=\"pe43bd9ba7e\">\r\n   <rect height=\"434.88\" width=\"1674\" x=\"39.151\" y=\"7.2\"/>\r\n  </clipPath>\r\n </defs>\r\n</svg>\r\n",
      "image/png": "[encoded data removed]"
     },
     "metadata": {}
    }
   ],
   "metadata": {
    "execution": {
     "iopub.execute_input": "2021-08-04T20:58:29.207989Z",
     "iopub.status.busy": "2021-08-04T20:58:29.207668Z",
     "iopub.status.idle": "2021-08-04T20:58:30.242009Z",
     "shell.execute_reply": "2021-08-04T20:58:30.241104Z",
     "shell.execute_reply.started": "2021-08-04T20:58:29.207929Z"
    }
   }
  },
  {
   "cell_type": "markdown",
   "source": [
    "### Q2: Show the Top 10 Customers how made the largest Revenue\n",
    "### Q6: Calculate the Total Revenue for each Row"
   ],
   "metadata": {}
  },
  {
   "cell_type": "code",
   "execution_count": 9,
   "source": [
    "df['Revenue']=df.UnitPrice*df.Quantity\r\n",
    "x=df.groupby('CustomerID')['Revenue'].sum()\r\n",
    "df_top_10=x.sort_values(0,False).reset_index()\r\n",
    "df_top_10=df_top_10[:10]\r\n",
    "df_top_10"
   ],
   "outputs": [
    {
     "output_type": "execute_result",
     "data": {
      "text/plain": [
       "  CustomerID    Revenue\n",
       "0      14646  279489.02\n",
       "1      18102  256438.49\n",
       "2      17450  187482.17\n",
       "3      14911  132572.62\n",
       "4      12415  123725.45\n",
       "5      14156  113384.14\n",
       "6      17511   88125.38\n",
       "7      16684   65892.08\n",
       "8      13694   62653.10\n",
       "9      15311   59419.34"
      ],
      "text/html": [
       "<div>\n",
       "<style scoped>\n",
       "    .dataframe tbody tr th:only-of-type {\n",
       "        vertical-align: middle;\n",
       "    }\n",
       "\n",
       "    .dataframe tbody tr th {\n",
       "        vertical-align: top;\n",
       "    }\n",
       "\n",
       "    .dataframe thead th {\n",
       "        text-align: right;\n",
       "    }\n",
       "</style>\n",
       "<table border=\"1\" class=\"dataframe\">\n",
       "  <thead>\n",
       "    <tr style=\"text-align: right;\">\n",
       "      <th></th>\n",
       "      <th>CustomerID</th>\n",
       "      <th>Revenue</th>\n",
       "    </tr>\n",
       "  </thead>\n",
       "  <tbody>\n",
       "    <tr>\n",
       "      <th>0</th>\n",
       "      <td>14646</td>\n",
       "      <td>279489.02</td>\n",
       "    </tr>\n",
       "    <tr>\n",
       "      <th>1</th>\n",
       "      <td>18102</td>\n",
       "      <td>256438.49</td>\n",
       "    </tr>\n",
       "    <tr>\n",
       "      <th>2</th>\n",
       "      <td>17450</td>\n",
       "      <td>187482.17</td>\n",
       "    </tr>\n",
       "    <tr>\n",
       "      <th>3</th>\n",
       "      <td>14911</td>\n",
       "      <td>132572.62</td>\n",
       "    </tr>\n",
       "    <tr>\n",
       "      <th>4</th>\n",
       "      <td>12415</td>\n",
       "      <td>123725.45</td>\n",
       "    </tr>\n",
       "    <tr>\n",
       "      <th>5</th>\n",
       "      <td>14156</td>\n",
       "      <td>113384.14</td>\n",
       "    </tr>\n",
       "    <tr>\n",
       "      <th>6</th>\n",
       "      <td>17511</td>\n",
       "      <td>88125.38</td>\n",
       "    </tr>\n",
       "    <tr>\n",
       "      <th>7</th>\n",
       "      <td>16684</td>\n",
       "      <td>65892.08</td>\n",
       "    </tr>\n",
       "    <tr>\n",
       "      <th>8</th>\n",
       "      <td>13694</td>\n",
       "      <td>62653.10</td>\n",
       "    </tr>\n",
       "    <tr>\n",
       "      <th>9</th>\n",
       "      <td>15311</td>\n",
       "      <td>59419.34</td>\n",
       "    </tr>\n",
       "  </tbody>\n",
       "</table>\n",
       "</div>"
      ]
     },
     "metadata": {},
     "execution_count": 9
    }
   ],
   "metadata": {
    "execution": {
     "iopub.execute_input": "2021-08-04T17:58:21.812103Z",
     "iopub.status.busy": "2021-08-04T17:58:21.811897Z",
     "iopub.status.idle": "2021-08-04T17:58:21.863490Z",
     "shell.execute_reply": "2021-08-04T17:58:21.862500Z",
     "shell.execute_reply.started": "2021-08-04T17:58:21.812071Z"
    }
   }
  },
  {
   "cell_type": "markdown",
   "source": [
    "### Q3: Show Top 5 frequent Customers"
   ],
   "metadata": {}
  },
  {
   "cell_type": "code",
   "execution_count": 10,
   "source": [
    "df_top_cust=df.CustomerID.value_counts()[:5]\r\n",
    "\r\n",
    "df_top_cust=df_top_cust.reset_index()\r\n",
    "df_top_cust.rename({'CustomerID':'Frequency','index':'CustomerID'},axis='columns')"
   ],
   "outputs": [
    {
     "output_type": "execute_result",
     "data": {
      "text/plain": [
       "  CustomerID  Frequency\n",
       "0      17841       7983\n",
       "1      14911       5903\n",
       "2      14096       5128\n",
       "3      12748       4642\n",
       "4      14606       2782"
      ],
      "text/html": [
       "<div>\n",
       "<style scoped>\n",
       "    .dataframe tbody tr th:only-of-type {\n",
       "        vertical-align: middle;\n",
       "    }\n",
       "\n",
       "    .dataframe tbody tr th {\n",
       "        vertical-align: top;\n",
       "    }\n",
       "\n",
       "    .dataframe thead th {\n",
       "        text-align: right;\n",
       "    }\n",
       "</style>\n",
       "<table border=\"1\" class=\"dataframe\">\n",
       "  <thead>\n",
       "    <tr style=\"text-align: right;\">\n",
       "      <th></th>\n",
       "      <th>CustomerID</th>\n",
       "      <th>Frequency</th>\n",
       "    </tr>\n",
       "  </thead>\n",
       "  <tbody>\n",
       "    <tr>\n",
       "      <th>0</th>\n",
       "      <td>17841</td>\n",
       "      <td>7983</td>\n",
       "    </tr>\n",
       "    <tr>\n",
       "      <th>1</th>\n",
       "      <td>14911</td>\n",
       "      <td>5903</td>\n",
       "    </tr>\n",
       "    <tr>\n",
       "      <th>2</th>\n",
       "      <td>14096</td>\n",
       "      <td>5128</td>\n",
       "    </tr>\n",
       "    <tr>\n",
       "      <th>3</th>\n",
       "      <td>12748</td>\n",
       "      <td>4642</td>\n",
       "    </tr>\n",
       "    <tr>\n",
       "      <th>4</th>\n",
       "      <td>14606</td>\n",
       "      <td>2782</td>\n",
       "    </tr>\n",
       "  </tbody>\n",
       "</table>\n",
       "</div>"
      ]
     },
     "metadata": {},
     "execution_count": 10
    }
   ],
   "metadata": {
    "execution": {
     "iopub.execute_input": "2021-08-04T17:58:21.669893Z",
     "iopub.status.busy": "2021-08-04T17:58:21.669634Z",
     "iopub.status.idle": "2021-08-04T17:58:21.810774Z",
     "shell.execute_reply": "2021-08-04T17:58:21.809729Z",
     "shell.execute_reply.started": "2021-08-04T17:58:21.669851Z"
    }
   }
  },
  {
   "cell_type": "code",
   "execution_count": 11,
   "source": [
    "f\"{df.shape[0]:,}\""
   ],
   "outputs": [
    {
     "output_type": "execute_result",
     "data": {
      "text/plain": [
       "'406,829'"
      ]
     },
     "metadata": {},
     "execution_count": 11
    }
   ],
   "metadata": {
    "execution": {
     "iopub.execute_input": "2021-08-04T17:58:21.865256Z",
     "iopub.status.busy": "2021-08-04T17:58:21.864970Z",
     "iopub.status.idle": "2021-08-04T17:58:21.871188Z",
     "shell.execute_reply": "2021-08-04T17:58:21.870099Z",
     "shell.execute_reply.started": "2021-08-04T17:58:21.865207Z"
    },
    "scrolled": true
   }
  },
  {
   "cell_type": "markdown",
   "source": [
    "### Q4: Create a histogram that reveals the count of words of 𝑫𝒆𝒔𝒄𝒓𝒊𝒑𝒕𝒊𝒐𝒏"
   ],
   "metadata": {}
  },
  {
   "cell_type": "code",
   "execution_count": 69,
   "source": [
    "v=df.Description.str.len()\r\n",
    "v=pd.Series(v)\r\n",
    "plt.figure(figsize=(25,8))\r\n",
    "sns.countplot(v,color='Purple')\r\n",
    "plt.show()\r\n"
   ],
   "outputs": [
    {
     "output_type": "stream",
     "name": "stderr",
     "text": [
      "C:\\Users\\20106\\AppData\\Local\\Programs\\Python\\Python38-32\\lib\\site-packages\\seaborn\\_decorators.py:36: FutureWarning: Pass the following variable as a keyword arg: x. From version 0.12, the only valid positional argument will be `data`, and passing other arguments without an explicit keyword will result in an error or misinterpretation.\n",
      "  warnings.warn(\n"
     ]
    },
    {
     "output_type": "display_data",
     "data": {
      "text/plain": [
       "<Figure size 1800x576 with 1 Axes>"
      ],
      "image/svg+xml": "<?xml version=\"1.0\" encoding=\"utf-8\" standalone=\"no\"?>\r\n<!DOCTYPE svg PUBLIC \"-//W3C//DTD SVG 1.1//EN\"\r\n  \"http://www.w3.org/Graphics/SVG/1.1/DTD/svg11.dtd\">\r\n<svg height=\"490.124484pt\" version=\"1.1\" viewBox=\"0 0 1476.927391 490.124484\" width=\"1476.927391pt\" xmlns=\"http://www.w3.org/2000/svg\" xmlns:xlink=\"http://www.w3.org/1999/xlink\">\r\n <metadata>\r\n  <rdf:RDF xmlns:cc=\"http://creativecommons.org/ns#\" xmlns:dc=\"http://purl.org/dc/elements/1.1/\" xmlns:rdf=\"http://www.w3.org/1999/02/22-rdf-syntax-ns#\">\r\n   <cc:Work>\r\n    <dc:type rdf:resource=\"http://purl.org/dc/dcmitype/StillImage\"/>\r\n    <dc:date>2021-08-21T19:42:58.174658</dc:date>\r\n    <dc:format>image/svg+xml</dc:format>\r\n    <dc:creator>\r\n     <cc:Agent>\r\n      <dc:title>Matplotlib v3.4.2, https://matplotlib.org/</dc:title>\r\n     </cc:Agent>\r\n    </dc:creator>\r\n   </cc:Work>\r\n  </rdf:RDF>\r\n </metadata>\r\n <defs>\r\n  <style type=\"text/css\">*{stroke-linecap:butt;stroke-linejoin:round;}</style>\r\n </defs>\r\n <g id=\"figure_1\">\r\n  <g id=\"patch_1\">\r\n   <path d=\"M 0 490.124484 \r\nL 1476.927391 490.124484 \r\nL 1476.927391 0 \r\nL 0 0 \r\nz\r\n\" style=\"fill:#ffffff;\"/>\r\n  </g>\r\n  <g id=\"axes_1\">\r\n   <g id=\"patch_2\">\r\n    <path d=\"M 74.727391 442.08 \r\nL 1469.727391 442.08 \r\nL 1469.727391 7.2 \r\nL 74.727391 7.2 \r\nz\r\n\" style=\"fill:#eaeaf2;\"/>\r\n   </g>\r\n   <g id=\"matplotlib.axis_1\">\r\n    <g id=\"xtick_1\">\r\n     <g id=\"text_1\">\r\n      <!-- 6 -->\r\n      <g style=\"fill:#262626;\" transform=\"translate(94.00132 461.815672)scale(0.143 -0.143)\">\r\n       <defs>\r\n        <path d=\"M 3184 3459 \r\nL 2625 3416 \r\nQ 2550 3747 2413 3897 \r\nQ 2184 4138 1850 4138 \r\nQ 1581 4138 1378 3988 \r\nQ 1113 3794 959 3422 \r\nQ 806 3050 800 2363 \r\nQ 1003 2672 1297 2822 \r\nQ 1591 2972 1913 2972 \r\nQ 2475 2972 2870 2558 \r\nQ 3266 2144 3266 1488 \r\nQ 3266 1056 3080 686 \r\nQ 2894 316 2569 119 \r\nQ 2244 -78 1831 -78 \r\nQ 1128 -78 684 439 \r\nQ 241 956 241 2144 \r\nQ 241 3472 731 4075 \r\nQ 1159 4600 1884 4600 \r\nQ 2425 4600 2770 4297 \r\nQ 3116 3994 3184 3459 \r\nz\r\nM 888 1484 \r\nQ 888 1194 1011 928 \r\nQ 1134 663 1356 523 \r\nQ 1578 384 1822 384 \r\nQ 2178 384 2434 671 \r\nQ 2691 959 2691 1453 \r\nQ 2691 1928 2437 2201 \r\nQ 2184 2475 1800 2475 \r\nQ 1419 2475 1153 2201 \r\nQ 888 1928 888 1484 \r\nz\r\n\" id=\"ArialMT-36\" transform=\"scale(0.015625)\"/>\r\n       </defs>\r\n       <use xlink:href=\"#ArialMT-36\"/>\r\n      </g>\r\n     </g>\r\n    </g>\r\n    <g id=\"xtick_2\">\r\n     <g id=\"text_2\">\r\n      <!-- 7 -->\r\n      <g style=\"fill:#262626;\" transform=\"translate(140.50132 461.815672)scale(0.143 -0.143)\">\r\n       <defs>\r\n        <path d=\"M 303 3981 \r\nL 303 4522 \r\nL 3269 4522 \r\nL 3269 4084 \r\nQ 2831 3619 2401 2847 \r\nQ 1972 2075 1738 1259 \r\nQ 1569 684 1522 0 \r\nL 944 0 \r\nQ 953 541 1156 1306 \r\nQ 1359 2072 1739 2783 \r\nQ 2119 3494 2547 3981 \r\nL 303 3981 \r\nz\r\n\" id=\"ArialMT-37\" transform=\"scale(0.015625)\"/>\r\n       </defs>\r\n       <use xlink:href=\"#ArialMT-37\"/>\r\n      </g>\r\n     </g>\r\n    </g>\r\n    <g id=\"xtick_3\">\r\n     <g id=\"text_3\">\r\n      <!-- 8 -->\r\n      <g style=\"fill:#262626;\" transform=\"translate(187.00132 461.815672)scale(0.143 -0.143)\">\r\n       <defs>\r\n        <path d=\"M 1131 2484 \r\nQ 781 2613 612 2850 \r\nQ 444 3088 444 3419 \r\nQ 444 3919 803 4259 \r\nQ 1163 4600 1759 4600 \r\nQ 2359 4600 2725 4251 \r\nQ 3091 3903 3091 3403 \r\nQ 3091 3084 2923 2848 \r\nQ 2756 2613 2416 2484 \r\nQ 2838 2347 3058 2040 \r\nQ 3278 1734 3278 1309 \r\nQ 3278 722 2862 322 \r\nQ 2447 -78 1769 -78 \r\nQ 1091 -78 675 323 \r\nQ 259 725 259 1325 \r\nQ 259 1772 486 2073 \r\nQ 713 2375 1131 2484 \r\nz\r\nM 1019 3438 \r\nQ 1019 3113 1228 2906 \r\nQ 1438 2700 1772 2700 \r\nQ 2097 2700 2305 2904 \r\nQ 2513 3109 2513 3406 \r\nQ 2513 3716 2298 3927 \r\nQ 2084 4138 1766 4138 \r\nQ 1444 4138 1231 3931 \r\nQ 1019 3725 1019 3438 \r\nz\r\nM 838 1322 \r\nQ 838 1081 952 856 \r\nQ 1066 631 1291 507 \r\nQ 1516 384 1775 384 \r\nQ 2178 384 2440 643 \r\nQ 2703 903 2703 1303 \r\nQ 2703 1709 2433 1975 \r\nQ 2163 2241 1756 2241 \r\nQ 1359 2241 1098 1978 \r\nQ 838 1716 838 1322 \r\nz\r\n\" id=\"ArialMT-38\" transform=\"scale(0.015625)\"/>\r\n       </defs>\r\n       <use xlink:href=\"#ArialMT-38\"/>\r\n      </g>\r\n     </g>\r\n    </g>\r\n    <g id=\"xtick_4\">\r\n     <g id=\"text_4\">\r\n      <!-- 9 -->\r\n      <g style=\"fill:#262626;\" transform=\"translate(233.50132 461.815672)scale(0.143 -0.143)\">\r\n       <defs>\r\n        <path d=\"M 350 1059 \r\nL 891 1109 \r\nQ 959 728 1153 556 \r\nQ 1347 384 1650 384 \r\nQ 1909 384 2104 503 \r\nQ 2300 622 2425 820 \r\nQ 2550 1019 2634 1356 \r\nQ 2719 1694 2719 2044 \r\nQ 2719 2081 2716 2156 \r\nQ 2547 1888 2255 1720 \r\nQ 1963 1553 1622 1553 \r\nQ 1053 1553 659 1965 \r\nQ 266 2378 266 3053 \r\nQ 266 3750 677 4175 \r\nQ 1088 4600 1706 4600 \r\nQ 2153 4600 2523 4359 \r\nQ 2894 4119 3086 3673 \r\nQ 3278 3228 3278 2384 \r\nQ 3278 1506 3087 986 \r\nQ 2897 466 2520 194 \r\nQ 2144 -78 1638 -78 \r\nQ 1100 -78 759 220 \r\nQ 419 519 350 1059 \r\nz\r\nM 2653 3081 \r\nQ 2653 3566 2395 3850 \r\nQ 2138 4134 1775 4134 \r\nQ 1400 4134 1122 3828 \r\nQ 844 3522 844 3034 \r\nQ 844 2597 1108 2323 \r\nQ 1372 2050 1759 2050 \r\nQ 2150 2050 2401 2323 \r\nQ 2653 2597 2653 3081 \r\nz\r\n\" id=\"ArialMT-39\" transform=\"scale(0.015625)\"/>\r\n       </defs>\r\n       <use xlink:href=\"#ArialMT-39\"/>\r\n      </g>\r\n     </g>\r\n    </g>\r\n    <g id=\"xtick_5\">\r\n     <g id=\"text_5\">\r\n      <!-- 10 -->\r\n      <g style=\"fill:#262626;\" transform=\"translate(276.02525 461.815672)scale(0.143 -0.143)\">\r\n       <defs>\r\n        <path d=\"M 2384 0 \r\nL 1822 0 \r\nL 1822 3584 \r\nQ 1619 3391 1289 3197 \r\nQ 959 3003 697 2906 \r\nL 697 3450 \r\nQ 1169 3672 1522 3987 \r\nQ 1875 4303 2022 4600 \r\nL 2384 4600 \r\nL 2384 0 \r\nz\r\n\" id=\"ArialMT-31\" transform=\"scale(0.015625)\"/>\r\n        <path d=\"M 266 2259 \r\nQ 266 3072 433 3567 \r\nQ 600 4063 929 4331 \r\nQ 1259 4600 1759 4600 \r\nQ 2128 4600 2406 4451 \r\nQ 2684 4303 2865 4023 \r\nQ 3047 3744 3150 3342 \r\nQ 3253 2941 3253 2259 \r\nQ 3253 1453 3087 958 \r\nQ 2922 463 2592 192 \r\nQ 2263 -78 1759 -78 \r\nQ 1097 -78 719 397 \r\nQ 266 969 266 2259 \r\nz\r\nM 844 2259 \r\nQ 844 1131 1108 757 \r\nQ 1372 384 1759 384 \r\nQ 2147 384 2411 759 \r\nQ 2675 1134 2675 2259 \r\nQ 2675 3391 2411 3762 \r\nQ 2147 4134 1753 4134 \r\nQ 1366 4134 1134 3806 \r\nQ 844 3388 844 2259 \r\nz\r\n\" id=\"ArialMT-30\" transform=\"scale(0.015625)\"/>\r\n       </defs>\r\n       <use xlink:href=\"#ArialMT-31\"/>\r\n       <use x=\"55.615234\" xlink:href=\"#ArialMT-30\"/>\r\n      </g>\r\n     </g>\r\n    </g>\r\n    <g id=\"xtick_6\">\r\n     <g id=\"text_6\">\r\n      <!-- 11 -->\r\n      <g style=\"fill:#262626;\" transform=\"translate(323.052563 461.815672)scale(0.143 -0.143)\">\r\n       <use xlink:href=\"#ArialMT-31\"/>\r\n       <use x=\"48.240234\" xlink:href=\"#ArialMT-31\"/>\r\n      </g>\r\n     </g>\r\n    </g>\r\n    <g id=\"xtick_7\">\r\n     <g id=\"text_7\">\r\n      <!-- 12 -->\r\n      <g style=\"fill:#262626;\" transform=\"translate(369.02525 461.815672)scale(0.143 -0.143)\">\r\n       <defs>\r\n        <path d=\"M 3222 541 \r\nL 3222 0 \r\nL 194 0 \r\nQ 188 203 259 391 \r\nQ 375 700 629 1000 \r\nQ 884 1300 1366 1694 \r\nQ 2113 2306 2375 2664 \r\nQ 2638 3022 2638 3341 \r\nQ 2638 3675 2398 3904 \r\nQ 2159 4134 1775 4134 \r\nQ 1369 4134 1125 3890 \r\nQ 881 3647 878 3216 \r\nL 300 3275 \r\nQ 359 3922 746 4261 \r\nQ 1134 4600 1788 4600 \r\nQ 2447 4600 2831 4234 \r\nQ 3216 3869 3216 3328 \r\nQ 3216 3053 3103 2787 \r\nQ 2991 2522 2730 2228 \r\nQ 2469 1934 1863 1422 \r\nQ 1356 997 1212 845 \r\nQ 1069 694 975 541 \r\nL 3222 541 \r\nz\r\n\" id=\"ArialMT-32\" transform=\"scale(0.015625)\"/>\r\n       </defs>\r\n       <use xlink:href=\"#ArialMT-31\"/>\r\n       <use x=\"55.615234\" xlink:href=\"#ArialMT-32\"/>\r\n      </g>\r\n     </g>\r\n    </g>\r\n    <g id=\"xtick_8\">\r\n     <g id=\"text_8\">\r\n      <!-- 13 -->\r\n      <g style=\"fill:#262626;\" transform=\"translate(415.52525 461.815672)scale(0.143 -0.143)\">\r\n       <defs>\r\n        <path d=\"M 269 1209 \r\nL 831 1284 \r\nQ 928 806 1161 595 \r\nQ 1394 384 1728 384 \r\nQ 2125 384 2398 659 \r\nQ 2672 934 2672 1341 \r\nQ 2672 1728 2419 1979 \r\nQ 2166 2231 1775 2231 \r\nQ 1616 2231 1378 2169 \r\nL 1441 2663 \r\nQ 1497 2656 1531 2656 \r\nQ 1891 2656 2178 2843 \r\nQ 2466 3031 2466 3422 \r\nQ 2466 3731 2256 3934 \r\nQ 2047 4138 1716 4138 \r\nQ 1388 4138 1169 3931 \r\nQ 950 3725 888 3313 \r\nL 325 3413 \r\nQ 428 3978 793 4289 \r\nQ 1159 4600 1703 4600 \r\nQ 2078 4600 2393 4439 \r\nQ 2709 4278 2876 4000 \r\nQ 3044 3722 3044 3409 \r\nQ 3044 3113 2884 2869 \r\nQ 2725 2625 2413 2481 \r\nQ 2819 2388 3044 2092 \r\nQ 3269 1797 3269 1353 \r\nQ 3269 753 2831 336 \r\nQ 2394 -81 1725 -81 \r\nQ 1122 -81 723 278 \r\nQ 325 638 269 1209 \r\nz\r\n\" id=\"ArialMT-33\" transform=\"scale(0.015625)\"/>\r\n       </defs>\r\n       <use xlink:href=\"#ArialMT-31\"/>\r\n       <use x=\"55.615234\" xlink:href=\"#ArialMT-33\"/>\r\n      </g>\r\n     </g>\r\n    </g>\r\n    <g id=\"xtick_9\">\r\n     <g id=\"text_9\">\r\n      <!-- 14 -->\r\n      <g style=\"fill:#262626;\" transform=\"translate(462.02525 461.815672)scale(0.143 -0.143)\">\r\n       <defs>\r\n        <path d=\"M 2069 0 \r\nL 2069 1097 \r\nL 81 1097 \r\nL 81 1613 \r\nL 2172 4581 \r\nL 2631 4581 \r\nL 2631 1613 \r\nL 3250 1613 \r\nL 3250 1097 \r\nL 2631 1097 \r\nL 2631 0 \r\nL 2069 0 \r\nz\r\nM 2069 1613 \r\nL 2069 3678 \r\nL 634 1613 \r\nL 2069 1613 \r\nz\r\n\" id=\"ArialMT-34\" transform=\"scale(0.015625)\"/>\r\n       </defs>\r\n       <use xlink:href=\"#ArialMT-31\"/>\r\n       <use x=\"55.615234\" xlink:href=\"#ArialMT-34\"/>\r\n      </g>\r\n     </g>\r\n    </g>\r\n    <g id=\"xtick_10\">\r\n     <g id=\"text_10\">\r\n      <!-- 15 -->\r\n      <g style=\"fill:#262626;\" transform=\"translate(508.52525 461.815672)scale(0.143 -0.143)\">\r\n       <defs>\r\n        <path d=\"M 266 1200 \r\nL 856 1250 \r\nQ 922 819 1161 601 \r\nQ 1400 384 1738 384 \r\nQ 2144 384 2425 690 \r\nQ 2706 997 2706 1503 \r\nQ 2706 1984 2436 2262 \r\nQ 2166 2541 1728 2541 \r\nQ 1456 2541 1237 2417 \r\nQ 1019 2294 894 2097 \r\nL 366 2166 \r\nL 809 4519 \r\nL 3088 4519 \r\nL 3088 3981 \r\nL 1259 3981 \r\nL 1013 2750 \r\nQ 1425 3038 1878 3038 \r\nQ 2478 3038 2890 2622 \r\nQ 3303 2206 3303 1553 \r\nQ 3303 931 2941 478 \r\nQ 2500 -78 1738 -78 \r\nQ 1113 -78 717 272 \r\nQ 322 622 266 1200 \r\nz\r\n\" id=\"ArialMT-35\" transform=\"scale(0.015625)\"/>\r\n       </defs>\r\n       <use xlink:href=\"#ArialMT-31\"/>\r\n       <use x=\"55.615234\" xlink:href=\"#ArialMT-35\"/>\r\n      </g>\r\n     </g>\r\n    </g>\r\n    <g id=\"xtick_11\">\r\n     <g id=\"text_11\">\r\n      <!-- 16 -->\r\n      <g style=\"fill:#262626;\" transform=\"translate(555.02525 461.815672)scale(0.143 -0.143)\">\r\n       <use xlink:href=\"#ArialMT-31\"/>\r\n       <use x=\"55.615234\" xlink:href=\"#ArialMT-36\"/>\r\n      </g>\r\n     </g>\r\n    </g>\r\n    <g id=\"xtick_12\">\r\n     <g id=\"text_12\">\r\n      <!-- 17 -->\r\n      <g style=\"fill:#262626;\" transform=\"translate(601.52525 461.815672)scale(0.143 -0.143)\">\r\n       <use xlink:href=\"#ArialMT-31\"/>\r\n       <use x=\"55.615234\" xlink:href=\"#ArialMT-37\"/>\r\n      </g>\r\n     </g>\r\n    </g>\r\n    <g id=\"xtick_13\">\r\n     <g id=\"text_13\">\r\n      <!-- 18 -->\r\n      <g style=\"fill:#262626;\" transform=\"translate(648.02525 461.815672)scale(0.143 -0.143)\">\r\n       <use xlink:href=\"#ArialMT-31\"/>\r\n       <use x=\"55.615234\" xlink:href=\"#ArialMT-38\"/>\r\n      </g>\r\n     </g>\r\n    </g>\r\n    <g id=\"xtick_14\">\r\n     <g id=\"text_14\">\r\n      <!-- 19 -->\r\n      <g style=\"fill:#262626;\" transform=\"translate(694.52525 461.815672)scale(0.143 -0.143)\">\r\n       <use xlink:href=\"#ArialMT-31\"/>\r\n       <use x=\"55.615234\" xlink:href=\"#ArialMT-39\"/>\r\n      </g>\r\n     </g>\r\n    </g>\r\n    <g id=\"xtick_15\">\r\n     <g id=\"text_15\">\r\n      <!-- 20 -->\r\n      <g style=\"fill:#262626;\" transform=\"translate(741.02525 461.815672)scale(0.143 -0.143)\">\r\n       <use xlink:href=\"#ArialMT-32\"/>\r\n       <use x=\"55.615234\" xlink:href=\"#ArialMT-30\"/>\r\n      </g>\r\n     </g>\r\n    </g>\r\n    <g id=\"xtick_16\">\r\n     <g id=\"text_16\">\r\n      <!-- 21 -->\r\n      <g style=\"fill:#262626;\" transform=\"translate(787.52525 461.815672)scale(0.143 -0.143)\">\r\n       <use xlink:href=\"#ArialMT-32\"/>\r\n       <use x=\"55.615234\" xlink:href=\"#ArialMT-31\"/>\r\n      </g>\r\n     </g>\r\n    </g>\r\n    <g id=\"xtick_17\">\r\n     <g id=\"text_17\">\r\n      <!-- 22 -->\r\n      <g style=\"fill:#262626;\" transform=\"translate(834.02525 461.815672)scale(0.143 -0.143)\">\r\n       <use xlink:href=\"#ArialMT-32\"/>\r\n       <use x=\"55.615234\" xlink:href=\"#ArialMT-32\"/>\r\n      </g>\r\n     </g>\r\n    </g>\r\n    <g id=\"xtick_18\">\r\n     <g id=\"text_18\">\r\n      <!-- 23 -->\r\n      <g style=\"fill:#262626;\" transform=\"translate(880.52525 461.815672)scale(0.143 -0.143)\">\r\n       <use xlink:href=\"#ArialMT-32\"/>\r\n       <use x=\"55.615234\" xlink:href=\"#ArialMT-33\"/>\r\n      </g>\r\n     </g>\r\n    </g>\r\n    <g id=\"xtick_19\">\r\n     <g id=\"text_19\">\r\n      <!-- 24 -->\r\n      <g style=\"fill:#262626;\" transform=\"translate(927.02525 461.815672)scale(0.143 -0.143)\">\r\n       <use xlink:href=\"#ArialMT-32\"/>\r\n       <use x=\"55.615234\" xlink:href=\"#ArialMT-34\"/>\r\n      </g>\r\n     </g>\r\n    </g>\r\n    <g id=\"xtick_20\">\r\n     <g id=\"text_20\">\r\n      <!-- 25 -->\r\n      <g style=\"fill:#262626;\" transform=\"translate(973.52525 461.815672)scale(0.143 -0.143)\">\r\n       <use xlink:href=\"#ArialMT-32\"/>\r\n       <use x=\"55.615234\" xlink:href=\"#ArialMT-35\"/>\r\n      </g>\r\n     </g>\r\n    </g>\r\n    <g id=\"xtick_21\">\r\n     <g id=\"text_21\">\r\n      <!-- 26 -->\r\n      <g style=\"fill:#262626;\" transform=\"translate(1020.02525 461.815672)scale(0.143 -0.143)\">\r\n       <use xlink:href=\"#ArialMT-32\"/>\r\n       <use x=\"55.615234\" xlink:href=\"#ArialMT-36\"/>\r\n      </g>\r\n     </g>\r\n    </g>\r\n    <g id=\"xtick_22\">\r\n     <g id=\"text_22\">\r\n      <!-- 27 -->\r\n      <g style=\"fill:#262626;\" transform=\"translate(1066.52525 461.815672)scale(0.143 -0.143)\">\r\n       <use xlink:href=\"#ArialMT-32\"/>\r\n       <use x=\"55.615234\" xlink:href=\"#ArialMT-37\"/>\r\n      </g>\r\n     </g>\r\n    </g>\r\n    <g id=\"xtick_23\">\r\n     <g id=\"text_23\">\r\n      <!-- 28 -->\r\n      <g style=\"fill:#262626;\" transform=\"translate(1113.02525 461.815672)scale(0.143 -0.143)\">\r\n       <use xlink:href=\"#ArialMT-32\"/>\r\n       <use x=\"55.615234\" xlink:href=\"#ArialMT-38\"/>\r\n      </g>\r\n     </g>\r\n    </g>\r\n    <g id=\"xtick_24\">\r\n     <g id=\"text_24\">\r\n      <!-- 29 -->\r\n      <g style=\"fill:#262626;\" transform=\"translate(1159.52525 461.815672)scale(0.143 -0.143)\">\r\n       <use xlink:href=\"#ArialMT-32\"/>\r\n       <use x=\"55.615234\" xlink:href=\"#ArialMT-39\"/>\r\n      </g>\r\n     </g>\r\n    </g>\r\n    <g id=\"xtick_25\">\r\n     <g id=\"text_25\">\r\n      <!-- 30 -->\r\n      <g style=\"fill:#262626;\" transform=\"translate(1206.02525 461.815672)scale(0.143 -0.143)\">\r\n       <use xlink:href=\"#ArialMT-33\"/>\r\n       <use x=\"55.615234\" xlink:href=\"#ArialMT-30\"/>\r\n      </g>\r\n     </g>\r\n    </g>\r\n    <g id=\"xtick_26\">\r\n     <g id=\"text_26\">\r\n      <!-- 31 -->\r\n      <g style=\"fill:#262626;\" transform=\"translate(1252.52525 461.815672)scale(0.143 -0.143)\">\r\n       <use xlink:href=\"#ArialMT-33\"/>\r\n       <use x=\"55.615234\" xlink:href=\"#ArialMT-31\"/>\r\n      </g>\r\n     </g>\r\n    </g>\r\n    <g id=\"xtick_27\">\r\n     <g id=\"text_27\">\r\n      <!-- 32 -->\r\n      <g style=\"fill:#262626;\" transform=\"translate(1299.02525 461.815672)scale(0.143 -0.143)\">\r\n       <use xlink:href=\"#ArialMT-33\"/>\r\n       <use x=\"55.615234\" xlink:href=\"#ArialMT-32\"/>\r\n      </g>\r\n     </g>\r\n    </g>\r\n    <g id=\"xtick_28\">\r\n     <g id=\"text_28\">\r\n      <!-- 33 -->\r\n      <g style=\"fill:#262626;\" transform=\"translate(1345.52525 461.815672)scale(0.143 -0.143)\">\r\n       <use xlink:href=\"#ArialMT-33\"/>\r\n       <use x=\"55.615234\" xlink:href=\"#ArialMT-33\"/>\r\n      </g>\r\n     </g>\r\n    </g>\r\n    <g id=\"xtick_29\">\r\n     <g id=\"text_29\">\r\n      <!-- 34 -->\r\n      <g style=\"fill:#262626;\" transform=\"translate(1392.02525 461.815672)scale(0.143 -0.143)\">\r\n       <use xlink:href=\"#ArialMT-33\"/>\r\n       <use x=\"55.615234\" xlink:href=\"#ArialMT-34\"/>\r\n      </g>\r\n     </g>\r\n    </g>\r\n    <g id=\"xtick_30\">\r\n     <g id=\"text_30\">\r\n      <!-- 35 -->\r\n      <g style=\"fill:#262626;\" transform=\"translate(1438.52525 461.815672)scale(0.143 -0.143)\">\r\n       <use xlink:href=\"#ArialMT-33\"/>\r\n       <use x=\"55.615234\" xlink:href=\"#ArialMT-35\"/>\r\n      </g>\r\n     </g>\r\n    </g>\r\n    <g id=\"text_31\">\r\n     <!-- Description -->\r\n     <g style=\"fill:#262626;\" transform=\"translate(733.213984 479.823984)scale(0.156 -0.156)\">\r\n      <defs>\r\n       <path d=\"M 494 0 \r\nL 494 4581 \r\nL 2072 4581 \r\nQ 2606 4581 2888 4516 \r\nQ 3281 4425 3559 4188 \r\nQ 3922 3881 4101 3404 \r\nQ 4281 2928 4281 2316 \r\nQ 4281 1794 4159 1391 \r\nQ 4038 988 3847 723 \r\nQ 3656 459 3429 307 \r\nQ 3203 156 2883 78 \r\nQ 2563 0 2147 0 \r\nL 494 0 \r\nz\r\nM 1100 541 \r\nL 2078 541 \r\nQ 2531 541 2789 625 \r\nQ 3047 709 3200 863 \r\nQ 3416 1078 3536 1442 \r\nQ 3656 1806 3656 2325 \r\nQ 3656 3044 3420 3430 \r\nQ 3184 3816 2847 3947 \r\nQ 2603 4041 2063 4041 \r\nL 1100 4041 \r\nL 1100 541 \r\nz\r\n\" id=\"ArialMT-44\" transform=\"scale(0.015625)\"/>\r\n       <path d=\"M 2694 1069 \r\nL 3275 997 \r\nQ 3138 488 2766 206 \r\nQ 2394 -75 1816 -75 \r\nQ 1088 -75 661 373 \r\nQ 234 822 234 1631 \r\nQ 234 2469 665 2931 \r\nQ 1097 3394 1784 3394 \r\nQ 2450 3394 2872 2941 \r\nQ 3294 2488 3294 1666 \r\nQ 3294 1616 3291 1516 \r\nL 816 1516 \r\nQ 847 969 1125 678 \r\nQ 1403 388 1819 388 \r\nQ 2128 388 2347 550 \r\nQ 2566 713 2694 1069 \r\nz\r\nM 847 1978 \r\nL 2700 1978 \r\nQ 2663 2397 2488 2606 \r\nQ 2219 2931 1791 2931 \r\nQ 1403 2931 1139 2672 \r\nQ 875 2413 847 1978 \r\nz\r\n\" id=\"ArialMT-65\" transform=\"scale(0.015625)\"/>\r\n       <path d=\"M 197 991 \r\nL 753 1078 \r\nQ 800 744 1014 566 \r\nQ 1228 388 1613 388 \r\nQ 2000 388 2187 545 \r\nQ 2375 703 2375 916 \r\nQ 2375 1106 2209 1216 \r\nQ 2094 1291 1634 1406 \r\nQ 1016 1563 777 1677 \r\nQ 538 1791 414 1992 \r\nQ 291 2194 291 2438 \r\nQ 291 2659 392 2848 \r\nQ 494 3038 669 3163 \r\nQ 800 3259 1026 3326 \r\nQ 1253 3394 1513 3394 \r\nQ 1903 3394 2198 3281 \r\nQ 2494 3169 2634 2976 \r\nQ 2775 2784 2828 2463 \r\nL 2278 2388 \r\nQ 2241 2644 2061 2787 \r\nQ 1881 2931 1553 2931 \r\nQ 1166 2931 1000 2803 \r\nQ 834 2675 834 2503 \r\nQ 834 2394 903 2306 \r\nQ 972 2216 1119 2156 \r\nQ 1203 2125 1616 2013 \r\nQ 2213 1853 2448 1751 \r\nQ 2684 1650 2818 1456 \r\nQ 2953 1263 2953 975 \r\nQ 2953 694 2789 445 \r\nQ 2625 197 2315 61 \r\nQ 2006 -75 1616 -75 \r\nQ 969 -75 630 194 \r\nQ 291 463 197 991 \r\nz\r\n\" id=\"ArialMT-73\" transform=\"scale(0.015625)\"/>\r\n       <path d=\"M 2588 1216 \r\nL 3141 1144 \r\nQ 3050 572 2676 248 \r\nQ 2303 -75 1759 -75 \r\nQ 1078 -75 664 370 \r\nQ 250 816 250 1647 \r\nQ 250 2184 428 2587 \r\nQ 606 2991 970 3192 \r\nQ 1334 3394 1763 3394 \r\nQ 2303 3394 2647 3120 \r\nQ 2991 2847 3088 2344 \r\nL 2541 2259 \r\nQ 2463 2594 2264 2762 \r\nQ 2066 2931 1784 2931 \r\nQ 1359 2931 1093 2626 \r\nQ 828 2322 828 1663 \r\nQ 828 994 1084 691 \r\nQ 1341 388 1753 388 \r\nQ 2084 388 2306 591 \r\nQ 2528 794 2588 1216 \r\nz\r\n\" id=\"ArialMT-63\" transform=\"scale(0.015625)\"/>\r\n       <path d=\"M 416 0 \r\nL 416 3319 \r\nL 922 3319 \r\nL 922 2816 \r\nQ 1116 3169 1280 3281 \r\nQ 1444 3394 1641 3394 \r\nQ 1925 3394 2219 3213 \r\nL 2025 2691 \r\nQ 1819 2813 1613 2813 \r\nQ 1428 2813 1281 2702 \r\nQ 1134 2591 1072 2394 \r\nQ 978 2094 978 1738 \r\nL 978 0 \r\nL 416 0 \r\nz\r\n\" id=\"ArialMT-72\" transform=\"scale(0.015625)\"/>\r\n       <path d=\"M 425 3934 \r\nL 425 4581 \r\nL 988 4581 \r\nL 988 3934 \r\nL 425 3934 \r\nz\r\nM 425 0 \r\nL 425 3319 \r\nL 988 3319 \r\nL 988 0 \r\nL 425 0 \r\nz\r\n\" id=\"ArialMT-69\" transform=\"scale(0.015625)\"/>\r\n       <path d=\"M 422 -1272 \r\nL 422 3319 \r\nL 934 3319 \r\nL 934 2888 \r\nQ 1116 3141 1344 3267 \r\nQ 1572 3394 1897 3394 \r\nQ 2322 3394 2647 3175 \r\nQ 2972 2956 3137 2557 \r\nQ 3303 2159 3303 1684 \r\nQ 3303 1175 3120 767 \r\nQ 2938 359 2589 142 \r\nQ 2241 -75 1856 -75 \r\nQ 1575 -75 1351 44 \r\nQ 1128 163 984 344 \r\nL 984 -1272 \r\nL 422 -1272 \r\nz\r\nM 931 1641 \r\nQ 931 1000 1190 694 \r\nQ 1450 388 1819 388 \r\nQ 2194 388 2461 705 \r\nQ 2728 1022 2728 1688 \r\nQ 2728 2322 2467 2637 \r\nQ 2206 2953 1844 2953 \r\nQ 1484 2953 1207 2617 \r\nQ 931 2281 931 1641 \r\nz\r\n\" id=\"ArialMT-70\" transform=\"scale(0.015625)\"/>\r\n       <path d=\"M 1650 503 \r\nL 1731 6 \r\nQ 1494 -44 1306 -44 \r\nQ 1000 -44 831 53 \r\nQ 663 150 594 308 \r\nQ 525 466 525 972 \r\nL 525 2881 \r\nL 113 2881 \r\nL 113 3319 \r\nL 525 3319 \r\nL 525 4141 \r\nL 1084 4478 \r\nL 1084 3319 \r\nL 1650 3319 \r\nL 1650 2881 \r\nL 1084 2881 \r\nL 1084 941 \r\nQ 1084 700 1114 631 \r\nQ 1144 563 1211 522 \r\nQ 1278 481 1403 481 \r\nQ 1497 481 1650 503 \r\nz\r\n\" id=\"ArialMT-74\" transform=\"scale(0.015625)\"/>\r\n       <path d=\"M 213 1659 \r\nQ 213 2581 725 3025 \r\nQ 1153 3394 1769 3394 \r\nQ 2453 3394 2887 2945 \r\nQ 3322 2497 3322 1706 \r\nQ 3322 1066 3130 698 \r\nQ 2938 331 2570 128 \r\nQ 2203 -75 1769 -75 \r\nQ 1072 -75 642 372 \r\nQ 213 819 213 1659 \r\nz\r\nM 791 1659 \r\nQ 791 1022 1069 705 \r\nQ 1347 388 1769 388 \r\nQ 2188 388 2466 706 \r\nQ 2744 1025 2744 1678 \r\nQ 2744 2294 2464 2611 \r\nQ 2184 2928 1769 2928 \r\nQ 1347 2928 1069 2612 \r\nQ 791 2297 791 1659 \r\nz\r\n\" id=\"ArialMT-6f\" transform=\"scale(0.015625)\"/>\r\n       <path d=\"M 422 0 \r\nL 422 3319 \r\nL 928 3319 \r\nL 928 2847 \r\nQ 1294 3394 1984 3394 \r\nQ 2284 3394 2536 3286 \r\nQ 2788 3178 2913 3003 \r\nQ 3038 2828 3088 2588 \r\nQ 3119 2431 3119 2041 \r\nL 3119 0 \r\nL 2556 0 \r\nL 2556 2019 \r\nQ 2556 2363 2490 2533 \r\nQ 2425 2703 2258 2804 \r\nQ 2091 2906 1866 2906 \r\nQ 1506 2906 1245 2678 \r\nQ 984 2450 984 1813 \r\nL 984 0 \r\nL 422 0 \r\nz\r\n\" id=\"ArialMT-6e\" transform=\"scale(0.015625)\"/>\r\n      </defs>\r\n      <use xlink:href=\"#ArialMT-44\"/>\r\n      <use x=\"72.216797\" xlink:href=\"#ArialMT-65\"/>\r\n      <use x=\"127.832031\" xlink:href=\"#ArialMT-73\"/>\r\n      <use x=\"177.832031\" xlink:href=\"#ArialMT-63\"/>\r\n      <use x=\"227.832031\" xlink:href=\"#ArialMT-72\"/>\r\n      <use x=\"261.132812\" xlink:href=\"#ArialMT-69\"/>\r\n      <use x=\"283.349609\" xlink:href=\"#ArialMT-70\"/>\r\n      <use x=\"338.964844\" xlink:href=\"#ArialMT-74\"/>\r\n      <use x=\"366.748047\" xlink:href=\"#ArialMT-69\"/>\r\n      <use x=\"388.964844\" xlink:href=\"#ArialMT-6f\"/>\r\n      <use x=\"444.580078\" xlink:href=\"#ArialMT-6e\"/>\r\n     </g>\r\n    </g>\r\n   </g>\r\n   <g id=\"matplotlib.axis_2\">\r\n    <g id=\"ytick_1\">\r\n     <g id=\"line2d_1\">\r\n      <path clip-path=\"url(#pc4f2ae3082)\" d=\"M 74.727391 442.08 \r\nL 1469.727391 442.08 \r\n\" style=\"fill:none;stroke:#ffffff;stroke-linecap:round;\"/>\r\n     </g>\r\n     <g id=\"text_32\">\r\n      <!-- 0 -->\r\n      <g style=\"fill:#262626;\" transform=\"translate(57.27525 447.197836)scale(0.143 -0.143)\">\r\n       <use xlink:href=\"#ArialMT-30\"/>\r\n      </g>\r\n     </g>\r\n    </g>\r\n    <g id=\"ytick_2\">\r\n     <g id=\"line2d_2\">\r\n      <path clip-path=\"url(#pc4f2ae3082)\" d=\"M 74.727391 368.491388 \r\nL 1469.727391 368.491388 \r\n\" style=\"fill:none;stroke:#ffffff;stroke-linecap:round;\"/>\r\n     </g>\r\n     <g id=\"text_33\">\r\n      <!-- 5000 -->\r\n      <g style=\"fill:#262626;\" transform=\"translate(33.418828 373.609223)scale(0.143 -0.143)\">\r\n       <use xlink:href=\"#ArialMT-35\"/>\r\n       <use x=\"55.615234\" xlink:href=\"#ArialMT-30\"/>\r\n       <use x=\"111.230469\" xlink:href=\"#ArialMT-30\"/>\r\n       <use x=\"166.845703\" xlink:href=\"#ArialMT-30\"/>\r\n      </g>\r\n     </g>\r\n    </g>\r\n    <g id=\"ytick_3\">\r\n     <g id=\"line2d_3\">\r\n      <path clip-path=\"url(#pc4f2ae3082)\" d=\"M 74.727391 294.902775 \r\nL 1469.727391 294.902775 \r\n\" style=\"fill:none;stroke:#ffffff;stroke-linecap:round;\"/>\r\n     </g>\r\n     <g id=\"text_34\">\r\n      <!-- 10000 -->\r\n      <g style=\"fill:#262626;\" transform=\"translate(25.466688 300.020611)scale(0.143 -0.143)\">\r\n       <use xlink:href=\"#ArialMT-31\"/>\r\n       <use x=\"55.615234\" xlink:href=\"#ArialMT-30\"/>\r\n       <use x=\"111.230469\" xlink:href=\"#ArialMT-30\"/>\r\n       <use x=\"166.845703\" xlink:href=\"#ArialMT-30\"/>\r\n       <use x=\"222.460938\" xlink:href=\"#ArialMT-30\"/>\r\n      </g>\r\n     </g>\r\n    </g>\r\n    <g id=\"ytick_4\">\r\n     <g id=\"line2d_4\">\r\n      <path clip-path=\"url(#pc4f2ae3082)\" d=\"M 74.727391 221.314163 \r\nL 1469.727391 221.314163 \r\n\" style=\"fill:none;stroke:#ffffff;stroke-linecap:round;\"/>\r\n     </g>\r\n     <g id=\"text_35\">\r\n      <!-- 15000 -->\r\n      <g style=\"fill:#262626;\" transform=\"translate(25.466688 226.431999)scale(0.143 -0.143)\">\r\n       <use xlink:href=\"#ArialMT-31\"/>\r\n       <use x=\"55.615234\" xlink:href=\"#ArialMT-35\"/>\r\n       <use x=\"111.230469\" xlink:href=\"#ArialMT-30\"/>\r\n       <use x=\"166.845703\" xlink:href=\"#ArialMT-30\"/>\r\n       <use x=\"222.460938\" xlink:href=\"#ArialMT-30\"/>\r\n      </g>\r\n     </g>\r\n    </g>\r\n    <g id=\"ytick_5\">\r\n     <g id=\"line2d_5\">\r\n      <path clip-path=\"url(#pc4f2ae3082)\" d=\"M 74.727391 147.72555 \r\nL 1469.727391 147.72555 \r\n\" style=\"fill:none;stroke:#ffffff;stroke-linecap:round;\"/>\r\n     </g>\r\n     <g id=\"text_36\">\r\n      <!-- 20000 -->\r\n      <g style=\"fill:#262626;\" transform=\"translate(25.466688 152.843386)scale(0.143 -0.143)\">\r\n       <use xlink:href=\"#ArialMT-32\"/>\r\n       <use x=\"55.615234\" xlink:href=\"#ArialMT-30\"/>\r\n       <use x=\"111.230469\" xlink:href=\"#ArialMT-30\"/>\r\n       <use x=\"166.845703\" xlink:href=\"#ArialMT-30\"/>\r\n       <use x=\"222.460938\" xlink:href=\"#ArialMT-30\"/>\r\n      </g>\r\n     </g>\r\n    </g>\r\n    <g id=\"ytick_6\">\r\n     <g id=\"line2d_6\">\r\n      <path clip-path=\"url(#pc4f2ae3082)\" d=\"M 74.727391 74.136938 \r\nL 1469.727391 74.136938 \r\n\" style=\"fill:none;stroke:#ffffff;stroke-linecap:round;\"/>\r\n     </g>\r\n     <g id=\"text_37\">\r\n      <!-- 25000 -->\r\n      <g style=\"fill:#262626;\" transform=\"translate(25.466688 79.254774)scale(0.143 -0.143)\">\r\n       <use xlink:href=\"#ArialMT-32\"/>\r\n       <use x=\"55.615234\" xlink:href=\"#ArialMT-35\"/>\r\n       <use x=\"111.230469\" xlink:href=\"#ArialMT-30\"/>\r\n       <use x=\"166.845703\" xlink:href=\"#ArialMT-30\"/>\r\n       <use x=\"222.460938\" xlink:href=\"#ArialMT-30\"/>\r\n      </g>\r\n     </g>\r\n    </g>\r\n    <g id=\"text_38\">\r\n     <!-- count -->\r\n     <g style=\"fill:#262626;\" transform=\"translate(18.366188 243.719531)rotate(-90)scale(0.156 -0.156)\">\r\n      <defs>\r\n       <path d=\"M 2597 0 \r\nL 2597 488 \r\nQ 2209 -75 1544 -75 \r\nQ 1250 -75 995 37 \r\nQ 741 150 617 320 \r\nQ 494 491 444 738 \r\nQ 409 903 409 1263 \r\nL 409 3319 \r\nL 972 3319 \r\nL 972 1478 \r\nQ 972 1038 1006 884 \r\nQ 1059 663 1231 536 \r\nQ 1403 409 1656 409 \r\nQ 1909 409 2131 539 \r\nQ 2353 669 2445 892 \r\nQ 2538 1116 2538 1541 \r\nL 2538 3319 \r\nL 3100 3319 \r\nL 3100 0 \r\nL 2597 0 \r\nz\r\n\" id=\"ArialMT-75\" transform=\"scale(0.015625)\"/>\r\n      </defs>\r\n      <use xlink:href=\"#ArialMT-63\"/>\r\n      <use x=\"50\" xlink:href=\"#ArialMT-6f\"/>\r\n      <use x=\"105.615234\" xlink:href=\"#ArialMT-75\"/>\r\n      <use x=\"161.230469\" xlink:href=\"#ArialMT-6e\"/>\r\n      <use x=\"216.845703\" xlink:href=\"#ArialMT-74\"/>\r\n     </g>\r\n    </g>\r\n   </g>\r\n   <g id=\"patch_3\">\r\n    <path clip-path=\"url(#pc4f2ae3082)\" d=\"M 79.377391 442.08 \r\nL 116.577391 442.08 \r\nL 116.577391 435.236259 \r\nL 79.377391 435.236259 \r\nz\r\n\" style=\"fill:#701070;stroke:#ffffff;stroke-linejoin:miter;\"/>\r\n   </g>\r\n   <g id=\"patch_4\">\r\n    <path clip-path=\"url(#pc4f2ae3082)\" d=\"M 125.877391 442.08 \r\nL 163.077391 442.08 \r\nL 163.077391 424.477604 \r\nL 125.877391 424.477604 \r\nz\r\n\" style=\"fill:#701070;stroke:#ffffff;stroke-linejoin:miter;\"/>\r\n   </g>\r\n   <g id=\"patch_5\">\r\n    <path clip-path=\"url(#pc4f2ae3082)\" d=\"M 172.377391 442.08 \r\nL 209.577391 442.08 \r\nL 209.577391 438.974561 \r\nL 172.377391 438.974561 \r\nz\r\n\" style=\"fill:#701070;stroke:#ffffff;stroke-linejoin:miter;\"/>\r\n   </g>\r\n   <g id=\"patch_6\">\r\n    <path clip-path=\"url(#pc4f2ae3082)\" d=\"M 218.877391 442.08 \r\nL 256.077391 442.08 \r\nL 256.077391 436.64916 \r\nL 218.877391 436.64916 \r\nz\r\n\" style=\"fill:#701070;stroke:#ffffff;stroke-linejoin:miter;\"/>\r\n   </g>\r\n   <g id=\"patch_7\">\r\n    <path clip-path=\"url(#pc4f2ae3082)\" d=\"M 265.377391 442.08 \r\nL 302.577391 442.08 \r\nL 302.577391 439.224762 \r\nL 265.377391 439.224762 \r\nz\r\n\" style=\"fill:#701070;stroke:#ffffff;stroke-linejoin:miter;\"/>\r\n   </g>\r\n   <g id=\"patch_8\">\r\n    <path clip-path=\"url(#pc4f2ae3082)\" d=\"M 311.877391 442.08 \r\nL 349.077391 442.08 \r\nL 349.077391 439.342504 \r\nL 311.877391 439.342504 \r\nz\r\n\" style=\"fill:#701070;stroke:#ffffff;stroke-linejoin:miter;\"/>\r\n   </g>\r\n   <g id=\"patch_9\">\r\n    <path clip-path=\"url(#pc4f2ae3082)\" d=\"M 358.377391 442.08 \r\nL 395.577391 442.08 \r\nL 395.577391 433.116907 \r\nL 358.377391 433.116907 \r\nz\r\n\" style=\"fill:#701070;stroke:#ffffff;stroke-linejoin:miter;\"/>\r\n   </g>\r\n   <g id=\"patch_10\">\r\n    <path clip-path=\"url(#pc4f2ae3082)\" d=\"M 404.877391 442.08 \r\nL 442.077391 442.08 \r\nL 442.077391 404.284889 \r\nL 404.877391 404.284889 \r\nz\r\n\" style=\"fill:#701070;stroke:#ffffff;stroke-linejoin:miter;\"/>\r\n   </g>\r\n   <g id=\"patch_11\">\r\n    <path clip-path=\"url(#pc4f2ae3082)\" d=\"M 451.377391 442.08 \r\nL 488.577391 442.08 \r\nL 488.577391 382.296611 \r\nL 451.377391 382.296611 \r\nz\r\n\" style=\"fill:#701070;stroke:#ffffff;stroke-linejoin:miter;\"/>\r\n   </g>\r\n   <g id=\"patch_12\">\r\n    <path clip-path=\"url(#pc4f2ae3082)\" d=\"M 497.877391 442.08 \r\nL 535.077391 442.08 \r\nL 535.077391 413.954432 \r\nL 497.877391 413.954432 \r\nz\r\n\" style=\"fill:#701070;stroke:#ffffff;stroke-linejoin:miter;\"/>\r\n   </g>\r\n   <g id=\"patch_13\">\r\n    <path clip-path=\"url(#pc4f2ae3082)\" d=\"M 544.377391 442.08 \r\nL 581.577391 442.08 \r\nL 581.577391 394.953853 \r\nL 544.377391 394.953853 \r\nz\r\n\" style=\"fill:#701070;stroke:#ffffff;stroke-linejoin:miter;\"/>\r\n   </g>\r\n   <g id=\"patch_14\">\r\n    <path clip-path=\"url(#pc4f2ae3082)\" d=\"M 590.877391 442.08 \r\nL 628.077391 442.08 \r\nL 628.077391 354.951083 \r\nL 590.877391 354.951083 \r\nz\r\n\" style=\"fill:#701070;stroke:#ffffff;stroke-linejoin:miter;\"/>\r\n   </g>\r\n   <g id=\"patch_15\">\r\n    <path clip-path=\"url(#pc4f2ae3082)\" d=\"M 637.377391 442.08 \r\nL 674.577391 442.08 \r\nL 674.577391 265.114105 \r\nL 637.377391 265.114105 \r\nz\r\n\" style=\"fill:#701070;stroke:#ffffff;stroke-linejoin:miter;\"/>\r\n   </g>\r\n   <g id=\"patch_16\">\r\n    <path clip-path=\"url(#pc4f2ae3082)\" d=\"M 683.877391 442.08 \r\nL 721.077391 442.08 \r\nL 721.077391 294.593703 \r\nL 683.877391 294.593703 \r\nz\r\n\" style=\"fill:#701070;stroke:#ffffff;stroke-linejoin:miter;\"/>\r\n   </g>\r\n   <g id=\"patch_17\">\r\n    <path clip-path=\"url(#pc4f2ae3082)\" d=\"M 730.377391 442.08 \r\nL 767.577391 442.08 \r\nL 767.577391 273.326594 \r\nL 730.377391 273.326594 \r\nz\r\n\" style=\"fill:#701070;stroke:#ffffff;stroke-linejoin:miter;\"/>\r\n   </g>\r\n   <g id=\"patch_18\">\r\n    <path clip-path=\"url(#pc4f2ae3082)\" d=\"M 776.877391 442.08 \r\nL 814.077391 442.08 \r\nL 814.077391 249.925415 \r\nL 776.877391 249.925415 \r\nz\r\n\" style=\"fill:#701070;stroke:#ffffff;stroke-linejoin:miter;\"/>\r\n   </g>\r\n   <g id=\"patch_19\">\r\n    <path clip-path=\"url(#pc4f2ae3082)\" d=\"M 823.377391 442.08 \r\nL 860.577391 442.08 \r\nL 860.577391 99.274808 \r\nL 823.377391 99.274808 \r\nz\r\n\" style=\"fill:#701070;stroke:#ffffff;stroke-linejoin:miter;\"/>\r\n   </g>\r\n   <g id=\"patch_20\">\r\n    <path clip-path=\"url(#pc4f2ae3082)\" d=\"M 869.877391 442.08 \r\nL 907.077391 442.08 \r\nL 907.077391 139.601367 \r\nL 869.877391 139.601367 \r\nz\r\n\" style=\"fill:#701070;stroke:#ffffff;stroke-linejoin:miter;\"/>\r\n   </g>\r\n   <g id=\"patch_21\">\r\n    <path clip-path=\"url(#pc4f2ae3082)\" d=\"M 916.377391 442.08 \r\nL 953.577391 442.08 \r\nL 953.577391 88.177645 \r\nL 916.377391 88.177645 \r\nz\r\n\" style=\"fill:#701070;stroke:#ffffff;stroke-linejoin:miter;\"/>\r\n   </g>\r\n   <g id=\"patch_22\">\r\n    <path clip-path=\"url(#pc4f2ae3082)\" d=\"M 962.877391 442.08 \r\nL 1000.077391 442.08 \r\nL 1000.077391 105.677017 \r\nL 962.877391 105.677017 \r\nz\r\n\" style=\"fill:#701070;stroke:#ffffff;stroke-linejoin:miter;\"/>\r\n   </g>\r\n   <g id=\"patch_23\">\r\n    <path clip-path=\"url(#pc4f2ae3082)\" d=\"M 1009.377391 442.08 \r\nL 1046.577391 442.08 \r\nL 1046.577391 61.141189 \r\nL 1009.377391 61.141189 \r\nz\r\n\" style=\"fill:#701070;stroke:#ffffff;stroke-linejoin:miter;\"/>\r\n   </g>\r\n   <g id=\"patch_24\">\r\n    <path clip-path=\"url(#pc4f2ae3082)\" d=\"M 1055.877391 442.08 \r\nL 1093.077391 442.08 \r\nL 1093.077391 47.483142 \r\nL 1055.877391 47.483142 \r\nz\r\n\" style=\"fill:#701070;stroke:#ffffff;stroke-linejoin:miter;\"/>\r\n   </g>\r\n   <g id=\"patch_25\">\r\n    <path clip-path=\"url(#pc4f2ae3082)\" d=\"M 1102.377391 442.08 \r\nL 1139.577391 442.08 \r\nL 1139.577391 29.851311 \r\nL 1102.377391 29.851311 \r\nz\r\n\" style=\"fill:#701070;stroke:#ffffff;stroke-linejoin:miter;\"/>\r\n   </g>\r\n   <g id=\"patch_26\">\r\n    <path clip-path=\"url(#pc4f2ae3082)\" d=\"M 1148.877391 442.08 \r\nL 1186.077391 442.08 \r\nL 1186.077391 27.908571 \r\nL 1148.877391 27.908571 \r\nz\r\n\" style=\"fill:#701070;stroke:#ffffff;stroke-linejoin:miter;\"/>\r\n   </g>\r\n   <g id=\"patch_27\">\r\n    <path clip-path=\"url(#pc4f2ae3082)\" d=\"M 1195.377391 442.08 \r\nL 1232.577391 442.08 \r\nL 1232.577391 50.117615 \r\nL 1195.377391 50.117615 \r\nz\r\n\" style=\"fill:#701070;stroke:#ffffff;stroke-linejoin:miter;\"/>\r\n   </g>\r\n   <g id=\"patch_28\">\r\n    <path clip-path=\"url(#pc4f2ae3082)\" d=\"M 1241.877391 442.08 \r\nL 1279.077391 442.08 \r\nL 1279.077391 35.60594 \r\nL 1241.877391 35.60594 \r\nz\r\n\" style=\"fill:#701070;stroke:#ffffff;stroke-linejoin:miter;\"/>\r\n   </g>\r\n   <g id=\"patch_29\">\r\n    <path clip-path=\"url(#pc4f2ae3082)\" d=\"M 1288.377391 442.08 \r\nL 1325.577391 442.08 \r\nL 1325.577391 93.799815 \r\nL 1288.377391 93.799815 \r\nz\r\n\" style=\"fill:#701070;stroke:#ffffff;stroke-linejoin:miter;\"/>\r\n   </g>\r\n   <g id=\"patch_30\">\r\n    <path clip-path=\"url(#pc4f2ae3082)\" d=\"M 1334.877391 442.08 \r\nL 1372.077391 442.08 \r\nL 1372.077391 93.917557 \r\nL 1334.877391 93.917557 \r\nz\r\n\" style=\"fill:#701070;stroke:#ffffff;stroke-linejoin:miter;\"/>\r\n   </g>\r\n   <g id=\"patch_31\">\r\n    <path clip-path=\"url(#pc4f2ae3082)\" d=\"M 1381.377391 442.08 \r\nL 1418.577391 442.08 \r\nL 1418.577391 126.443723 \r\nL 1381.377391 126.443723 \r\nz\r\n\" style=\"fill:#701070;stroke:#ffffff;stroke-linejoin:miter;\"/>\r\n   </g>\r\n   <g id=\"patch_32\">\r\n    <path clip-path=\"url(#pc4f2ae3082)\" d=\"M 1427.877391 442.08 \r\nL 1465.077391 442.08 \r\nL 1465.077391 195.381536 \r\nL 1427.877391 195.381536 \r\nz\r\n\" style=\"fill:#701070;stroke:#ffffff;stroke-linejoin:miter;\"/>\r\n   </g>\r\n   <g id=\"patch_33\">\r\n    <path d=\"M 74.727391 442.08 \r\nL 74.727391 7.2 \r\n\" style=\"fill:none;stroke:#ffffff;stroke-linecap:square;stroke-linejoin:miter;stroke-width:1.25;\"/>\r\n   </g>\r\n   <g id=\"patch_34\">\r\n    <path d=\"M 1469.727391 442.08 \r\nL 1469.727391 7.2 \r\n\" style=\"fill:none;stroke:#ffffff;stroke-linecap:square;stroke-linejoin:miter;stroke-width:1.25;\"/>\r\n   </g>\r\n   <g id=\"patch_35\">\r\n    <path d=\"M 74.727391 442.08 \r\nL 1469.727391 442.08 \r\n\" style=\"fill:none;stroke:#ffffff;stroke-linecap:square;stroke-linejoin:miter;stroke-width:1.25;\"/>\r\n   </g>\r\n   <g id=\"patch_36\">\r\n    <path d=\"M 74.727391 7.2 \r\nL 1469.727391 7.2 \r\n\" style=\"fill:none;stroke:#ffffff;stroke-linecap:square;stroke-linejoin:miter;stroke-width:1.25;\"/>\r\n   </g>\r\n  </g>\r\n </g>\r\n <defs>\r\n  <clipPath id=\"pc4f2ae3082\">\r\n   <rect height=\"434.88\" width=\"1395\" x=\"74.727391\" y=\"7.2\"/>\r\n  </clipPath>\r\n </defs>\r\n</svg>\r\n",
      "image/png": "[encoded data removed]"
     },
     "metadata": {}
    }
   ],
   "metadata": {
    "execution": {
     "iopub.execute_input": "2021-08-04T21:07:00.987355Z",
     "iopub.status.busy": "2021-08-04T21:07:00.986823Z",
     "iopub.status.idle": "2021-08-04T21:07:01.375153Z",
     "shell.execute_reply": "2021-08-04T21:07:01.374002Z",
     "shell.execute_reply.started": "2021-08-04T21:07:00.987272Z"
    }
   }
  },
  {
   "cell_type": "markdown",
   "source": [
    "### Q5: Extract {𝑌𝑒𝑎𝑟, 𝑀𝑜𝑛𝑡ℎ, 𝑊𝑒𝑒𝑘, 𝑊𝑒𝑒𝑘𝐷𝑎𝑦, 𝐷𝑎𝑦, 𝐷𝑎𝑦𝑂𝑓𝑌𝑒𝑎𝑟,𝐷𝑎𝑡𝑒} features from 𝐼𝑛𝑣𝑜𝑖𝑐𝑒𝐷𝑎𝑡𝑒 feature\n",
    "P.S: Date is based on Year, Month & Day features"
   ],
   "metadata": {}
  },
  {
   "cell_type": "code",
   "execution_count": null,
   "source": [
    "import datetime as dt\r\n",
    "df[\"Year\"] = df.InvoiceDate.dt.year\r\n",
    "df[\"Quarter\"] = df.InvoiceDate.dt.quarter\r\n",
    "df[\"Month\"] = df.InvoiceDate.dt.month\r\n",
    "df[\"Week\"] = df.InvoiceDate.dt.week\r\n",
    "df[\"Weekday\"] = df.InvoiceDate.dt.weekday\r\n",
    "df[\"Day\"] = df.InvoiceDate.dt.day\r\n",
    "df[\"Dayofyear\"] = df.InvoiceDate.dt.day_of_year\r\n",
    "df[\"Date\"] = df.InvoiceDate.dt.date"
   ],
   "outputs": [
    {
     "output_type": "stream",
     "name": "stderr",
     "text": [
      "<ipython-input-14-3ea8bf5ac4de>:5: FutureWarning: Series.dt.weekofyear and Series.dt.week have been deprecated.  Please use Series.dt.isocalendar().week instead.\n",
      "  df[\"Week\"] = df.InvoiceDate.dt.week\n"
     ]
    }
   ],
   "metadata": {
    "execution": {
     "iopub.execute_input": "2021-08-04T17:58:21.872975Z",
     "iopub.status.busy": "2021-08-04T17:58:21.872652Z",
     "iopub.status.idle": "2021-08-04T17:58:22.491448Z",
     "shell.execute_reply": "2021-08-04T17:58:22.490399Z",
     "shell.execute_reply.started": "2021-08-04T17:58:21.872912Z"
    }
   }
  },
  {
   "cell_type": "code",
   "execution_count": null,
   "source": [
    "df.head()"
   ],
   "outputs": [
    {
     "output_type": "execute_result",
     "data": {
      "text/plain": [
       "  InvoiceNo StockCode                          Description  Quantity  \\\n",
       "0    536365    85123A   WHITE HANGING HEART T-LIGHT HOLDER         6   \n",
       "1    536365     71053                  WHITE METAL LANTERN         6   \n",
       "2    536365    84406B       CREAM CUPID HEARTS COAT HANGER         8   \n",
       "3    536365    84029G  KNITTED UNION FLAG HOT WATER BOTTLE         6   \n",
       "4    536365    84029E       RED WOOLLY HOTTIE WHITE HEART.         6   \n",
       "\n",
       "          InvoiceDate  UnitPrice CustomerID         Country  Revenue  Year  \\\n",
       "0 2010-12-01 08:26:00       2.55      17850  United Kingdom    15.30  2010   \n",
       "1 2010-12-01 08:26:00       3.39      17850  United Kingdom    20.34  2010   \n",
       "2 2010-12-01 08:26:00       2.75      17850  United Kingdom    22.00  2010   \n",
       "3 2010-12-01 08:26:00       3.39      17850  United Kingdom    20.34  2010   \n",
       "4 2010-12-01 08:26:00       3.39      17850  United Kingdom    20.34  2010   \n",
       "\n",
       "   Quarter  Month  Week  Weekday  Day  Dayofyear        Date  \n",
       "0        4     12    48        2    1        335  2010-12-01  \n",
       "1        4     12    48        2    1        335  2010-12-01  \n",
       "2        4     12    48        2    1        335  2010-12-01  \n",
       "3        4     12    48        2    1        335  2010-12-01  \n",
       "4        4     12    48        2    1        335  2010-12-01  "
      ],
      "text/html": [
       "<div>\n",
       "<style scoped>\n",
       "    .dataframe tbody tr th:only-of-type {\n",
       "        vertical-align: middle;\n",
       "    }\n",
       "\n",
       "    .dataframe tbody tr th {\n",
       "        vertical-align: top;\n",
       "    }\n",
       "\n",
       "    .dataframe thead th {\n",
       "        text-align: right;\n",
       "    }\n",
       "</style>\n",
       "<table border=\"1\" class=\"dataframe\">\n",
       "  <thead>\n",
       "    <tr style=\"text-align: right;\">\n",
       "      <th></th>\n",
       "      <th>InvoiceNo</th>\n",
       "      <th>StockCode</th>\n",
       "      <th>Description</th>\n",
       "      <th>Quantity</th>\n",
       "      <th>InvoiceDate</th>\n",
       "      <th>UnitPrice</th>\n",
       "      <th>CustomerID</th>\n",
       "      <th>Country</th>\n",
       "      <th>Revenue</th>\n",
       "      <th>Year</th>\n",
       "      <th>Quarter</th>\n",
       "      <th>Month</th>\n",
       "      <th>Week</th>\n",
       "      <th>Weekday</th>\n",
       "      <th>Day</th>\n",
       "      <th>Dayofyear</th>\n",
       "      <th>Date</th>\n",
       "    </tr>\n",
       "  </thead>\n",
       "  <tbody>\n",
       "    <tr>\n",
       "      <th>0</th>\n",
       "      <td>536365</td>\n",
       "      <td>85123A</td>\n",
       "      <td>WHITE HANGING HEART T-LIGHT HOLDER</td>\n",
       "      <td>6</td>\n",
       "      <td>2010-12-01 08:26:00</td>\n",
       "      <td>2.55</td>\n",
       "      <td>17850</td>\n",
       "      <td>United Kingdom</td>\n",
       "      <td>15.30</td>\n",
       "      <td>2010</td>\n",
       "      <td>4</td>\n",
       "      <td>12</td>\n",
       "      <td>48</td>\n",
       "      <td>2</td>\n",
       "      <td>1</td>\n",
       "      <td>335</td>\n",
       "      <td>2010-12-01</td>\n",
       "    </tr>\n",
       "    <tr>\n",
       "      <th>1</th>\n",
       "      <td>536365</td>\n",
       "      <td>71053</td>\n",
       "      <td>WHITE METAL LANTERN</td>\n",
       "      <td>6</td>\n",
       "      <td>2010-12-01 08:26:00</td>\n",
       "      <td>3.39</td>\n",
       "      <td>17850</td>\n",
       "      <td>United Kingdom</td>\n",
       "      <td>20.34</td>\n",
       "      <td>2010</td>\n",
       "      <td>4</td>\n",
       "      <td>12</td>\n",
       "      <td>48</td>\n",
       "      <td>2</td>\n",
       "      <td>1</td>\n",
       "      <td>335</td>\n",
       "      <td>2010-12-01</td>\n",
       "    </tr>\n",
       "    <tr>\n",
       "      <th>2</th>\n",
       "      <td>536365</td>\n",
       "      <td>84406B</td>\n",
       "      <td>CREAM CUPID HEARTS COAT HANGER</td>\n",
       "      <td>8</td>\n",
       "      <td>2010-12-01 08:26:00</td>\n",
       "      <td>2.75</td>\n",
       "      <td>17850</td>\n",
       "      <td>United Kingdom</td>\n",
       "      <td>22.00</td>\n",
       "      <td>2010</td>\n",
       "      <td>4</td>\n",
       "      <td>12</td>\n",
       "      <td>48</td>\n",
       "      <td>2</td>\n",
       "      <td>1</td>\n",
       "      <td>335</td>\n",
       "      <td>2010-12-01</td>\n",
       "    </tr>\n",
       "    <tr>\n",
       "      <th>3</th>\n",
       "      <td>536365</td>\n",
       "      <td>84029G</td>\n",
       "      <td>KNITTED UNION FLAG HOT WATER BOTTLE</td>\n",
       "      <td>6</td>\n",
       "      <td>2010-12-01 08:26:00</td>\n",
       "      <td>3.39</td>\n",
       "      <td>17850</td>\n",
       "      <td>United Kingdom</td>\n",
       "      <td>20.34</td>\n",
       "      <td>2010</td>\n",
       "      <td>4</td>\n",
       "      <td>12</td>\n",
       "      <td>48</td>\n",
       "      <td>2</td>\n",
       "      <td>1</td>\n",
       "      <td>335</td>\n",
       "      <td>2010-12-01</td>\n",
       "    </tr>\n",
       "    <tr>\n",
       "      <th>4</th>\n",
       "      <td>536365</td>\n",
       "      <td>84029E</td>\n",
       "      <td>RED WOOLLY HOTTIE WHITE HEART.</td>\n",
       "      <td>6</td>\n",
       "      <td>2010-12-01 08:26:00</td>\n",
       "      <td>3.39</td>\n",
       "      <td>17850</td>\n",
       "      <td>United Kingdom</td>\n",
       "      <td>20.34</td>\n",
       "      <td>2010</td>\n",
       "      <td>4</td>\n",
       "      <td>12</td>\n",
       "      <td>48</td>\n",
       "      <td>2</td>\n",
       "      <td>1</td>\n",
       "      <td>335</td>\n",
       "      <td>2010-12-01</td>\n",
       "    </tr>\n",
       "  </tbody>\n",
       "</table>\n",
       "</div>"
      ]
     },
     "metadata": {},
     "execution_count": 15
    }
   ],
   "metadata": {
    "execution": {
     "iopub.execute_input": "2021-08-04T17:58:22.492992Z",
     "iopub.status.busy": "2021-08-04T17:58:22.492726Z",
     "iopub.status.idle": "2021-08-04T17:58:22.535246Z",
     "shell.execute_reply": "2021-08-04T17:58:22.534356Z",
     "shell.execute_reply.started": "2021-08-04T17:58:22.492944Z"
    }
   }
  },
  {
   "cell_type": "markdown",
   "source": [
    "### Q7 & Q8: Aggregate Revenue & Quantity across the grouped_features"
   ],
   "metadata": {}
  },
  {
   "cell_type": "code",
   "execution_count": null,
   "source": [
    "grouped_features = [\"Year\", \"Quarter\",\"Month\", \"Week\", \"Weekday\", \"Dayofyear\", \"Day\",\r\n",
    "                    \"StockCode\", \"Description\"]"
   ],
   "outputs": [],
   "metadata": {
    "execution": {
     "iopub.execute_input": "2021-08-04T21:09:18.303714Z",
     "iopub.status.busy": "2021-08-04T21:09:18.303201Z",
     "iopub.status.idle": "2021-08-04T21:09:18.308284Z",
     "shell.execute_reply": "2021-08-04T21:09:18.307721Z",
     "shell.execute_reply.started": "2021-08-04T21:09:18.303651Z"
    }
   }
  },
  {
   "cell_type": "code",
   "execution_count": null,
   "source": [
    "daily_data = pd.DataFrame(df.groupby(grouped_features).Quantity.sum(),\r\n",
    "                          columns=[\"Quantity\"])\r\n",
    "daily_data[\"Revenue\"] = df.groupby(grouped_features).Revenue.sum()\r\n",
    "daily_data = daily_data.reset_index()\r\n",
    "daily_data.head()"
   ],
   "outputs": [
    {
     "output_type": "execute_result",
     "data": {
      "text/plain": [
       "   Year  Quarter  Month  Week  Weekday  Dayofyear  Day StockCode  \\\n",
       "0  2010        4     12    48        2        335    1     10002   \n",
       "1  2010        4     12    48        2        335    1     10125   \n",
       "2  2010        4     12    48        2        335    1     10133   \n",
       "3  2010        4     12    48        2        335    1    15044B   \n",
       "4  2010        4     12    48        2        335    1   15056BL   \n",
       "\n",
       "                    Description  Quantity  Revenue  \n",
       "0   INFLATABLE POLITICAL GLOBE         60    51.00  \n",
       "1       MINI FUNKY DESIGN TAPES         2     1.70  \n",
       "2  COLOURING PENCILS BROWN TUBE         5     4.25  \n",
       "3           BLUE PAPER PARASOL          1     2.95  \n",
       "4       EDWARDIAN PARASOL BLACK        20   113.00  "
      ],
      "text/html": [
       "<div>\n",
       "<style scoped>\n",
       "    .dataframe tbody tr th:only-of-type {\n",
       "        vertical-align: middle;\n",
       "    }\n",
       "\n",
       "    .dataframe tbody tr th {\n",
       "        vertical-align: top;\n",
       "    }\n",
       "\n",
       "    .dataframe thead th {\n",
       "        text-align: right;\n",
       "    }\n",
       "</style>\n",
       "<table border=\"1\" class=\"dataframe\">\n",
       "  <thead>\n",
       "    <tr style=\"text-align: right;\">\n",
       "      <th></th>\n",
       "      <th>Year</th>\n",
       "      <th>Quarter</th>\n",
       "      <th>Month</th>\n",
       "      <th>Week</th>\n",
       "      <th>Weekday</th>\n",
       "      <th>Dayofyear</th>\n",
       "      <th>Day</th>\n",
       "      <th>StockCode</th>\n",
       "      <th>Description</th>\n",
       "      <th>Quantity</th>\n",
       "      <th>Revenue</th>\n",
       "    </tr>\n",
       "  </thead>\n",
       "  <tbody>\n",
       "    <tr>\n",
       "      <th>0</th>\n",
       "      <td>2010</td>\n",
       "      <td>4</td>\n",
       "      <td>12</td>\n",
       "      <td>48</td>\n",
       "      <td>2</td>\n",
       "      <td>335</td>\n",
       "      <td>1</td>\n",
       "      <td>10002</td>\n",
       "      <td>INFLATABLE POLITICAL GLOBE</td>\n",
       "      <td>60</td>\n",
       "      <td>51.00</td>\n",
       "    </tr>\n",
       "    <tr>\n",
       "      <th>1</th>\n",
       "      <td>2010</td>\n",
       "      <td>4</td>\n",
       "      <td>12</td>\n",
       "      <td>48</td>\n",
       "      <td>2</td>\n",
       "      <td>335</td>\n",
       "      <td>1</td>\n",
       "      <td>10125</td>\n",
       "      <td>MINI FUNKY DESIGN TAPES</td>\n",
       "      <td>2</td>\n",
       "      <td>1.70</td>\n",
       "    </tr>\n",
       "    <tr>\n",
       "      <th>2</th>\n",
       "      <td>2010</td>\n",
       "      <td>4</td>\n",
       "      <td>12</td>\n",
       "      <td>48</td>\n",
       "      <td>2</td>\n",
       "      <td>335</td>\n",
       "      <td>1</td>\n",
       "      <td>10133</td>\n",
       "      <td>COLOURING PENCILS BROWN TUBE</td>\n",
       "      <td>5</td>\n",
       "      <td>4.25</td>\n",
       "    </tr>\n",
       "    <tr>\n",
       "      <th>3</th>\n",
       "      <td>2010</td>\n",
       "      <td>4</td>\n",
       "      <td>12</td>\n",
       "      <td>48</td>\n",
       "      <td>2</td>\n",
       "      <td>335</td>\n",
       "      <td>1</td>\n",
       "      <td>15044B</td>\n",
       "      <td>BLUE PAPER PARASOL</td>\n",
       "      <td>1</td>\n",
       "      <td>2.95</td>\n",
       "    </tr>\n",
       "    <tr>\n",
       "      <th>4</th>\n",
       "      <td>2010</td>\n",
       "      <td>4</td>\n",
       "      <td>12</td>\n",
       "      <td>48</td>\n",
       "      <td>2</td>\n",
       "      <td>335</td>\n",
       "      <td>1</td>\n",
       "      <td>15056BL</td>\n",
       "      <td>EDWARDIAN PARASOL BLACK</td>\n",
       "      <td>20</td>\n",
       "      <td>113.00</td>\n",
       "    </tr>\n",
       "  </tbody>\n",
       "</table>\n",
       "</div>"
      ]
     },
     "metadata": {},
     "execution_count": 17
    }
   ],
   "metadata": {
    "execution": {
     "iopub.execute_input": "2021-08-04T21:09:18.497482Z",
     "iopub.status.busy": "2021-08-04T21:09:18.496923Z",
     "iopub.status.idle": "2021-08-04T21:09:18.931512Z",
     "shell.execute_reply": "2021-08-04T21:09:18.930549Z",
     "shell.execute_reply.started": "2021-08-04T21:09:18.497422Z"
    }
   }
  },
  {
   "cell_type": "markdown",
   "source": [
    "## (Optional Part)\n",
    "#### You Can go on with the Modelling part using any type of \n",
    "  - ML model \n",
    "  - features pre-processing \n",
    "  - Loss function\n",
    "\n",
    "as mentioned in the Questions"
   ],
   "metadata": {}
  },
  {
   "cell_type": "markdown",
   "source": [
    "### Modelling"
   ],
   "metadata": {}
  },
  {
   "cell_type": "code",
   "execution_count": null,
   "source": [],
   "outputs": [],
   "metadata": {}
  },
  {
   "cell_type": "markdown",
   "source": [
    "# Great Job\n",
    "### Now go through the Food Review Notebook"
   ],
   "metadata": {}
  }
 ],
 "metadata": {
  "kernelspec": {
   "name": "python3",
   "display_name": "Python 3.8.5 32-bit"
  },
  "language_info": {
   "codemirror_mode": {
    "name": "ipython",
    "version": 3
   },
   "file_extension": ".py",
   "mimetype": "text/x-python",
   "name": "python",
   "nbconvert_exporter": "python",
   "pygments_lexer": "ipython3",
   "version": "3.8.5"
  },
  "interpreter": {
   "hash": "199c1e6e552ba01c3775ed03deb117690ca3b2a76406d14e0c8dc408206cfde0"
  }
 },
 "nbformat": 4,
 "nbformat_minor": 4
}